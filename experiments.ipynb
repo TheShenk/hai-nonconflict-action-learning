{
 "cells": [
  {
   "cell_type": "markdown",
   "source": [
    "# Installation"
   ],
   "metadata": {
    "id": "jrvQYw2rm1Br"
   }
  },
  {
   "cell_type": "code",
   "source": [
    "!git clone https://github.com/TheShenk/hai-nonconflict-action-learning.git"
   ],
   "metadata": {
    "colab": {
     "base_uri": "https://localhost:8080/"
    },
    "id": "W5tk5v84lCCW",
    "outputId": "d6edcabe-439a-449e-bb10-e5eb0a1485d0"
   },
   "execution_count": 2,
   "outputs": [
    {
     "output_type": "stream",
     "name": "stdout",
     "text": [
      "Cloning into 'hai-nonconflict-action-learning'...\n",
      "remote: Enumerating objects: 83, done.\u001B[K\n",
      "remote: Counting objects:   1% (1/53)\u001B[K\rremote: Counting objects:   3% (2/53)\u001B[K\rremote: Counting objects:   5% (3/53)\u001B[K\rremote: Counting objects:   7% (4/53)\u001B[K\rremote: Counting objects:   9% (5/53)\u001B[K\rremote: Counting objects:  11% (6/53)\u001B[K\rremote: Counting objects:  13% (7/53)\u001B[K\rremote: Counting objects:  15% (8/53)\u001B[K\rremote: Counting objects:  16% (9/53)\u001B[K\rremote: Counting objects:  18% (10/53)\u001B[K\rremote: Counting objects:  20% (11/53)\u001B[K\rremote: Counting objects:  22% (12/53)\u001B[K\rremote: Counting objects:  24% (13/53)\u001B[K\rremote: Counting objects:  26% (14/53)\u001B[K\rremote: Counting objects:  28% (15/53)\u001B[K\rremote: Counting objects:  30% (16/53)\u001B[K\rremote: Counting objects:  32% (17/53)\u001B[K\rremote: Counting objects:  33% (18/53)\u001B[K\rremote: Counting objects:  35% (19/53)\u001B[K\rremote: Counting objects:  37% (20/53)\u001B[K\rremote: Counting objects:  39% (21/53)\u001B[K\rremote: Counting objects:  41% (22/53)\u001B[K\rremote: Counting objects:  43% (23/53)\u001B[K\rremote: Counting objects:  45% (24/53)\u001B[K\rremote: Counting objects:  47% (25/53)\u001B[K\rremote: Counting objects:  49% (26/53)\u001B[K\rremote: Counting objects:  50% (27/53)\u001B[K\rremote: Counting objects:  52% (28/53)\u001B[K\rremote: Counting objects:  54% (29/53)\u001B[K\rremote: Counting objects:  56% (30/53)\u001B[K\rremote: Counting objects:  58% (31/53)\u001B[K\rremote: Counting objects:  60% (32/53)\u001B[K\rremote: Counting objects:  62% (33/53)\u001B[K\rremote: Counting objects:  64% (34/53)\u001B[K\rremote: Counting objects:  66% (35/53)\u001B[K\rremote: Counting objects:  67% (36/53)\u001B[K\rremote: Counting objects:  69% (37/53)\u001B[K\rremote: Counting objects:  71% (38/53)\u001B[K\rremote: Counting objects:  73% (39/53)\u001B[K\rremote: Counting objects:  75% (40/53)\u001B[K\rremote: Counting objects:  77% (41/53)\u001B[K\rremote: Counting objects:  79% (42/53)\u001B[K\rremote: Counting objects:  81% (43/53)\u001B[K\rremote: Counting objects:  83% (44/53)\u001B[K\rremote: Counting objects:  84% (45/53)\u001B[K\rremote: Counting objects:  86% (46/53)\u001B[K\rremote: Counting objects:  88% (47/53)\u001B[K\rremote: Counting objects:  90% (48/53)\u001B[K\rremote: Counting objects:  92% (49/53)\u001B[K\rremote: Counting objects:  94% (50/53)\u001B[K\rremote: Counting objects:  96% (51/53)\u001B[K\rremote: Counting objects:  98% (52/53)\u001B[K\rremote: Counting objects: 100% (53/53)\u001B[K\rremote: Counting objects: 100% (53/53), done.\u001B[K\n",
      "remote: Compressing objects: 100% (35/35), done.\u001B[K\n",
      "remote: Total 83 (delta 25), reused 43 (delta 17), pack-reused 30\u001B[K\n",
      "Unpacking objects: 100% (83/83), done.\n"
     ]
    }
   ]
  },
  {
   "cell_type": "code",
   "source": [
    "!cd hai-nonconflict-action-learning/"
   ],
   "metadata": {
    "colab": {
     "base_uri": "https://localhost:8080/"
    },
    "id": "_Zik3hfPlTUx",
    "outputId": "d9764c78-2ec4-45d0-eeb0-3858441de7e0"
   },
   "execution_count": 1,
   "outputs": [
    {
     "output_type": "stream",
     "name": "stdout",
     "text": [
      "/content/hai-nonconflict-action-learning\n"
     ]
    }
   ]
  },
  {
   "cell_type": "code",
   "source": [
    "!pip install stable-baselines3[extra] pymunk pygame"
   ],
   "metadata": {
    "colab": {
     "base_uri": "https://localhost:8080/"
    },
    "id": "_SY27KbSll5M",
    "outputId": "12c83f0d-7312-4abe-e033-fb69e9424b0d"
   },
   "execution_count": 2,
   "outputs": [
    {
     "output_type": "stream",
     "name": "stdout",
     "text": [
      "Looking in indexes: https://pypi.org/simple, https://us-python.pkg.dev/colab-wheels/public/simple/\n",
      "Requirement already satisfied: stable-baselines3[extra] in /usr/local/lib/python3.7/dist-packages (1.6.2)\n",
      "Requirement already satisfied: pymunk in /usr/local/lib/python3.7/dist-packages (6.4.0)\n",
      "Requirement already satisfied: pygame in /usr/local/lib/python3.7/dist-packages (2.1.2)\n",
      "Requirement already satisfied: cffi>=1.15.0 in /usr/local/lib/python3.7/dist-packages (from pymunk) (1.15.1)\n",
      "Requirement already satisfied: pycparser in /usr/local/lib/python3.7/dist-packages (from cffi>=1.15.0->pymunk) (2.21)\n",
      "Requirement already satisfied: numpy in /usr/local/lib/python3.7/dist-packages (from stable-baselines3[extra]) (1.21.6)\n",
      "Requirement already satisfied: cloudpickle in /usr/local/lib/python3.7/dist-packages (from stable-baselines3[extra]) (1.5.0)\n",
      "Requirement already satisfied: gym==0.21 in /usr/local/lib/python3.7/dist-packages (from stable-baselines3[extra]) (0.21.0)\n",
      "Requirement already satisfied: matplotlib in /usr/local/lib/python3.7/dist-packages (from stable-baselines3[extra]) (3.2.2)\n",
      "Requirement already satisfied: torch>=1.11 in /usr/local/lib/python3.7/dist-packages (from stable-baselines3[extra]) (1.12.1+cu113)\n",
      "Requirement already satisfied: importlib-metadata~=4.13 in /usr/local/lib/python3.7/dist-packages (from stable-baselines3[extra]) (4.13.0)\n",
      "Requirement already satisfied: pandas in /usr/local/lib/python3.7/dist-packages (from stable-baselines3[extra]) (1.3.5)\n",
      "Requirement already satisfied: psutil in /usr/local/lib/python3.7/dist-packages (from stable-baselines3[extra]) (5.4.8)\n",
      "Requirement already satisfied: tqdm in /usr/local/lib/python3.7/dist-packages (from stable-baselines3[extra]) (4.64.1)\n",
      "Requirement already satisfied: ale-py==0.7.4 in /usr/local/lib/python3.7/dist-packages (from stable-baselines3[extra]) (0.7.4)\n",
      "Requirement already satisfied: autorom[accept-rom-license]~=0.4.2 in /usr/local/lib/python3.7/dist-packages (from stable-baselines3[extra]) (0.4.2)\n",
      "Requirement already satisfied: rich in /usr/local/lib/python3.7/dist-packages (from stable-baselines3[extra]) (12.6.0)\n",
      "Requirement already satisfied: pillow in /usr/local/lib/python3.7/dist-packages (from stable-baselines3[extra]) (7.1.2)\n",
      "Requirement already satisfied: tensorboard>=2.9.1 in /usr/local/lib/python3.7/dist-packages (from stable-baselines3[extra]) (2.9.1)\n",
      "Requirement already satisfied: opencv-python in /usr/local/lib/python3.7/dist-packages (from stable-baselines3[extra]) (4.6.0.66)\n",
      "Requirement already satisfied: importlib-resources in /usr/local/lib/python3.7/dist-packages (from ale-py==0.7.4->stable-baselines3[extra]) (5.10.0)\n",
      "Requirement already satisfied: click in /usr/local/lib/python3.7/dist-packages (from autorom[accept-rom-license]~=0.4.2->stable-baselines3[extra]) (7.1.2)\n",
      "Requirement already satisfied: requests in /usr/local/lib/python3.7/dist-packages (from autorom[accept-rom-license]~=0.4.2->stable-baselines3[extra]) (2.23.0)\n",
      "Requirement already satisfied: AutoROM.accept-rom-license in /usr/local/lib/python3.7/dist-packages (from autorom[accept-rom-license]~=0.4.2->stable-baselines3[extra]) (0.4.2)\n",
      "Requirement already satisfied: zipp>=0.5 in /usr/local/lib/python3.7/dist-packages (from importlib-metadata~=4.13->stable-baselines3[extra]) (3.10.0)\n",
      "Requirement already satisfied: typing-extensions>=3.6.4 in /usr/local/lib/python3.7/dist-packages (from importlib-metadata~=4.13->stable-baselines3[extra]) (4.1.1)\n",
      "Requirement already satisfied: google-auth<3,>=1.6.3 in /usr/local/lib/python3.7/dist-packages (from tensorboard>=2.9.1->stable-baselines3[extra]) (2.14.1)\n",
      "Requirement already satisfied: tensorboard-plugin-wit>=1.6.0 in /usr/local/lib/python3.7/dist-packages (from tensorboard>=2.9.1->stable-baselines3[extra]) (1.8.1)\n",
      "Requirement already satisfied: wheel>=0.26 in /usr/local/lib/python3.7/dist-packages (from tensorboard>=2.9.1->stable-baselines3[extra]) (0.38.4)\n",
      "Requirement already satisfied: tensorboard-data-server<0.7.0,>=0.6.0 in /usr/local/lib/python3.7/dist-packages (from tensorboard>=2.9.1->stable-baselines3[extra]) (0.6.1)\n",
      "Requirement already satisfied: google-auth-oauthlib<0.5,>=0.4.1 in /usr/local/lib/python3.7/dist-packages (from tensorboard>=2.9.1->stable-baselines3[extra]) (0.4.6)\n",
      "Requirement already satisfied: protobuf<3.20,>=3.9.2 in /usr/local/lib/python3.7/dist-packages (from tensorboard>=2.9.1->stable-baselines3[extra]) (3.19.6)\n",
      "Requirement already satisfied: markdown>=2.6.8 in /usr/local/lib/python3.7/dist-packages (from tensorboard>=2.9.1->stable-baselines3[extra]) (3.4.1)\n",
      "Requirement already satisfied: grpcio>=1.24.3 in /usr/local/lib/python3.7/dist-packages (from tensorboard>=2.9.1->stable-baselines3[extra]) (1.50.0)\n",
      "Requirement already satisfied: setuptools>=41.0.0 in /usr/local/lib/python3.7/dist-packages (from tensorboard>=2.9.1->stable-baselines3[extra]) (57.4.0)\n",
      "Requirement already satisfied: werkzeug>=1.0.1 in /usr/local/lib/python3.7/dist-packages (from tensorboard>=2.9.1->stable-baselines3[extra]) (1.0.1)\n",
      "Requirement already satisfied: absl-py>=0.4 in /usr/local/lib/python3.7/dist-packages (from tensorboard>=2.9.1->stable-baselines3[extra]) (1.3.0)\n",
      "Requirement already satisfied: cachetools<6.0,>=2.0.0 in /usr/local/lib/python3.7/dist-packages (from google-auth<3,>=1.6.3->tensorboard>=2.9.1->stable-baselines3[extra]) (5.2.0)\n",
      "Requirement already satisfied: six>=1.9.0 in /usr/local/lib/python3.7/dist-packages (from google-auth<3,>=1.6.3->tensorboard>=2.9.1->stable-baselines3[extra]) (1.15.0)\n",
      "Requirement already satisfied: pyasn1-modules>=0.2.1 in /usr/local/lib/python3.7/dist-packages (from google-auth<3,>=1.6.3->tensorboard>=2.9.1->stable-baselines3[extra]) (0.2.8)\n",
      "Requirement already satisfied: rsa<5,>=3.1.4 in /usr/local/lib/python3.7/dist-packages (from google-auth<3,>=1.6.3->tensorboard>=2.9.1->stable-baselines3[extra]) (4.9)\n",
      "Requirement already satisfied: requests-oauthlib>=0.7.0 in /usr/local/lib/python3.7/dist-packages (from google-auth-oauthlib<0.5,>=0.4.1->tensorboard>=2.9.1->stable-baselines3[extra]) (1.3.1)\n",
      "Requirement already satisfied: pyasn1<0.5.0,>=0.4.6 in /usr/local/lib/python3.7/dist-packages (from pyasn1-modules>=0.2.1->google-auth<3,>=1.6.3->tensorboard>=2.9.1->stable-baselines3[extra]) (0.4.8)\n",
      "Requirement already satisfied: certifi>=2017.4.17 in /usr/local/lib/python3.7/dist-packages (from requests->autorom[accept-rom-license]~=0.4.2->stable-baselines3[extra]) (2022.9.24)\n",
      "Requirement already satisfied: urllib3!=1.25.0,!=1.25.1,<1.26,>=1.21.1 in /usr/local/lib/python3.7/dist-packages (from requests->autorom[accept-rom-license]~=0.4.2->stable-baselines3[extra]) (1.24.3)\n",
      "Requirement already satisfied: idna<3,>=2.5 in /usr/local/lib/python3.7/dist-packages (from requests->autorom[accept-rom-license]~=0.4.2->stable-baselines3[extra]) (2.10)\n",
      "Requirement already satisfied: chardet<4,>=3.0.2 in /usr/local/lib/python3.7/dist-packages (from requests->autorom[accept-rom-license]~=0.4.2->stable-baselines3[extra]) (3.0.4)\n",
      "Requirement already satisfied: oauthlib>=3.0.0 in /usr/local/lib/python3.7/dist-packages (from requests-oauthlib>=0.7.0->google-auth-oauthlib<0.5,>=0.4.1->tensorboard>=2.9.1->stable-baselines3[extra]) (3.2.2)\n",
      "Requirement already satisfied: cycler>=0.10 in /usr/local/lib/python3.7/dist-packages (from matplotlib->stable-baselines3[extra]) (0.11.0)\n",
      "Requirement already satisfied: kiwisolver>=1.0.1 in /usr/local/lib/python3.7/dist-packages (from matplotlib->stable-baselines3[extra]) (1.4.4)\n",
      "Requirement already satisfied: python-dateutil>=2.1 in /usr/local/lib/python3.7/dist-packages (from matplotlib->stable-baselines3[extra]) (2.8.2)\n",
      "Requirement already satisfied: pyparsing!=2.0.4,!=2.1.2,!=2.1.6,>=2.0.1 in /usr/local/lib/python3.7/dist-packages (from matplotlib->stable-baselines3[extra]) (3.0.9)\n",
      "Requirement already satisfied: pytz>=2017.3 in /usr/local/lib/python3.7/dist-packages (from pandas->stable-baselines3[extra]) (2022.6)\n",
      "Requirement already satisfied: pygments<3.0.0,>=2.6.0 in /usr/local/lib/python3.7/dist-packages (from rich->stable-baselines3[extra]) (2.6.1)\n",
      "Requirement already satisfied: commonmark<0.10.0,>=0.9.0 in /usr/local/lib/python3.7/dist-packages (from rich->stable-baselines3[extra]) (0.9.1)\n"
     ]
    }
   ]
  },
  {
   "cell_type": "markdown",
   "source": [
    "# Imports"
   ],
   "metadata": {
    "id": "nCCHcMpnm7va"
   }
  },
  {
   "cell_type": "code",
   "execution_count": 3,
   "metadata": {
    "collapsed": true,
    "colab": {
     "base_uri": "https://localhost:8080/"
    },
    "id": "gwZk-Ov_ksw5",
    "outputId": "fee2669a-c342-4edd-9c0e-aeb3ac2187ee"
   },
   "outputs": [
    {
     "output_type": "stream",
     "name": "stdout",
     "text": [
      "pygame 2.1.2 (SDL 2.0.16, Python 3.7.15)\n",
      "Hello from the pygame community. https://www.pygame.org/contribute.html\n"
     ]
    }
   ],
   "source": [
    "import gym\n",
    "import gym_futbol\n",
    "import numpy as np\n",
    "import matplotlib.pyplot as plt\n",
    "from stable_baselines3 import A2C\n",
    "from stable_baselines3.common.env_util import make_vec_env\n",
    "import utils\n",
    "from multiagent import MultiAgentModelProxy"
   ]
  },
  {
   "cell_type": "markdown",
   "source": [
    "# Basics"
   ],
   "metadata": {
    "collapsed": false,
    "id": "E3XW5p1Mksw8"
   }
  },
  {
   "cell_type": "code",
   "execution_count": 4,
   "outputs": [
    {
     "output_type": "display_data",
     "data": {
      "text/plain": [
       "<Figure size 432x288 with 1 Axes>"
      ],
      "image/png": "[encoded data removed]"
     },
     "metadata": {
      "needs_background": "light"
     }
    }
   ],
   "source": [
    "env = gym.make(\"Futbol2v2-v1\")\n",
    "env.render()"
   ],
   "metadata": {
    "colab": {
     "base_uri": "https://localhost:8080/",
     "height": 265
    },
    "id": "NnG8rufAksw_",
    "outputId": "3e62f235-6d17-4016-9513-37aa278b34e6"
   }
  },
  {
   "cell_type": "code",
   "execution_count": 5,
   "outputs": [
    {
     "output_type": "execute_result",
     "data": {
      "text/plain": [
       "MultiDiscrete([5 5 5 5])"
      ]
     },
     "metadata": {},
     "execution_count": 5
    }
   ],
   "source": [
    "env.action_space"
   ],
   "metadata": {
    "colab": {
     "base_uri": "https://localhost:8080/"
    },
    "id": "6nk5DhZjksxA",
    "outputId": "897ffb81-cbb8-45ce-934e-f9da306314e8"
   }
  },
  {
   "cell_type": "code",
   "execution_count": 6,
   "outputs": [],
   "source": [
    "from stable_baselines3.common.env_checker import check_env\n",
    "check_env(env)"
   ],
   "metadata": {
    "id": "TcOkTMdoksxB"
   }
  },
  {
   "cell_type": "markdown",
   "source": [
    "# Learning model"
   ],
   "metadata": {
    "collapsed": false,
    "id": "rPI-rDkmksxC"
   }
  },
  {
   "cell_type": "code",
   "execution_count": 7,
   "outputs": [],
   "source": [
    "log_dir = \"logs/\"\n",
    "timesteps = 10000"
   ],
   "metadata": {
    "id": "bkN7ToTlksxD"
   }
  },
  {
   "cell_type": "code",
   "execution_count": 8,
   "outputs": [
    {
     "output_type": "display_data",
     "data": {
      "text/plain": [
       "Output()"
      ],
      "application/vnd.jupyter.widget-view+json": {
       "version_major": 2,
       "version_minor": 0,
       "model_id": "f466f8a5ec2f481888847e2b87cdba37"
      }
     },
     "metadata": {}
    },
    {
     "output_type": "display_data",
     "data": {
      "text/plain": [],
      "text/html": [
       "<pre style=\"white-space:pre;overflow-x:auto;line-height:normal;font-family:Menlo,'DejaVu Sans Mono',consolas,'Courier New',monospace\"></pre>\n"
      ]
     },
     "metadata": {}
    },
    {
     "output_type": "display_data",
     "data": {
      "text/plain": [
       "\n"
      ],
      "text/html": [
       "<pre style=\"white-space:pre;overflow-x:auto;line-height:normal;font-family:Menlo,'DejaVu Sans Mono',consolas,'Courier New',monospace\">\n",
       "</pre>\n"
      ]
     },
     "metadata": {}
    },
    {
     "output_type": "stream",
     "name": "stderr",
     "text": [
      "/usr/local/lib/python3.7/dist-packages/stable_baselines3/common/save_util.py:276: UserWarning: Path 'models' does not exist. Will create it.\n",
      "  warnings.warn(f\"Path '{path.parent}' does not exist. Will create it.\")\n"
     ]
    }
   ],
   "source": [
    "from stable_baselines3.common.env_util import make_vec_env\n",
    "\n",
    "env = gym.make(\"Futbol2v2-v1\")\n",
    "env = make_vec_env(lambda: env, n_envs=4, monitor_dir=log_dir)\n",
    "model = A2C(\"MlpPolicy\", env, device='cpu')\n",
    "model.learn(timesteps, progress_bar=True)\n",
    "model.save(\"models/footbol2v2-a2c\")"
   ],
   "metadata": {
    "colab": {
     "base_uri": "https://localhost:8080/",
     "height": 69,
     "referenced_widgets": [
      "f466f8a5ec2f481888847e2b87cdba37",
      "4642a4b3ccf349659444fde720c2d466"
     ]
    },
    "id": "mHbvP57YksxD",
    "outputId": "45f97807-63cd-4c86-9995-6513f40fc919"
   }
  },
  {
   "cell_type": "markdown",
   "source": [
    "# Display model statistic"
   ],
   "metadata": {
    "collapsed": false,
    "id": "2C5WeUZTksxF"
   }
  },
  {
   "cell_type": "code",
   "execution_count": 9,
   "outputs": [
    {
     "output_type": "stream",
     "name": "stdout",
     "text": [
      "    index            r   l         t\n",
      "0       0   378.187545  75  0.433466\n",
      "1       1   202.557519  75  0.694200\n",
      "2       2   250.331103  75  0.903086\n",
      "3       3  1100.582049  75  1.113872\n",
      "4       4   145.750987  75  1.330194\n",
      "5       5   104.665595  75  1.537557\n",
      "6       6   138.923169  75  1.757039\n",
      "7       7   202.112402  75  1.956216\n",
      "8       8   227.618744  75  2.143835\n",
      "9       9 -1123.808351  75  2.356831\n",
      "10     10 -1052.554090  75  2.593371\n",
      "11     11  1244.136965  75  2.820535\n",
      "12     12  1307.482632  75  3.024799\n",
      "13     13   310.494151  75  3.265105\n",
      "14     14  -181.797039  75  3.464293\n",
      "15     15   167.820157  75  3.704768\n",
      "16     16   119.051271  75  3.942236\n",
      "17     17  -939.483295  75  4.159012\n",
      "18     18   104.184209  75  4.368962\n",
      "19     19  -191.653801  75  4.584866\n",
      "20     20   246.212210  75  4.810412\n",
      "21     21   -72.501770  75  5.026745\n",
      "22     22    96.785771  75  5.237787\n",
      "23     23   332.081610  75  5.440113\n",
      "24     24   -33.221804  75  5.656345\n",
      "25     25    11.548320  75  5.869731\n",
      "26     26  1350.268019  75  6.104617\n",
      "27     27   238.287662  75  6.319577\n",
      "28     28     9.135118  75  6.528239\n",
      "29     29   309.577369  75  6.763812\n",
      "30     30   216.619965  75  6.981002\n",
      "31     31     1.715054  75  7.193130\n",
      "32     32 -1049.237041  75  7.406215\n"
     ]
    },
    {
     "output_type": "display_data",
     "data": {
      "text/plain": [
       "<Figure size 576x144 with 1 Axes>"
      ],
      "image/png": "[encoded data removed]"
     },
     "metadata": {
      "needs_background": "light"
     }
    }
   ],
   "source": [
    "from IPython import display\n",
    "from stable_baselines3.common import results_plotter\n",
    "\n",
    "results_plotter.plot_results([log_dir], timesteps, results_plotter.X_EPISODES, \"Futbol2v2-v1\")\n",
    "display.display(plt.gcf())\n",
    "display.clear_output(wait=True)\n",
    "\n",
    "log_data = results_plotter.load_results(log_dir)\n",
    "print(log_data)"
   ],
   "metadata": {
    "colab": {
     "base_uri": "https://localhost:8080/",
     "height": 743
    },
    "id": "45pY0crsksxH",
    "outputId": "e40e4200-0744-46f4-9baf-03baf1f85aa8"
   }
  },
  {
   "cell_type": "markdown",
   "source": [
    "# Load model from file"
   ],
   "metadata": {
    "collapsed": false,
    "id": "ibGWimnSksxI"
   }
  },
  {
   "cell_type": "code",
   "execution_count": 10,
   "outputs": [],
   "source": [
    "model = A2C.load(\"models/footbol2v2-a2c\", device=\"cpu\")"
   ],
   "metadata": {
    "id": "FqGmYmxqksxJ"
   }
  },
  {
   "cell_type": "markdown",
   "source": [
    "# Run models"
   ],
   "metadata": {
    "collapsed": false,
    "id": "0yViYQDSksxK"
   }
  },
  {
   "cell_type": "markdown",
   "source": [
    "## Pygame\n",
    "Run game with model in new windows with pygame"
   ],
   "metadata": {
    "collapsed": false,
    "id": "qKmF2TgEksxK"
   }
  },
  {
   "cell_type": "code",
   "execution_count": 11,
   "outputs": [
    {
     "output_type": "error",
     "ename": "error",
     "evalue": "ignored",
     "traceback": [
      "\u001B[0;31m---------------------------------------------------------------------------\u001B[0m",
      "\u001B[0;31merror\u001B[0m                                     Traceback (most recent call last)",
      "\u001B[0;32m<ipython-input-11-de528b1f6f68>\u001B[0m in \u001B[0;36m<module>\u001B[0;34m\u001B[0m\n\u001B[1;32m      3\u001B[0m \u001B[0;34m\u001B[0m\u001B[0m\n\u001B[1;32m      4\u001B[0m \u001B[0menv\u001B[0m \u001B[0;34m=\u001B[0m \u001B[0mgym\u001B[0m\u001B[0;34m.\u001B[0m\u001B[0mmake\u001B[0m\u001B[0;34m(\u001B[0m\u001B[0;34m\"Futbol2v2-v1\"\u001B[0m\u001B[0;34m,\u001B[0m \u001B[0mwidth\u001B[0m\u001B[0;34m=\u001B[0m\u001B[0mWIDTH\u001B[0m\u001B[0;34m-\u001B[0m\u001B[0;36m2\u001B[0m\u001B[0;34m,\u001B[0m \u001B[0mheight\u001B[0m\u001B[0;34m=\u001B[0m\u001B[0mHEIGHT\u001B[0m\u001B[0;34m-\u001B[0m\u001B[0;36m2\u001B[0m\u001B[0;34m,\u001B[0m \u001B[0mplayer_radius\u001B[0m\u001B[0;34m=\u001B[0m\u001B[0;36m15\u001B[0m\u001B[0;34m,\u001B[0m \u001B[0mball_radius\u001B[0m\u001B[0;34m=\u001B[0m\u001B[0;36m5\u001B[0m\u001B[0;34m)\u001B[0m\u001B[0;34m\u001B[0m\u001B[0;34m\u001B[0m\u001B[0m\n\u001B[0;32m----> 5\u001B[0;31m \u001B[0mvisualizer\u001B[0m \u001B[0;34m=\u001B[0m \u001B[0mutils\u001B[0m\u001B[0;34m.\u001B[0m\u001B[0mPygameVisualizer\u001B[0m\u001B[0;34m(\u001B[0m\u001B[0menv\u001B[0m\u001B[0;34m,\u001B[0m \u001B[0mFPS\u001B[0m\u001B[0;34m)\u001B[0m\u001B[0;34m\u001B[0m\u001B[0;34m\u001B[0m\u001B[0m\n\u001B[0m\u001B[1;32m      6\u001B[0m \u001B[0mvisualizer\u001B[0m\u001B[0;34m.\u001B[0m\u001B[0mrun\u001B[0m\u001B[0;34m(\u001B[0m\u001B[0mmodel\u001B[0m\u001B[0;34m)\u001B[0m\u001B[0;34m\u001B[0m\u001B[0;34m\u001B[0m\u001B[0m\n\u001B[1;32m      7\u001B[0m \u001B[0;34m\u001B[0m\u001B[0m\n",
      "\u001B[0;32m/content/hai-nonconflict-action-learning/utils.py\u001B[0m in \u001B[0;36m__init__\u001B[0;34m(self, env, fps)\u001B[0m\n\u001B[1;32m     39\u001B[0m         \u001B[0msuper\u001B[0m\u001B[0;34m(\u001B[0m\u001B[0;34m)\u001B[0m\u001B[0;34m.\u001B[0m\u001B[0m__init__\u001B[0m\u001B[0;34m(\u001B[0m\u001B[0menv\u001B[0m\u001B[0;34m)\u001B[0m\u001B[0;34m\u001B[0m\u001B[0;34m\u001B[0m\u001B[0m\n\u001B[1;32m     40\u001B[0m         \u001B[0mpygame\u001B[0m\u001B[0;34m.\u001B[0m\u001B[0minit\u001B[0m\u001B[0;34m(\u001B[0m\u001B[0;34m)\u001B[0m\u001B[0;34m\u001B[0m\u001B[0;34m\u001B[0m\u001B[0m\n\u001B[0;32m---> 41\u001B[0;31m         \u001B[0mself\u001B[0m\u001B[0;34m.\u001B[0m\u001B[0msurface\u001B[0m \u001B[0;34m=\u001B[0m \u001B[0mpygame\u001B[0m\u001B[0;34m.\u001B[0m\u001B[0mdisplay\u001B[0m\u001B[0;34m.\u001B[0m\u001B[0mset_mode\u001B[0m\u001B[0;34m(\u001B[0m\u001B[0;34m(\u001B[0m\u001B[0mself\u001B[0m\u001B[0;34m.\u001B[0m\u001B[0menv\u001B[0m\u001B[0;34m.\u001B[0m\u001B[0mwidth\u001B[0m\u001B[0;34m,\u001B[0m \u001B[0mself\u001B[0m\u001B[0;34m.\u001B[0m\u001B[0menv\u001B[0m\u001B[0;34m.\u001B[0m\u001B[0mheight\u001B[0m\u001B[0;34m)\u001B[0m\u001B[0;34m)\u001B[0m\u001B[0;34m\u001B[0m\u001B[0;34m\u001B[0m\u001B[0m\n\u001B[0m\u001B[1;32m     42\u001B[0m         \u001B[0mself\u001B[0m\u001B[0;34m.\u001B[0m\u001B[0mclock\u001B[0m \u001B[0;34m=\u001B[0m \u001B[0mpygame\u001B[0m\u001B[0;34m.\u001B[0m\u001B[0mtime\u001B[0m\u001B[0;34m.\u001B[0m\u001B[0mClock\u001B[0m\u001B[0;34m(\u001B[0m\u001B[0;34m)\u001B[0m\u001B[0;34m\u001B[0m\u001B[0;34m\u001B[0m\u001B[0m\n\u001B[1;32m     43\u001B[0m         \u001B[0mself\u001B[0m\u001B[0;34m.\u001B[0m\u001B[0mdraw_options\u001B[0m \u001B[0;34m=\u001B[0m \u001B[0mpymunk\u001B[0m\u001B[0;34m.\u001B[0m\u001B[0mpygame_util\u001B[0m\u001B[0;34m.\u001B[0m\u001B[0mDrawOptions\u001B[0m\u001B[0;34m(\u001B[0m\u001B[0mself\u001B[0m\u001B[0;34m.\u001B[0m\u001B[0msurface\u001B[0m\u001B[0;34m)\u001B[0m\u001B[0;34m\u001B[0m\u001B[0;34m\u001B[0m\u001B[0m\n",
      "\u001B[0;31merror\u001B[0m: No available video device"
     ]
    }
   ],
   "source": [
    "RES = WIDTH, HEIGHT = 600, 600\n",
    "FPS = 60\n",
    "\n",
    "env = gym.make(\"Futbol2v2-v1\", width=WIDTH-2, height=HEIGHT-2, player_radius=15, ball_radius=5)\n",
    "visualizer = utils.PygameVisualizer(env, FPS)\n",
    "visualizer.run(model)\n",
    "\n",
    "env.close()\n",
    "visualizer.close()"
   ],
   "metadata": {
    "colab": {
     "base_uri": "https://localhost:8080/",
     "height": 360
    },
    "id": "Vx1-BfgrksxL",
    "outputId": "22ce6b65-b5fa-4071-a006-7dae2720c3db"
   }
  },
  {
   "cell_type": "markdown",
   "source": [
    "## Matplotlib\n",
    "Run model in notebook with matplotlib"
   ],
   "metadata": {
    "collapsed": false,
    "id": "kMQKe7LhksxL"
   }
  },
  {
   "cell_type": "code",
   "execution_count": 13,
   "outputs": [
    {
     "output_type": "display_data",
     "data": {
      "text/plain": [
       "<Figure size 432x288 with 1 Axes>"
      ],
      "image/png": "[encoded data removed]"
     },
     "metadata": {
      "needs_background": "light"
     }
    }
   ],
   "source": [
    "env = gym.make(\"Futbol2v2-v1\")\n",
    "\n",
    "visualizer = utils.MatplotlibVisualizer(env)\n",
    "visualizer.run(model)\n",
    "\n",
    "env.close()"
   ],
   "metadata": {
    "colab": {
     "base_uri": "https://localhost:8080/",
     "height": 281
    },
    "id": "ZoINV4ZxksxM",
    "outputId": "d51b0a57-5dee-4344-d75d-59a3fa762f1a"
   }
  },
  {
   "cell_type": "markdown",
   "source": [
    "# MultiAgent"
   ],
   "metadata": {
    "collapsed": false,
    "id": "UzMc2_1DksxN"
   }
  },
  {
   "cell_type": "markdown",
   "source": [
    "## Learn"
   ],
   "metadata": {
    "collapsed": false,
    "id": "2U27QN6rksxN"
   }
  },
  {
   "cell_type": "code",
   "execution_count": 14,
   "outputs": [],
   "source": [
    "env = make_vec_env(lambda: gym.make(\"Futbol2v2-v1\"), n_envs=1)\n",
    "\n",
    "models = [\n",
    "    MultiAgentModelProxy(A2C(\"MlpPolicy\",\n",
    "                             utils.TransformAction(env, lambda a: a[:2], gym.spaces.MultiDiscrete([5, 5])),\n",
    "                             device='cpu')),\n",
    "    MultiAgentModelProxy(A2C(\"MlpPolicy\",\n",
    "                             utils.TransformAction(env, lambda a: a[2:], gym.spaces.MultiDiscrete([5, 5])),\n",
    "                             device='cpu'))\n",
    "]\n",
    "\n",
    "timesteps = 100\n",
    "n_records_count = models[0].model.n_steps\n",
    "max_episode_reward = 0"
   ],
   "metadata": {
    "id": "7LUFt97PksxO"
   }
  },
  {
   "cell_type": "markdown",
   "source": [
    "### Rewrote learning cycle\n",
    "StableBaselines3 не поддерживает одновременное обучение нескольких агентов, это даже не ошибка по мнению разработчиков. Они считают, что в данном случае каждому пользователю необходимо самостоятельо переопределить цикл обучения (для не мультиагентных задач используется метод learn). Здесь представлен код, взятый из исходных кодов StableBaselines3, но адаптированный для многоагентных задач.\n",
    "В обычной ситуации, learn сам взаимодействует со средой. Но при существовании нескольких агентов нужно получить действие от каждого и только потом передавать их в среду. Именно это здесь и реализовано. Каждому агенту передается наблюдение от среды (в данной задаче оно одинаково для всех) и получается действие. Затем действия объеядиняются и передаются среде. Затем каждый агент обновляется с учетом полученных данных (метод record).\n",
    "Весь код, взятый из StableBaselines3 вынесен в класс MultiAgentModelProxy."
   ],
   "metadata": {
    "collapsed": false,
    "id": "2PAgx_NzksxP"
   }
  },
  {
   "cell_type": "code",
   "execution_count": 15,
   "outputs": [],
   "source": [
    "#TODO: рассмотреть возможность асинхронной среды\n",
    "#TODO: добавить вывод логов для последующего использования results_plotter"
   ],
   "metadata": {
    "id": "kIL8-Dy6ksxP"
   }
  },
  {
   "cell_type": "code",
   "execution_count": 16,
   "outputs": [
    {
     "output_type": "stream",
     "name": "stdout",
     "text": [
      "0 [-1248.6316]\n",
      "1 [2407.273]\n",
      "2 [1138.3268]\n",
      "3 [927.8263]\n",
      "4 [767.90106]\n",
      "5 [781.4138]\n",
      "6 [186.86232]\n",
      "7 [-844.1412]\n",
      "8 [-717.439]\n",
      "9 [786.90247]\n",
      "10 [1838.8083]\n",
      "11 [2022.0464]\n",
      "12 [906.10657]\n",
      "13 [2585.3801]\n",
      "14 [894.97687]\n",
      "15 [622.048]\n",
      "16 [856.2044]\n",
      "17 [547.0773]\n",
      "18 [2167.5347]\n",
      "19 [1074.0088]\n",
      "20 [2445.451]\n",
      "21 [2347.9258]\n",
      "22 [798.2438]\n",
      "23 [-980.4684]\n",
      "24 [718.5801]\n",
      "25 [916.4388]\n",
      "26 [822.0929]\n",
      "27 [1934.2527]\n",
      "28 [628.5814]\n",
      "29 [745.9365]\n",
      "30 [593.1816]\n",
      "31 [1442.6508]\n",
      "32 [252.14247]\n",
      "33 [519.4291]\n",
      "34 [1034.1631]\n",
      "35 [616.68915]\n",
      "36 [597.6482]\n",
      "37 [704.1699]\n",
      "38 [889.28937]\n",
      "39 [-778.50977]\n",
      "40 [358.2773]\n",
      "41 [-739.86554]\n",
      "42 [448.26303]\n",
      "43 [816.03656]\n",
      "44 [-2192.7183]\n",
      "45 [972.3682]\n",
      "46 [1978.8472]\n",
      "47 [2139.7766]\n",
      "48 [1055.2933]\n",
      "49 [571.43115]\n",
      "50 [1208.9005]\n",
      "51 [1029.2937]\n",
      "52 [386.33722]\n",
      "53 [3515.1455]\n",
      "54 [2184.198]\n",
      "55 [932.4228]\n",
      "56 [886.35516]\n",
      "57 [506.79605]\n",
      "58 [3880.339]\n",
      "59 [1018.5539]\n",
      "60 [2263.506]\n",
      "61 [2339.4421]\n",
      "62 [976.42786]\n",
      "63 [3636.3455]\n",
      "64 [-791.4126]\n",
      "65 [-1874.0784]\n",
      "66 [2495.3337]\n",
      "67 [3549.9087]\n",
      "68 [1151.0718]\n",
      "69 [-1953.0018]\n",
      "70 [837.1431]\n",
      "71 [2056.7021]\n",
      "72 [1696.2532]\n",
      "73 [2871.3513]\n",
      "74 [1211.0524]\n",
      "75 [3759.2407]\n",
      "76 [2497.2886]\n",
      "77 [1966.0624]\n",
      "78 [-356.9331]\n",
      "79 [2581.2488]\n",
      "80 [590.8254]\n",
      "81 [2556.8948]\n",
      "82 [1249.0963]\n",
      "83 [1094.4019]\n",
      "84 [190.2916]\n",
      "85 [-2278.0642]\n",
      "86 [2442.158]\n",
      "87 [292.2537]\n",
      "88 [4145.255]\n",
      "89 [-119.09272]\n",
      "90 [-862.96985]\n",
      "91 [1251.0436]\n",
      "92 [569.40857]\n",
      "93 [600.6217]\n",
      "94 [2102.2175]\n",
      "95 [406.9882]\n",
      "96 [2003.3892]\n",
      "97 [172.76671]\n",
      "98 [1783.4695]\n",
      "99 [2366.9941]\n"
     ]
    }
   ],
   "source": [
    "for model in models:\n",
    "    model.start_learning(timesteps)\n",
    "\n",
    "for time in range(timesteps):\n",
    "    done = False\n",
    "    episode_reward = 0\n",
    "    observation = env.reset()\n",
    "\n",
    "    while not done:\n",
    "        actions = [model.predict(observation)[0] for model in models]\n",
    "        total_action = np.concatenate(np.concatenate(actions))\n",
    "\n",
    "        for model in models:\n",
    "            model.start_record()\n",
    "\n",
    "        for step in range(n_records_count):\n",
    "            next_observation, reward, done, info = env.step(np.array([total_action]))\n",
    "            episode_reward += reward\n",
    "\n",
    "            for model, action in zip(models, actions):\n",
    "                model.record(observation, action, next_observation, reward, done, info)\n",
    "\n",
    "        for model in models:\n",
    "            model.end_record()\n",
    "            model.train()\n",
    "\n",
    "    if episode_reward > max_episode_reward:\n",
    "        max_episode_reward = episode_reward\n",
    "        for index, model in enumerate(models):\n",
    "            model.model.save(f\"models/footbol2v2-a2c-best-{index}\")\n",
    "    print(time, episode_reward)\n",
    "\n",
    "for index, model in enumerate(models):\n",
    "            model.model.save(f\"models/footbol2v2-a2c-last-{index}\")"
   ],
   "metadata": {
    "colab": {
     "base_uri": "https://localhost:8080/"
    },
    "id": "jjJicituksxQ",
    "outputId": "6dfecaa7-126a-4dc5-9449-e41b981c1be9"
   }
  },
  {
   "cell_type": "markdown",
   "source": [
    "## Load and visualise"
   ],
   "metadata": {
    "collapsed": false,
    "id": "CM1Ip8m9ksxR"
   }
  },
  {
   "cell_type": "code",
   "execution_count": 17,
   "outputs": [],
   "source": [
    "models = [A2C.load(f\"models/footbol2v2-a2c-last-{index}\", device=\"cpu\") for index in range(2)]"
   ],
   "metadata": {
    "id": "LmxMNzwiksxR"
   }
  },
  {
   "cell_type": "code",
   "execution_count": 18,
   "outputs": [
    {
     "output_type": "display_data",
     "data": {
      "text/plain": [
       "<Figure size 432x288 with 1 Axes>"
      ],
      "image/png": "[encoded data removed]"
     },
     "metadata": {
      "needs_background": "light"
     }
    }
   ],
   "source": [
    "env = gym.make(\"Futbol2v2-v1\")\n",
    "\n",
    "multi_agent = utils.MultiModelAgent(models)\n",
    "\n",
    "visualizer = utils.MatplotlibVisualizer(env)\n",
    "visualizer.run(multi_agent)\n",
    "\n",
    "env.close()"
   ],
   "metadata": {
    "colab": {
     "base_uri": "https://localhost:8080/",
     "height": 281
    },
    "id": "0KH1O0VKksxS",
    "outputId": "6e1e67be-09ed-4e91-b018-7e6b2e3f47c9"
   }
  },
  {
   "cell_type": "code",
   "execution_count": null,
   "outputs": [],
   "source": [],
   "metadata": {
    "id": "Xn1pZw9LksxS"
   }
  }
 ],
 "metadata": {
  "kernelspec": {
   "display_name": "Python 3",
   "language": "python",
   "name": "python3"
  },
  "language_info": {
   "codemirror_mode": {
    "name": "ipython",
    "version": 2
   },
   "file_extension": ".py",
   "mimetype": "text/x-python",
   "name": "python",
   "nbconvert_exporter": "python",
   "pygments_lexer": "ipython2",
   "version": "2.7.6"
  },
  "colab": {
   "provenance": []
  },
  "widgets": {
   "application/vnd.jupyter.widget-state+json": {
    "f466f8a5ec2f481888847e2b87cdba37": {
     "model_module": "@jupyter-widgets/output",
     "model_name": "OutputModel",
     "model_module_version": "1.0.0",
     "state": {
      "_dom_classes": [],
      "_model_module": "@jupyter-widgets/output",
      "_model_module_version": "1.0.0",
      "_model_name": "OutputModel",
      "_view_count": null,
      "_view_module": "@jupyter-widgets/output",
      "_view_module_version": "1.0.0",
      "_view_name": "OutputView",
      "layout": "IPY_MODEL_4642a4b3ccf349659444fde720c2d466",
      "msg_id": "",
      "outputs": [
       {
        "output_type": "display_data",
        "data": {
         "text/plain": "\u001B[35m  98%\u001B[0m \u001B[38;2;249;38;114m━━━━━━━━━━━━━━━━━━━━━━━━━━━━━━━━━━━━━━━━━━━━━━━━━━━━━━━━━━\u001B[0m\u001B[38;2;249;38;114m╸\u001B[0m\u001B[38;5;237m━\u001B[0m \u001B[32m9,824/10,000 \u001B[0m [ \u001B[33m0:00:07\u001B[0m < \u001B[36m0:00:01\u001B[0m , \u001B[31m1,356 it/s\u001B[0m ]\n",
         "text/html": "<pre style=\"white-space:pre;overflow-x:auto;line-height:normal;font-family:Menlo,'DejaVu Sans Mono',consolas,'Courier New',monospace\"><span style=\"color: #800080; text-decoration-color: #800080\">  98%</span> <span style=\"color: #f92672; text-decoration-color: #f92672\">━━━━━━━━━━━━━━━━━━━━━━━━━━━━━━━━━━━━━━━━━━━━━━━━━━━━━━━━━━╸</span><span style=\"color: #3a3a3a; text-decoration-color: #3a3a3a\">━</span> <span style=\"color: #008000; text-decoration-color: #008000\">9,824/10,000 </span> [ <span style=\"color: #808000; text-decoration-color: #808000\">0:00:07</span> &lt; <span style=\"color: #008080; text-decoration-color: #008080\">0:00:01</span> , <span style=\"color: #800000; text-decoration-color: #800000\">1,356 it/s</span> ]\n</pre>\n"
        },
        "metadata": {}
       }
      ]
     }
    },
    "4642a4b3ccf349659444fde720c2d466": {
     "model_module": "@jupyter-widgets/base",
     "model_name": "LayoutModel",
     "model_module_version": "1.2.0",
     "state": {
      "_model_module": "@jupyter-widgets/base",
      "_model_module_version": "1.2.0",
      "_model_name": "LayoutModel",
      "_view_count": null,
      "_view_module": "@jupyter-widgets/base",
      "_view_module_version": "1.2.0",
      "_view_name": "LayoutView",
      "align_content": null,
      "align_items": null,
      "align_self": null,
      "border": null,
      "bottom": null,
      "display": null,
      "flex": null,
      "flex_flow": null,
      "grid_area": null,
      "grid_auto_columns": null,
      "grid_auto_flow": null,
      "grid_auto_rows": null,
      "grid_column": null,
      "grid_gap": null,
      "grid_row": null,
      "grid_template_areas": null,
      "grid_template_columns": null,
      "grid_template_rows": null,
      "height": null,
      "justify_content": null,
      "justify_items": null,
      "left": null,
      "margin": null,
      "max_height": null,
      "max_width": null,
      "min_height": null,
      "min_width": null,
      "object_fit": null,
      "object_position": null,
      "order": null,
      "overflow": null,
      "overflow_x": null,
      "overflow_y": null,
      "padding": null,
      "right": null,
      "top": null,
      "visibility": null,
      "width": null
     }
    }
   }
  }
 },
 "nbformat": 4,
 "nbformat_minor": 0
}

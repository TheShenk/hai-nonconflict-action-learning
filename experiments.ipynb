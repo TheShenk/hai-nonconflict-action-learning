{
 "cells": [
  {
   "cell_type": "code",
   "execution_count": 2,
   "metadata": {
    "collapsed": true
   },
   "outputs": [
    {
     "name": "stdout",
     "output_type": "stream",
     "text": [
      "pygame 2.1.0 (SDL 2.0.16, Python 3.10.8)\n",
      "Hello from the pygame community. https://www.pygame.org/contribute.html\n"
     ]
    }
   ],
   "source": [
    "import gym\n",
    "import gym_futbol\n",
    "import numpy as np\n",
    "import matplotlib.pyplot as plt\n",
    "from stable_baselines3 import A2C\n",
    "from stable_baselines3.common.env_util import make_vec_env\n",
    "import utils\n",
    "from multiagent import MultiAgentModelProxy"
   ]
  },
  {
   "cell_type": "markdown",
   "source": [
    "# Basics"
   ],
   "metadata": {
    "collapsed": false
   }
  },
  {
   "cell_type": "code",
   "execution_count": 3,
   "outputs": [
    {
     "data": {
      "text/plain": "<Figure size 640x480 with 1 Axes>",
      "image/png": "[encoded data removed]"
     },
     "metadata": {},
     "output_type": "display_data"
    }
   ],
   "source": [
    "env = gym.make(\"Futbol2v2-v1\")\n",
    "env.render()"
   ],
   "metadata": {
    "collapsed": false
   }
  },
  {
   "cell_type": "code",
   "execution_count": 4,
   "outputs": [
    {
     "data": {
      "text/plain": "MultiDiscrete([5 5 5 5])"
     },
     "execution_count": 4,
     "metadata": {},
     "output_type": "execute_result"
    }
   ],
   "source": [
    "env.action_space"
   ],
   "metadata": {
    "collapsed": false
   }
  },
  {
   "cell_type": "code",
   "execution_count": 5,
   "outputs": [],
   "source": [
    "from stable_baselines3.common.env_checker import check_env\n",
    "check_env(env)"
   ],
   "metadata": {
    "collapsed": false
   }
  },
  {
   "cell_type": "markdown",
   "source": [
    "# Learning model"
   ],
   "metadata": {
    "collapsed": false
   }
  },
  {
   "cell_type": "code",
   "execution_count": 6,
   "outputs": [],
   "source": [
    "log_dir = \"logs/\"\n",
    "timesteps = 10000"
   ],
   "metadata": {
    "collapsed": false
   }
  },
  {
   "cell_type": "code",
   "execution_count": 7,
   "outputs": [
    {
     "data": {
      "text/plain": "Output()",
      "application/vnd.jupyter.widget-view+json": {
       "version_major": 2,
       "version_minor": 0,
       "model_id": "b264905784fa424f9f34f21000c26b8b"
      }
     },
     "metadata": {},
     "output_type": "display_data"
    },
    {
     "data": {
      "text/plain": "",
      "text/html": "<pre style=\"white-space:pre;overflow-x:auto;line-height:normal;font-family:Menlo,'DejaVu Sans Mono',consolas,'Courier New',monospace\"></pre>\n"
     },
     "metadata": {},
     "output_type": "display_data"
    },
    {
     "data": {
      "text/plain": "\n",
      "text/html": "<pre style=\"white-space:pre;overflow-x:auto;line-height:normal;font-family:Menlo,'DejaVu Sans Mono',consolas,'Courier New',monospace\">\n</pre>\n"
     },
     "metadata": {},
     "output_type": "display_data"
    }
   ],
   "source": [
    "from stable_baselines3.common.env_util import make_vec_env\n",
    "\n",
    "env = gym.make(\"Futbol2v2-v1\")\n",
    "env = make_vec_env(lambda: env, n_envs=4, monitor_dir=log_dir)\n",
    "model = A2C(\"MlpPolicy\", env, device='cpu')\n",
    "model.learn(timesteps, progress_bar=True)\n",
    "model.save(\"models/footbol2v2-a2c\")"
   ],
   "metadata": {
    "collapsed": false
   }
  },
  {
   "cell_type": "markdown",
   "source": [
    "# Display model statistic"
   ],
   "metadata": {
    "collapsed": false
   }
  },
  {
   "cell_type": "code",
   "execution_count": 8,
   "outputs": [
    {
     "name": "stdout",
     "output_type": "stream",
     "text": [
      "    index            r   l          t\n",
      "0       0   206.421013  75   0.779745\n",
      "1       1   351.053590  75   1.197700\n",
      "2       2   106.588906  75   1.544925\n",
      "3       3   192.607182  75   1.890073\n",
      "4       4   -23.768020  75   2.250076\n",
      "5       5   184.157859  75   2.595264\n",
      "6       6   307.775208  75   2.946252\n",
      "7       7   187.788800  75   3.303067\n",
      "8       8   206.615175  75   3.650099\n",
      "9       9   111.108424  75   3.994954\n",
      "10     10    71.197876  75   4.344317\n",
      "11     11  1339.741603  75   4.693666\n",
      "12     12 -1130.919084  75   5.034440\n",
      "13     13   144.802317  75   5.388956\n",
      "14     14   261.863063  75   5.730578\n",
      "15     15  1382.115670  75   6.097933\n",
      "16     16    12.085449  75   6.444621\n",
      "17     17   319.581637  75   6.796483\n",
      "18     18   193.096158  75   7.156697\n",
      "19     19  -306.652395  75   7.502851\n",
      "20     20   175.546604  75   7.858694\n",
      "21     21   228.013004  75   8.251568\n",
      "22     22    85.427705  75   8.657824\n",
      "23     23    83.664788  75   9.075188\n",
      "24     24  -118.107827  75   9.705290\n",
      "25     25   151.405321  75  10.184710\n",
      "26     26  -857.741402  75  10.598545\n",
      "27     27   291.267825  75  10.947610\n",
      "28     28   146.077716  75  11.286401\n",
      "29     29   -69.283884  75  11.637908\n",
      "30     30    42.500652  75  11.984811\n",
      "31     31   143.502628  75  12.371055\n",
      "32     32   448.147010  75  12.721378\n"
     ]
    },
    {
     "data": {
      "text/plain": "<Figure size 800x200 with 1 Axes>",
      "image/png": "[encoded data removed]"
     },
     "metadata": {},
     "output_type": "display_data"
    }
   ],
   "source": [
    "from IPython import display\n",
    "from stable_baselines3.common import results_plotter\n",
    "\n",
    "results_plotter.plot_results([log_dir], timesteps, results_plotter.X_EPISODES, \"Futbol2v2-v1\")\n",
    "display.display(plt.gcf())\n",
    "display.clear_output(wait=True)\n",
    "\n",
    "log_data = results_plotter.load_results(log_dir)\n",
    "print(log_data)"
   ],
   "metadata": {
    "collapsed": false
   }
  },
  {
   "cell_type": "markdown",
   "source": [
    "# Load model from file"
   ],
   "metadata": {
    "collapsed": false
   }
  },
  {
   "cell_type": "code",
   "execution_count": 9,
   "outputs": [],
   "source": [
    "model = A2C.load(\"models/footbol2v2-a2c\", device=\"cpu\")"
   ],
   "metadata": {
    "collapsed": false
   }
  },
  {
   "cell_type": "markdown",
   "source": [
    "# Run models"
   ],
   "metadata": {
    "collapsed": false
   }
  },
  {
   "cell_type": "markdown",
   "source": [
    "## Pygame\n",
    "Run game with model in new windows with pygame"
   ],
   "metadata": {
    "collapsed": false
   }
  },
  {
   "cell_type": "code",
   "execution_count": 11,
   "outputs": [],
   "source": [
    "RES = WIDTH, HEIGHT = 600, 600\n",
    "FPS = 60\n",
    "\n",
    "env = gym.make(\"Futbol2v2-v1\", width=WIDTH-2, height=HEIGHT-2, player_radius=15, ball_radius=5)\n",
    "visualizer = utils.PygameVisualizer(env, FPS)\n",
    "visualizer.run(model)\n",
    "\n",
    "env.close()\n",
    "visualizer.close()"
   ],
   "metadata": {
    "collapsed": false
   }
  },
  {
   "cell_type": "markdown",
   "source": [
    "## Matplotlib\n",
    "Run model in notebook with matplotlib"
   ],
   "metadata": {
    "collapsed": false
   }
  },
  {
   "cell_type": "code",
   "execution_count": 10,
   "outputs": [
    {
     "data": {
      "text/plain": "<Figure size 640x480 with 1 Axes>",
      "image/png": "[encoded data removed]"
     },
     "metadata": {},
     "output_type": "display_data"
    }
   ],
   "source": [
    "env = gym.make(\"Futbol2v2-v1\")\n",
    "\n",
    "visualizer = utils.MatplotlibVisualizer(env)\n",
    "visualizer.run(model)\n",
    "\n",
    "env.close()"
   ],
   "metadata": {
    "collapsed": false
   }
  },
  {
   "cell_type": "markdown",
   "source": [
    "# MultiAgent"
   ],
   "metadata": {
    "collapsed": false
   }
  },
  {
   "cell_type": "markdown",
   "source": [
    "## Learn"
   ],
   "metadata": {
    "collapsed": false
   }
  },
  {
   "cell_type": "code",
   "execution_count": 14,
   "outputs": [],
   "source": [
    "env = make_vec_env(lambda: gym.make(\"Futbol2v2-v1\"), n_envs=1)\n",
    "\n",
    "models = [\n",
    "    MultiAgentModelProxy(A2C(\"MlpPolicy\",\n",
    "                             utils.TransformAction(env, lambda a: a[:2], gym.spaces.MultiDiscrete([5, 5])),\n",
    "                             device='cpu')),\n",
    "    MultiAgentModelProxy(A2C(\"MlpPolicy\",\n",
    "                             utils.TransformAction(env, lambda a: a[2:], gym.spaces.MultiDiscrete([5, 5])),\n",
    "                             device='cpu'))\n",
    "]\n",
    "\n",
    "timesteps = 100\n",
    "n_records_count = models[0].model.n_steps\n",
    "max_episode_reward = 0"
   ],
   "metadata": {
    "collapsed": false
   }
  },
  {
   "cell_type": "markdown",
   "source": [
    "### Rewrote learning cycle\n",
    "StableBaselines3 не поддерживает одновременное обучение нескольких агентов, это даже не ошибка по мнению разработчиков. Они считают, что в данном случае каждому пользователю необходимо самостоятельо переопределить цикл обучения (для не мультиагентных задач используется метод learn). Здесь представлен код, взятый из исходных кодов StableBaselines3, но адаптированный для многоагентных задач.\n",
    "В обычной ситуации, learn сам взаимодействует со средой. Но при существовании нескольких агентов нужно получить действие от каждого и только потом передавать их в среду. Именно это здесь и реализовано. Каждому агенту передается наблюдение от среды (в данной задаче оно одинаково для всех) и получается действие. Затем действия объеядиняются и передаются среде. Затем каждый агент обновляется с учетом полученных данных (метод record).\n",
    "Весь код, взятый из StableBaselines3 вынесен в класс MultiAgentModelProxy."
   ],
   "metadata": {
    "collapsed": false
   },
   "outputs": []
  },
  {
   "cell_type": "code",
   "execution_count": 15,
   "outputs": [],
   "source": [
    "#TODO: рассмотреть возможность асинхронной среды\n",
    "#TODO: добавить вывод логов для последующего использования results_plotter"
   ],
   "metadata": {
    "collapsed": false
   }
  },
  {
   "cell_type": "code",
   "execution_count": 16,
   "outputs": [
    {
     "name": "stdout",
     "output_type": "stream",
     "text": [
      "0 [965.8441]\n",
      "1 [748.2335]\n",
      "2 [-715.14636]\n",
      "3 [651.71564]\n",
      "4 [712.65283]\n",
      "5 [-603.6256]\n",
      "6 [2038.2041]\n",
      "7 [499.41772]\n",
      "8 [-659.0229]\n",
      "9 [-2226.021]\n",
      "10 [-520.06506]\n",
      "11 [2751.384]\n",
      "12 [-1663.4227]\n",
      "13 [504.84506]\n",
      "14 [921.69586]\n",
      "15 [746.57544]\n",
      "16 [-1160.2308]\n",
      "17 [525.8244]\n",
      "18 [498.94705]\n",
      "19 [-898.26746]\n",
      "20 [1844.0658]\n",
      "21 [705.76794]\n",
      "22 [-1305.7924]\n",
      "23 [928.4192]\n",
      "24 [1956.7708]\n",
      "25 [542.7213]\n",
      "26 [670.9968]\n",
      "27 [-902.91785]\n",
      "28 [-197.95216]\n",
      "29 [-1239.7382]\n",
      "30 [483.7052]\n",
      "31 [1119.8011]\n",
      "32 [2095.1726]\n",
      "33 [-1439.9849]\n",
      "34 [-1135.327]\n",
      "35 [-803.6637]\n",
      "36 [-245.45587]\n",
      "37 [3034.4846]\n",
      "38 [974.4735]\n",
      "39 [595.49176]\n",
      "40 [900.18774]\n",
      "41 [-1658.5305]\n",
      "42 [1780.7661]\n",
      "43 [735.14685]\n",
      "44 [598.49036]\n",
      "45 [-1071.2948]\n",
      "46 [920.4387]\n",
      "47 [723.6651]\n",
      "48 [-761.20624]\n",
      "49 [408.75894]\n",
      "50 [-1309.1957]\n",
      "51 [753.7005]\n",
      "52 [2028.3087]\n",
      "53 [-313.5378]\n",
      "54 [-662.9027]\n",
      "55 [-21.226877]\n",
      "56 [1392.7621]\n",
      "57 [967.7557]\n",
      "58 [-1743.7847]\n",
      "59 [479.55048]\n",
      "60 [-1515.4174]\n",
      "61 [668.54913]\n",
      "62 [336.89603]\n",
      "63 [272.03406]\n",
      "64 [-116.206]\n",
      "65 [225.59688]\n",
      "66 [255.18071]\n",
      "67 [-1389.1272]\n",
      "68 [-1038.4929]\n",
      "69 [787.1262]\n",
      "70 [555.9353]\n",
      "71 [922.6413]\n",
      "72 [969.909]\n",
      "73 [741.0691]\n",
      "74 [1579.1702]\n",
      "75 [524.3574]\n",
      "76 [1288.7767]\n",
      "77 [823.3756]\n",
      "78 [2694.5122]\n",
      "79 [390.1326]\n",
      "80 [766.4564]\n",
      "81 [1079.9515]\n",
      "82 [817.15765]\n",
      "83 [1348.5822]\n",
      "84 [642.3458]\n",
      "85 [723.4248]\n",
      "86 [2022.0977]\n",
      "87 [-884.24194]\n",
      "88 [660.5814]\n",
      "89 [-2867.9077]\n",
      "90 [483.11398]\n",
      "91 [1387.4807]\n",
      "92 [-890.7866]\n",
      "93 [-1170.1906]\n",
      "94 [728.1932]\n",
      "95 [-2375.6467]\n",
      "96 [927.70966]\n",
      "97 [-631.51196]\n",
      "98 [-459.3368]\n",
      "99 [-1211.4006]\n"
     ]
    }
   ],
   "source": [
    "for model in models:\n",
    "    model.start_learning(timesteps)\n",
    "\n",
    "for time in range(timesteps):\n",
    "    done = False\n",
    "    episode_reward = 0\n",
    "    observation = env.reset()\n",
    "\n",
    "    while not done:\n",
    "        actions = [model.predict(observation)[0] for model in models]\n",
    "        total_action = np.concatenate(np.concatenate(actions))\n",
    "\n",
    "        for model in models:\n",
    "            model.start_record()\n",
    "\n",
    "        for step in range(n_records_count):\n",
    "            next_observation, reward, done, info = env.step(np.array([total_action]))\n",
    "            episode_reward += reward\n",
    "\n",
    "            for model, action in zip(models, actions):\n",
    "                model.record(observation, action, next_observation, reward, done, info)\n",
    "\n",
    "        for model in models:\n",
    "            model.end_record()\n",
    "            model.train()\n",
    "\n",
    "    if episode_reward > max_episode_reward:\n",
    "        max_episode_reward = episode_reward\n",
    "        for index, model in enumerate(models):\n",
    "            model.model.save(f\"models/footbol2v2-a2c-best-{index}\")\n",
    "    print(time, episode_reward)\n",
    "\n",
    "for index, model in enumerate(models):\n",
    "            model.model.save(f\"models/footbol2v2-a2c-last-{index}\")"
   ],
   "metadata": {
    "collapsed": false
   }
  },
  {
   "cell_type": "markdown",
   "source": [
    "## Load and visualise"
   ],
   "metadata": {
    "collapsed": false
   }
  },
  {
   "cell_type": "code",
   "execution_count": 19,
   "outputs": [],
   "source": [
    "models = [A2C.load(f\"models/footbol2v2-a2c-last-{index}\", device=\"cpu\") for index in range(2)]"
   ],
   "metadata": {
    "collapsed": false
   }
  },
  {
   "cell_type": "code",
   "execution_count": 20,
   "outputs": [
    {
     "data": {
      "text/plain": "<Figure size 640x480 with 1 Axes>",
      "image/png": "[encoded data removed]"
     },
     "metadata": {},
     "output_type": "display_data"
    }
   ],
   "source": [
    "env = gym.make(\"Futbol2v2-v1\")\n",
    "\n",
    "multi_agent = utils.MultiModelAgent(models)\n",
    "\n",
    "visualizer = utils.MatplotlibVisualizer(env)\n",
    "visualizer.run(multi_agent)\n",
    "\n",
    "env.close()"
   ],
   "metadata": {
    "collapsed": false
   }
  },
  {
   "cell_type": "code",
   "execution_count": null,
   "outputs": [],
   "source": [],
   "metadata": {
    "collapsed": false
   }
  }
 ],
 "metadata": {
  "kernelspec": {
   "display_name": "Python 3",
   "language": "python",
   "name": "python3"
  },
  "language_info": {
   "codemirror_mode": {
    "name": "ipython",
    "version": 2
   },
   "file_extension": ".py",
   "mimetype": "text/x-python",
   "name": "python",
   "nbconvert_exporter": "python",
   "pygments_lexer": "ipython2",
   "version": "2.7.6"
  }
 },
 "nbformat": 4,
 "nbformat_minor": 0
}

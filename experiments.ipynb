{
 "cells": [
  {
   "cell_type": "code",
   "execution_count": null,
   "metadata": {
    "collapsed": true
   },
   "outputs": [],
   "source": [
    "import gym\n",
    "import gym_futbol\n",
    "from stable_baselines3 import A2C\n",
    "import matplotlib.pyplot as plt\n",
    "import utils"
   ]
  },
  {
   "cell_type": "markdown",
   "source": [
    "# Basics"
   ],
   "metadata": {
    "collapsed": false
   }
  },
  {
   "cell_type": "code",
   "execution_count": null,
   "outputs": [],
   "source": [
    "env = gym.make(\"Futbol2v2-v1\")\n",
    "env.render()"
   ],
   "metadata": {
    "collapsed": false
   }
  },
  {
   "cell_type": "code",
   "execution_count": null,
   "outputs": [],
   "source": [
    "env.action_space"
   ],
   "metadata": {
    "collapsed": false
   }
  },
  {
   "cell_type": "code",
   "execution_count": null,
   "outputs": [],
   "source": [
    "from stable_baselines3.common.env_checker import check_env\n",
    "check_env(env)"
   ],
   "metadata": {
    "collapsed": false
   }
  },
  {
   "cell_type": "markdown",
   "source": [
    "# Learning model"
   ],
   "metadata": {
    "collapsed": false
   }
  },
  {
   "cell_type": "code",
   "execution_count": null,
   "outputs": [],
   "source": [
    "import stable_baselines3.common.results_plotter as results_plotter\n",
    "from stable_baselines3.common.env_util import make_vec_env\n",
    "\n",
    "log_dir = \"logs/\"\n",
    "timesteps = 100000\n",
    "\n",
    "env = gym.make(\"Futbol2v2-v1\")\n",
    "env = make_vec_env(lambda: env, n_envs=4, monitor_dir=log_dir)\n",
    "model = A2C(\"MlpPolicy\", env, device='cpu')\n",
    "model.learn(timesteps, progress_bar=True)\n",
    "model.save(\"models/footbol2v2-a2c\")"
   ],
   "metadata": {
    "collapsed": false
   }
  },
  {
   "cell_type": "markdown",
   "source": [
    "# Display model statistic"
   ],
   "metadata": {
    "collapsed": false
   }
  },
  {
   "cell_type": "code",
   "execution_count": null,
   "outputs": [],
   "source": [
    "results_plotter.plot_results([log_dir], timesteps, results_plotter.X_EPISODES, \"Futbol2v2-v1\")\n",
    "display.display(plt.gcf())\n",
    "display.clear_output(wait=True)"
   ],
   "metadata": {
    "collapsed": false
   }
  },
  {
   "cell_type": "markdown",
   "source": [
    "# Load model from file"
   ],
   "metadata": {
    "collapsed": false
   }
  },
  {
   "cell_type": "code",
   "execution_count": null,
   "outputs": [],
   "source": [
    "model = A2C.load(\"models/footbol2v2-a2c\", device=\"cpu\")"
   ],
   "metadata": {
    "collapsed": false
   }
  },
  {
   "cell_type": "markdown",
   "source": [
    "# Run models"
   ],
   "metadata": {
    "collapsed": false
   }
  },
  {
   "cell_type": "markdown",
   "source": [
    "## Pygame\n",
    "Run game with model in new windows with pygame"
   ],
   "metadata": {
    "collapsed": false
   }
  },
  {
   "cell_type": "code",
   "execution_count": null,
   "outputs": [],
   "source": [
    "RES = WIDTH, HEIGHT = 600, 600\n",
    "FPS = 60\n",
    "\n",
    "env = gym.make(\"Futbol2v2-v1\", width=WIDTH-2, height=HEIGHT-2, player_radius=15, ball_radius=5)\n",
    "visualizer = utils.PygameVisualizer(env, FPS)\n",
    "visualizer.run(model)\n",
    "\n",
    "env.close()\n",
    "visualizer.close()"
   ],
   "metadata": {
    "collapsed": false
   }
  },
  {
   "cell_type": "markdown",
   "source": [
    "## Matplotlib\n",
    "Run model in notebook with matplotlib"
   ],
   "metadata": {
    "collapsed": false
   }
  },
  {
   "cell_type": "code",
   "execution_count": null,
   "outputs": [],
   "source": [
    "env = gym.make(\"Futbol2v2-v1\")\n",
    "\n",
    "visualizer = utils.MatplotlibVisualizer(env)\n",
    "visualizer.run(model)\n",
    "\n",
    "env.close()"
   ],
   "metadata": {
    "collapsed": false
   }
  },
  {
   "cell_type": "code",
   "execution_count": null,
   "outputs": [],
   "source": [],
   "metadata": {
    "collapsed": false
   }
  }
 ],
 "metadata": {
  "kernelspec": {
   "display_name": "Python 3",
   "language": "python",
   "name": "python3"
  },
  "language_info": {
   "codemirror_mode": {
    "name": "ipython",
    "version": 2
   },
   "file_extension": ".py",
   "mimetype": "text/x-python",
   "name": "python",
   "nbconvert_exporter": "python",
   "pygments_lexer": "ipython2",
   "version": "2.7.6"
  }
 },
 "nbformat": 4,
 "nbformat_minor": 0
}

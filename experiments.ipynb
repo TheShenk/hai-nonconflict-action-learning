{
 "cells": [
  {
   "cell_type": "markdown",
   "source": [
    "# Installation"
   ],
   "metadata": {
    "id": "jrvQYw2rm1Br"
   }
  },
  {
   "cell_type": "code",
   "source": [
    "!git clone https://github.com/TheShenk/hai-nonconflict-action-learning.git"
   ],
   "metadata": {
    "colab": {
     "base_uri": "https://localhost:8080/"
    },
    "id": "W5tk5v84lCCW",
    "outputId": "d6edcabe-439a-449e-bb10-e5eb0a1485d0"
   },
   "execution_count": 2,
   "outputs": [
    {
     "output_type": "stream",
     "name": "stdout",
     "text": [
      "Cloning into 'hai-nonconflict-action-learning'...\n",
      "remote: Enumerating objects: 83, done.\u001B[K\n",
      "remote: Counting objects:   1% (1/53)\u001B[K\rremote: Counting objects:   3% (2/53)\u001B[K\rremote: Counting objects:   5% (3/53)\u001B[K\rremote: Counting objects:   7% (4/53)\u001B[K\rremote: Counting objects:   9% (5/53)\u001B[K\rremote: Counting objects:  11% (6/53)\u001B[K\rremote: Counting objects:  13% (7/53)\u001B[K\rremote: Counting objects:  15% (8/53)\u001B[K\rremote: Counting objects:  16% (9/53)\u001B[K\rremote: Counting objects:  18% (10/53)\u001B[K\rremote: Counting objects:  20% (11/53)\u001B[K\rremote: Counting objects:  22% (12/53)\u001B[K\rremote: Counting objects:  24% (13/53)\u001B[K\rremote: Counting objects:  26% (14/53)\u001B[K\rremote: Counting objects:  28% (15/53)\u001B[K\rremote: Counting objects:  30% (16/53)\u001B[K\rremote: Counting objects:  32% (17/53)\u001B[K\rremote: Counting objects:  33% (18/53)\u001B[K\rremote: Counting objects:  35% (19/53)\u001B[K\rremote: Counting objects:  37% (20/53)\u001B[K\rremote: Counting objects:  39% (21/53)\u001B[K\rremote: Counting objects:  41% (22/53)\u001B[K\rremote: Counting objects:  43% (23/53)\u001B[K\rremote: Counting objects:  45% (24/53)\u001B[K\rremote: Counting objects:  47% (25/53)\u001B[K\rremote: Counting objects:  49% (26/53)\u001B[K\rremote: Counting objects:  50% (27/53)\u001B[K\rremote: Counting objects:  52% (28/53)\u001B[K\rremote: Counting objects:  54% (29/53)\u001B[K\rremote: Counting objects:  56% (30/53)\u001B[K\rremote: Counting objects:  58% (31/53)\u001B[K\rremote: Counting objects:  60% (32/53)\u001B[K\rremote: Counting objects:  62% (33/53)\u001B[K\rremote: Counting objects:  64% (34/53)\u001B[K\rremote: Counting objects:  66% (35/53)\u001B[K\rremote: Counting objects:  67% (36/53)\u001B[K\rremote: Counting objects:  69% (37/53)\u001B[K\rremote: Counting objects:  71% (38/53)\u001B[K\rremote: Counting objects:  73% (39/53)\u001B[K\rremote: Counting objects:  75% (40/53)\u001B[K\rremote: Counting objects:  77% (41/53)\u001B[K\rremote: Counting objects:  79% (42/53)\u001B[K\rremote: Counting objects:  81% (43/53)\u001B[K\rremote: Counting objects:  83% (44/53)\u001B[K\rremote: Counting objects:  84% (45/53)\u001B[K\rremote: Counting objects:  86% (46/53)\u001B[K\rremote: Counting objects:  88% (47/53)\u001B[K\rremote: Counting objects:  90% (48/53)\u001B[K\rremote: Counting objects:  92% (49/53)\u001B[K\rremote: Counting objects:  94% (50/53)\u001B[K\rremote: Counting objects:  96% (51/53)\u001B[K\rremote: Counting objects:  98% (52/53)\u001B[K\rremote: Counting objects: 100% (53/53)\u001B[K\rremote: Counting objects: 100% (53/53), done.\u001B[K\n",
      "remote: Compressing objects: 100% (35/35), done.\u001B[K\n",
      "remote: Total 83 (delta 25), reused 43 (delta 17), pack-reused 30\u001B[K\n",
      "Unpacking objects: 100% (83/83), done.\n"
     ]
    }
   ]
  },
  {
   "cell_type": "code",
   "source": [
    "!cd hai-nonconflict-action-learning/"
   ],
   "metadata": {
    "colab": {
     "base_uri": "https://localhost:8080/"
    },
    "id": "_Zik3hfPlTUx",
    "outputId": "d9764c78-2ec4-45d0-eeb0-3858441de7e0"
   },
   "execution_count": 1,
   "outputs": [
    {
     "output_type": "stream",
     "name": "stdout",
     "text": [
      "/content/hai-nonconflict-action-learning\n"
     ]
    }
   ]
  },
  {
   "cell_type": "code",
   "source": [
    "!pip install stable-baselines3[extra] pymunk pygame"
   ],
   "metadata": {
    "colab": {
     "base_uri": "https://localhost:8080/"
    },
    "id": "_SY27KbSll5M",
    "outputId": "12c83f0d-7312-4abe-e033-fb69e9424b0d"
   },
   "execution_count": 2,
   "outputs": [
    {
     "output_type": "stream",
     "name": "stdout",
     "text": [
      "Looking in indexes: https://pypi.org/simple, https://us-python.pkg.dev/colab-wheels/public/simple/\n",
      "Requirement already satisfied: stable-baselines3[extra] in /usr/local/lib/python3.7/dist-packages (1.6.2)\n",
      "Requirement already satisfied: pymunk in /usr/local/lib/python3.7/dist-packages (6.4.0)\n",
      "Requirement already satisfied: pygame in /usr/local/lib/python3.7/dist-packages (2.1.2)\n",
      "Requirement already satisfied: cffi>=1.15.0 in /usr/local/lib/python3.7/dist-packages (from pymunk) (1.15.1)\n",
      "Requirement already satisfied: pycparser in /usr/local/lib/python3.7/dist-packages (from cffi>=1.15.0->pymunk) (2.21)\n",
      "Requirement already satisfied: numpy in /usr/local/lib/python3.7/dist-packages (from stable-baselines3[extra]) (1.21.6)\n",
      "Requirement already satisfied: cloudpickle in /usr/local/lib/python3.7/dist-packages (from stable-baselines3[extra]) (1.5.0)\n",
      "Requirement already satisfied: gym==0.21 in /usr/local/lib/python3.7/dist-packages (from stable-baselines3[extra]) (0.21.0)\n",
      "Requirement already satisfied: matplotlib in /usr/local/lib/python3.7/dist-packages (from stable-baselines3[extra]) (3.2.2)\n",
      "Requirement already satisfied: torch>=1.11 in /usr/local/lib/python3.7/dist-packages (from stable-baselines3[extra]) (1.12.1+cu113)\n",
      "Requirement already satisfied: importlib-metadata~=4.13 in /usr/local/lib/python3.7/dist-packages (from stable-baselines3[extra]) (4.13.0)\n",
      "Requirement already satisfied: pandas in /usr/local/lib/python3.7/dist-packages (from stable-baselines3[extra]) (1.3.5)\n",
      "Requirement already satisfied: psutil in /usr/local/lib/python3.7/dist-packages (from stable-baselines3[extra]) (5.4.8)\n",
      "Requirement already satisfied: tqdm in /usr/local/lib/python3.7/dist-packages (from stable-baselines3[extra]) (4.64.1)\n",
      "Requirement already satisfied: ale-py==0.7.4 in /usr/local/lib/python3.7/dist-packages (from stable-baselines3[extra]) (0.7.4)\n",
      "Requirement already satisfied: autorom[accept-rom-license]~=0.4.2 in /usr/local/lib/python3.7/dist-packages (from stable-baselines3[extra]) (0.4.2)\n",
      "Requirement already satisfied: rich in /usr/local/lib/python3.7/dist-packages (from stable-baselines3[extra]) (12.6.0)\n",
      "Requirement already satisfied: pillow in /usr/local/lib/python3.7/dist-packages (from stable-baselines3[extra]) (7.1.2)\n",
      "Requirement already satisfied: tensorboard>=2.9.1 in /usr/local/lib/python3.7/dist-packages (from stable-baselines3[extra]) (2.9.1)\n",
      "Requirement already satisfied: opencv-python in /usr/local/lib/python3.7/dist-packages (from stable-baselines3[extra]) (4.6.0.66)\n",
      "Requirement already satisfied: importlib-resources in /usr/local/lib/python3.7/dist-packages (from ale-py==0.7.4->stable-baselines3[extra]) (5.10.0)\n",
      "Requirement already satisfied: click in /usr/local/lib/python3.7/dist-packages (from autorom[accept-rom-license]~=0.4.2->stable-baselines3[extra]) (7.1.2)\n",
      "Requirement already satisfied: requests in /usr/local/lib/python3.7/dist-packages (from autorom[accept-rom-license]~=0.4.2->stable-baselines3[extra]) (2.23.0)\n",
      "Requirement already satisfied: AutoROM.accept-rom-license in /usr/local/lib/python3.7/dist-packages (from autorom[accept-rom-license]~=0.4.2->stable-baselines3[extra]) (0.4.2)\n",
      "Requirement already satisfied: zipp>=0.5 in /usr/local/lib/python3.7/dist-packages (from importlib-metadata~=4.13->stable-baselines3[extra]) (3.10.0)\n",
      "Requirement already satisfied: typing-extensions>=3.6.4 in /usr/local/lib/python3.7/dist-packages (from importlib-metadata~=4.13->stable-baselines3[extra]) (4.1.1)\n",
      "Requirement already satisfied: google-auth<3,>=1.6.3 in /usr/local/lib/python3.7/dist-packages (from tensorboard>=2.9.1->stable-baselines3[extra]) (2.14.1)\n",
      "Requirement already satisfied: tensorboard-plugin-wit>=1.6.0 in /usr/local/lib/python3.7/dist-packages (from tensorboard>=2.9.1->stable-baselines3[extra]) (1.8.1)\n",
      "Requirement already satisfied: wheel>=0.26 in /usr/local/lib/python3.7/dist-packages (from tensorboard>=2.9.1->stable-baselines3[extra]) (0.38.4)\n",
      "Requirement already satisfied: tensorboard-data-server<0.7.0,>=0.6.0 in /usr/local/lib/python3.7/dist-packages (from tensorboard>=2.9.1->stable-baselines3[extra]) (0.6.1)\n",
      "Requirement already satisfied: google-auth-oauthlib<0.5,>=0.4.1 in /usr/local/lib/python3.7/dist-packages (from tensorboard>=2.9.1->stable-baselines3[extra]) (0.4.6)\n",
      "Requirement already satisfied: protobuf<3.20,>=3.9.2 in /usr/local/lib/python3.7/dist-packages (from tensorboard>=2.9.1->stable-baselines3[extra]) (3.19.6)\n",
      "Requirement already satisfied: markdown>=2.6.8 in /usr/local/lib/python3.7/dist-packages (from tensorboard>=2.9.1->stable-baselines3[extra]) (3.4.1)\n",
      "Requirement already satisfied: grpcio>=1.24.3 in /usr/local/lib/python3.7/dist-packages (from tensorboard>=2.9.1->stable-baselines3[extra]) (1.50.0)\n",
      "Requirement already satisfied: setuptools>=41.0.0 in /usr/local/lib/python3.7/dist-packages (from tensorboard>=2.9.1->stable-baselines3[extra]) (57.4.0)\n",
      "Requirement already satisfied: werkzeug>=1.0.1 in /usr/local/lib/python3.7/dist-packages (from tensorboard>=2.9.1->stable-baselines3[extra]) (1.0.1)\n",
      "Requirement already satisfied: absl-py>=0.4 in /usr/local/lib/python3.7/dist-packages (from tensorboard>=2.9.1->stable-baselines3[extra]) (1.3.0)\n",
      "Requirement already satisfied: cachetools<6.0,>=2.0.0 in /usr/local/lib/python3.7/dist-packages (from google-auth<3,>=1.6.3->tensorboard>=2.9.1->stable-baselines3[extra]) (5.2.0)\n",
      "Requirement already satisfied: six>=1.9.0 in /usr/local/lib/python3.7/dist-packages (from google-auth<3,>=1.6.3->tensorboard>=2.9.1->stable-baselines3[extra]) (1.15.0)\n",
      "Requirement already satisfied: pyasn1-modules>=0.2.1 in /usr/local/lib/python3.7/dist-packages (from google-auth<3,>=1.6.3->tensorboard>=2.9.1->stable-baselines3[extra]) (0.2.8)\n",
      "Requirement already satisfied: rsa<5,>=3.1.4 in /usr/local/lib/python3.7/dist-packages (from google-auth<3,>=1.6.3->tensorboard>=2.9.1->stable-baselines3[extra]) (4.9)\n",
      "Requirement already satisfied: requests-oauthlib>=0.7.0 in /usr/local/lib/python3.7/dist-packages (from google-auth-oauthlib<0.5,>=0.4.1->tensorboard>=2.9.1->stable-baselines3[extra]) (1.3.1)\n",
      "Requirement already satisfied: pyasn1<0.5.0,>=0.4.6 in /usr/local/lib/python3.7/dist-packages (from pyasn1-modules>=0.2.1->google-auth<3,>=1.6.3->tensorboard>=2.9.1->stable-baselines3[extra]) (0.4.8)\n",
      "Requirement already satisfied: certifi>=2017.4.17 in /usr/local/lib/python3.7/dist-packages (from requests->autorom[accept-rom-license]~=0.4.2->stable-baselines3[extra]) (2022.9.24)\n",
      "Requirement already satisfied: urllib3!=1.25.0,!=1.25.1,<1.26,>=1.21.1 in /usr/local/lib/python3.7/dist-packages (from requests->autorom[accept-rom-license]~=0.4.2->stable-baselines3[extra]) (1.24.3)\n",
      "Requirement already satisfied: idna<3,>=2.5 in /usr/local/lib/python3.7/dist-packages (from requests->autorom[accept-rom-license]~=0.4.2->stable-baselines3[extra]) (2.10)\n",
      "Requirement already satisfied: chardet<4,>=3.0.2 in /usr/local/lib/python3.7/dist-packages (from requests->autorom[accept-rom-license]~=0.4.2->stable-baselines3[extra]) (3.0.4)\n",
      "Requirement already satisfied: oauthlib>=3.0.0 in /usr/local/lib/python3.7/dist-packages (from requests-oauthlib>=0.7.0->google-auth-oauthlib<0.5,>=0.4.1->tensorboard>=2.9.1->stable-baselines3[extra]) (3.2.2)\n",
      "Requirement already satisfied: cycler>=0.10 in /usr/local/lib/python3.7/dist-packages (from matplotlib->stable-baselines3[extra]) (0.11.0)\n",
      "Requirement already satisfied: kiwisolver>=1.0.1 in /usr/local/lib/python3.7/dist-packages (from matplotlib->stable-baselines3[extra]) (1.4.4)\n",
      "Requirement already satisfied: python-dateutil>=2.1 in /usr/local/lib/python3.7/dist-packages (from matplotlib->stable-baselines3[extra]) (2.8.2)\n",
      "Requirement already satisfied: pyparsing!=2.0.4,!=2.1.2,!=2.1.6,>=2.0.1 in /usr/local/lib/python3.7/dist-packages (from matplotlib->stable-baselines3[extra]) (3.0.9)\n",
      "Requirement already satisfied: pytz>=2017.3 in /usr/local/lib/python3.7/dist-packages (from pandas->stable-baselines3[extra]) (2022.6)\n",
      "Requirement already satisfied: pygments<3.0.0,>=2.6.0 in /usr/local/lib/python3.7/dist-packages (from rich->stable-baselines3[extra]) (2.6.1)\n",
      "Requirement already satisfied: commonmark<0.10.0,>=0.9.0 in /usr/local/lib/python3.7/dist-packages (from rich->stable-baselines3[extra]) (0.9.1)\n"
     ]
    }
   ]
  },
  {
   "cell_type": "markdown",
   "source": [
    "# Imports"
   ],
   "metadata": {
    "id": "nCCHcMpnm7va"
   }
  },
  {
   "cell_type": "code",
   "execution_count": 2,
   "metadata": {
    "collapsed": true,
    "colab": {
     "base_uri": "https://localhost:8080/"
    },
    "id": "gwZk-Ov_ksw5",
    "outputId": "fee2669a-c342-4edd-9c0e-aeb3ac2187ee"
   },
   "outputs": [
    {
     "name": "stdout",
     "output_type": "stream",
     "text": [
      "pygame 2.1.0 (SDL 2.0.16, Python 3.10.8)\n",
      "Hello from the pygame community. https://www.pygame.org/contribute.html\n"
     ]
    }
   ],
   "source": [
    "import gym\n",
    "import gym_futbol\n",
    "import numpy as np\n",
    "import matplotlib.pyplot as plt\n",
    "from stable_baselines3 import A2C\n",
    "from stable_baselines3.common.env_util import make_vec_env\n",
    "from tqdm.notebook import tqdm\n",
    "import utils\n",
    "from multiagent import MultiAgentOnPolicyProxy, multiagent_learn"
   ]
  },
  {
   "cell_type": "markdown",
   "source": [
    "# Basics"
   ],
   "metadata": {
    "collapsed": false,
    "id": "E3XW5p1Mksw8"
   }
  },
  {
   "cell_type": "code",
   "execution_count": 2,
   "outputs": [
    {
     "name": "stdout",
     "output_type": "stream",
     "text": [
      "Reset\n"
     ]
    },
    {
     "data": {
      "text/plain": "<Figure size 640x480 with 1 Axes>",
      "image/png": "[encoded data removed]"
     },
     "metadata": {},
     "output_type": "display_data"
    }
   ],
   "source": [
    "env = gym.make(\"Futbol2v2-v1\")\n",
    "env.render()"
   ],
   "metadata": {
    "colab": {
     "base_uri": "https://localhost:8080/",
     "height": 265
    },
    "id": "NnG8rufAksw_",
    "outputId": "3e62f235-6d17-4016-9513-37aa278b34e6"
   }
  },
  {
   "cell_type": "code",
   "execution_count": 5,
   "outputs": [
    {
     "output_type": "execute_result",
     "data": {
      "text/plain": [
       "MultiDiscrete([5 5 5 5])"
      ]
     },
     "metadata": {},
     "execution_count": 5
    }
   ],
   "source": [
    "env.action_space"
   ],
   "metadata": {
    "colab": {
     "base_uri": "https://localhost:8080/"
    },
    "id": "6nk5DhZjksxA",
    "outputId": "897ffb81-cbb8-45ce-934e-f9da306314e8"
   }
  },
  {
   "cell_type": "code",
   "execution_count": 6,
   "outputs": [],
   "source": [
    "from stable_baselines3.common.env_checker import check_env\n",
    "check_env(env)"
   ],
   "metadata": {
    "id": "TcOkTMdoksxB"
   }
  },
  {
   "cell_type": "markdown",
   "source": [
    "# Learning model"
   ],
   "metadata": {
    "collapsed": false,
    "id": "rPI-rDkmksxC"
   }
  },
  {
   "cell_type": "code",
   "execution_count": 2,
   "outputs": [],
   "source": [
    "log_dir = \"logs/\"\n",
    "timesteps = 50000"
   ],
   "metadata": {
    "id": "bkN7ToTlksxD"
   }
  },
  {
   "cell_type": "code",
   "execution_count": 3,
   "outputs": [],
   "source": [
    "from stable_baselines3.common.env_util import make_vec_env\n",
    "\n",
    "env = gym.make(\"Futbol2v2-v1\")\n",
    "env = make_vec_env(lambda: env, n_envs=4, monitor_dir=log_dir)\n",
    "model = A2C(\"MlpPolicy\", env, device='cpu')\n",
    "model.learn(timesteps)\n",
    "model.save(\"models/footbol2v2-ppo\")"
   ],
   "metadata": {
    "colab": {
     "base_uri": "https://localhost:8080/",
     "height": 69,
     "referenced_widgets": [
      "f466f8a5ec2f481888847e2b87cdba37",
      "4642a4b3ccf349659444fde720c2d466"
     ]
    },
    "id": "mHbvP57YksxD",
    "outputId": "45f97807-63cd-4c86-9995-6513f40fc919"
   }
  },
  {
   "cell_type": "markdown",
   "source": [
    "# Display model statistic"
   ],
   "metadata": {
    "collapsed": false,
    "id": "2C5WeUZTksxF"
   }
  },
  {
   "cell_type": "code",
   "execution_count": 4,
   "outputs": [
    {
     "name": "stdout",
     "output_type": "stream",
     "text": [
      "     index            r   l          t\n",
      "0        0   155.344302  75   0.836995\n",
      "1        1    37.251805  75   1.236683\n",
      "2        2   246.193750  75   1.547551\n",
      "3        3 -1014.314991  75   1.856825\n",
      "4        4   295.685775  75   2.164369\n",
      "..     ...          ...  ..        ...\n",
      "161    161  1597.695812  75  57.009118\n",
      "162    162   -56.477502  75  57.346870\n",
      "163    163  2567.793982  75  57.695286\n",
      "164    164   363.661477  75  58.012881\n",
      "165    165   113.101150  75  58.335833\n",
      "\n",
      "[166 rows x 4 columns]\n"
     ]
    },
    {
     "data": {
      "text/plain": "<Figure size 800x200 with 1 Axes>",
      "image/png": "[encoded data removed]"
     },
     "metadata": {},
     "output_type": "display_data"
    }
   ],
   "source": [
    "from IPython import display\n",
    "from stable_baselines3.common import results_plotter\n",
    "\n",
    "results_plotter.plot_results([log_dir], timesteps, results_plotter.X_EPISODES, \"Futbol2v2-v1\")\n",
    "display.display(plt.gcf())\n",
    "display.clear_output(wait=True)\n",
    "\n",
    "log_data = results_plotter.load_results(log_dir)\n",
    "print(log_data)"
   ],
   "metadata": {
    "colab": {
     "base_uri": "https://localhost:8080/",
     "height": 743
    },
    "id": "45pY0crsksxH",
    "outputId": "e40e4200-0744-46f4-9baf-03baf1f85aa8"
   }
  },
  {
   "cell_type": "markdown",
   "source": [
    "# Load model from file"
   ],
   "metadata": {
    "collapsed": false,
    "id": "ibGWimnSksxI"
   }
  },
  {
   "cell_type": "code",
   "execution_count": 12,
   "outputs": [],
   "source": [
    "model = A2C.load(\"models/footbol2v2-a2c\", device=\"cpu\")"
   ],
   "metadata": {
    "id": "FqGmYmxqksxJ"
   }
  },
  {
   "cell_type": "markdown",
   "source": [
    "# Run models"
   ],
   "metadata": {
    "collapsed": false,
    "id": "0yViYQDSksxK"
   }
  },
  {
   "cell_type": "markdown",
   "source": [
    "## Pygame\n",
    "Run game with model in new windows with pygame"
   ],
   "metadata": {
    "collapsed": false,
    "id": "qKmF2TgEksxK"
   }
  },
  {
   "cell_type": "code",
   "execution_count": 13,
   "outputs": [],
   "source": [
    "RES = WIDTH, HEIGHT = 600, 600\n",
    "FPS = 60\n",
    "\n",
    "env = gym.make(\"Futbol2v2-v1\", width=WIDTH-2, height=HEIGHT-2, player_radius=15, ball_radius=5)\n",
    "visualizer = utils.PygameVisualizer(env, FPS)\n",
    "visualizer.run(model)\n",
    "\n",
    "env.close()\n",
    "visualizer.close()"
   ],
   "metadata": {
    "colab": {
     "base_uri": "https://localhost:8080/",
     "height": 360
    },
    "id": "Vx1-BfgrksxL",
    "outputId": "22ce6b65-b5fa-4071-a006-7dae2720c3db"
   }
  },
  {
   "cell_type": "markdown",
   "source": [
    "## Matplotlib\n",
    "Run model in notebook with matplotlib"
   ],
   "metadata": {
    "collapsed": false,
    "id": "kMQKe7LhksxL"
   }
  },
  {
   "cell_type": "code",
   "execution_count": 25,
   "outputs": [
    {
     "ename": "KeyboardInterrupt",
     "evalue": "",
     "output_type": "error",
     "traceback": [
      "\u001B[0;31m---------------------------------------------------------------------------\u001B[0m",
      "\u001B[0;31mKeyboardInterrupt\u001B[0m                         Traceback (most recent call last)",
      "Cell \u001B[0;32mIn [25], line 4\u001B[0m\n\u001B[1;32m      1\u001B[0m env \u001B[38;5;241m=\u001B[39m gym\u001B[38;5;241m.\u001B[39mmake(\u001B[38;5;124m\"\u001B[39m\u001B[38;5;124mFutbol2v2-v1\u001B[39m\u001B[38;5;124m\"\u001B[39m)\n\u001B[1;32m      3\u001B[0m visualizer \u001B[38;5;241m=\u001B[39m utils\u001B[38;5;241m.\u001B[39mMatplotlibVisualizer(env)\n\u001B[0;32m----> 4\u001B[0m \u001B[43mvisualizer\u001B[49m\u001B[38;5;241;43m.\u001B[39;49m\u001B[43mrun\u001B[49m\u001B[43m(\u001B[49m\u001B[43mmodel\u001B[49m\u001B[43m)\u001B[49m\n\u001B[1;32m      6\u001B[0m env\u001B[38;5;241m.\u001B[39mclose()\n",
      "File \u001B[0;32m~/ДЗ/ВКРv2/hai-nonconflict-action-learning/utils.py:32\u001B[0m, in \u001B[0;36mBaseVisualizer.run\u001B[0;34m(self, model)\u001B[0m\n\u001B[1;32m     30\u001B[0m     action, _states \u001B[38;5;241m=\u001B[39m model\u001B[38;5;241m.\u001B[39mpredict(ob)\n\u001B[1;32m     31\u001B[0m     ob, reward, done, info \u001B[38;5;241m=\u001B[39m \u001B[38;5;28mself\u001B[39m\u001B[38;5;241m.\u001B[39menv\u001B[38;5;241m.\u001B[39mstep(action)\n\u001B[0;32m---> 32\u001B[0m     \u001B[38;5;28;43mself\u001B[39;49m\u001B[38;5;241;43m.\u001B[39;49m\u001B[43mvisualize\u001B[49m\u001B[43m(\u001B[49m\u001B[43mreward\u001B[49m\u001B[43m)\u001B[49m\n\u001B[1;32m     33\u001B[0m     total_reward \u001B[38;5;241m+\u001B[39m\u001B[38;5;241m=\u001B[39m reward\n\u001B[1;32m     34\u001B[0m \u001B[38;5;28;01mreturn\u001B[39;00m total_reward\n",
      "File \u001B[0;32m~/ДЗ/ВКРv2/hai-nonconflict-action-learning/utils.py:75\u001B[0m, in \u001B[0;36mMatplotlibVisualizer.visualize\u001B[0;34m(self, reward)\u001B[0m\n\u001B[1;32m     73\u001B[0m \u001B[38;5;28mself\u001B[39m\u001B[38;5;241m.\u001B[39menv\u001B[38;5;241m.\u001B[39mspace\u001B[38;5;241m.\u001B[39mdebug_draw(draw_options)\n\u001B[1;32m     74\u001B[0m plt\u001B[38;5;241m.\u001B[39mtitle(\u001B[38;5;124mf\u001B[39m\u001B[38;5;124m\"\u001B[39m\u001B[38;5;124mReward: \u001B[39m\u001B[38;5;132;01m{\u001B[39;00mreward\u001B[38;5;132;01m}\u001B[39;00m\u001B[38;5;124m\"\u001B[39m, loc\u001B[38;5;241m=\u001B[39m\u001B[38;5;124m'\u001B[39m\u001B[38;5;124mleft\u001B[39m\u001B[38;5;124m'\u001B[39m)\n\u001B[0;32m---> 75\u001B[0m \u001B[43mdisplay\u001B[49m\u001B[38;5;241;43m.\u001B[39;49m\u001B[43mdisplay\u001B[49m\u001B[43m(\u001B[49m\u001B[43mplt\u001B[49m\u001B[38;5;241;43m.\u001B[39;49m\u001B[43mgcf\u001B[49m\u001B[43m(\u001B[49m\u001B[43m)\u001B[49m\u001B[43m)\u001B[49m\n\u001B[1;32m     76\u001B[0m display\u001B[38;5;241m.\u001B[39mclear_output(wait\u001B[38;5;241m=\u001B[39m\u001B[38;5;28;01mTrue\u001B[39;00m)\n",
      "File \u001B[0;32m~/ДЗ/ВКРv2/hai-nonconflict-action-learning/venv/lib/python3.10/site-packages/IPython/core/display_functions.py:298\u001B[0m, in \u001B[0;36mdisplay\u001B[0;34m(include, exclude, metadata, transient, display_id, raw, clear, *objs, **kwargs)\u001B[0m\n\u001B[1;32m    296\u001B[0m     publish_display_data(data\u001B[38;5;241m=\u001B[39mobj, metadata\u001B[38;5;241m=\u001B[39mmetadata, \u001B[38;5;241m*\u001B[39m\u001B[38;5;241m*\u001B[39mkwargs)\n\u001B[1;32m    297\u001B[0m \u001B[38;5;28;01melse\u001B[39;00m:\n\u001B[0;32m--> 298\u001B[0m     format_dict, md_dict \u001B[38;5;241m=\u001B[39m \u001B[38;5;28;43mformat\u001B[39;49m\u001B[43m(\u001B[49m\u001B[43mobj\u001B[49m\u001B[43m,\u001B[49m\u001B[43m \u001B[49m\u001B[43minclude\u001B[49m\u001B[38;5;241;43m=\u001B[39;49m\u001B[43minclude\u001B[49m\u001B[43m,\u001B[49m\u001B[43m \u001B[49m\u001B[43mexclude\u001B[49m\u001B[38;5;241;43m=\u001B[39;49m\u001B[43mexclude\u001B[49m\u001B[43m)\u001B[49m\n\u001B[1;32m    299\u001B[0m     \u001B[38;5;28;01mif\u001B[39;00m \u001B[38;5;129;01mnot\u001B[39;00m format_dict:\n\u001B[1;32m    300\u001B[0m         \u001B[38;5;66;03m# nothing to display (e.g. _ipython_display_ took over)\u001B[39;00m\n\u001B[1;32m    301\u001B[0m         \u001B[38;5;28;01mcontinue\u001B[39;00m\n",
      "File \u001B[0;32m~/ДЗ/ВКРv2/hai-nonconflict-action-learning/venv/lib/python3.10/site-packages/IPython/core/formatters.py:177\u001B[0m, in \u001B[0;36mDisplayFormatter.format\u001B[0;34m(self, obj, include, exclude)\u001B[0m\n\u001B[1;32m    175\u001B[0m md \u001B[38;5;241m=\u001B[39m \u001B[38;5;28;01mNone\u001B[39;00m\n\u001B[1;32m    176\u001B[0m \u001B[38;5;28;01mtry\u001B[39;00m:\n\u001B[0;32m--> 177\u001B[0m     data \u001B[38;5;241m=\u001B[39m \u001B[43mformatter\u001B[49m\u001B[43m(\u001B[49m\u001B[43mobj\u001B[49m\u001B[43m)\u001B[49m\n\u001B[1;32m    178\u001B[0m \u001B[38;5;28;01mexcept\u001B[39;00m:\n\u001B[1;32m    179\u001B[0m     \u001B[38;5;66;03m# FIXME: log the exception\u001B[39;00m\n\u001B[1;32m    180\u001B[0m     \u001B[38;5;28;01mraise\u001B[39;00m\n",
      "File \u001B[0;32m~/ДЗ/ВКРv2/hai-nonconflict-action-learning/venv/lib/python3.10/site-packages/decorator.py:232\u001B[0m, in \u001B[0;36mdecorate.<locals>.fun\u001B[0;34m(*args, **kw)\u001B[0m\n\u001B[1;32m    230\u001B[0m \u001B[38;5;28;01mif\u001B[39;00m \u001B[38;5;129;01mnot\u001B[39;00m kwsyntax:\n\u001B[1;32m    231\u001B[0m     args, kw \u001B[38;5;241m=\u001B[39m fix(args, kw, sig)\n\u001B[0;32m--> 232\u001B[0m \u001B[38;5;28;01mreturn\u001B[39;00m \u001B[43mcaller\u001B[49m\u001B[43m(\u001B[49m\u001B[43mfunc\u001B[49m\u001B[43m,\u001B[49m\u001B[43m \u001B[49m\u001B[38;5;241;43m*\u001B[39;49m\u001B[43m(\u001B[49m\u001B[43mextras\u001B[49m\u001B[43m \u001B[49m\u001B[38;5;241;43m+\u001B[39;49m\u001B[43m \u001B[49m\u001B[43margs\u001B[49m\u001B[43m)\u001B[49m\u001B[43m,\u001B[49m\u001B[43m \u001B[49m\u001B[38;5;241;43m*\u001B[39;49m\u001B[38;5;241;43m*\u001B[39;49m\u001B[43mkw\u001B[49m\u001B[43m)\u001B[49m\n",
      "File \u001B[0;32m~/ДЗ/ВКРv2/hai-nonconflict-action-learning/venv/lib/python3.10/site-packages/IPython/core/formatters.py:221\u001B[0m, in \u001B[0;36mcatch_format_error\u001B[0;34m(method, self, *args, **kwargs)\u001B[0m\n\u001B[1;32m    219\u001B[0m \u001B[38;5;124;03m\"\"\"show traceback on failed format call\"\"\"\u001B[39;00m\n\u001B[1;32m    220\u001B[0m \u001B[38;5;28;01mtry\u001B[39;00m:\n\u001B[0;32m--> 221\u001B[0m     r \u001B[38;5;241m=\u001B[39m \u001B[43mmethod\u001B[49m\u001B[43m(\u001B[49m\u001B[38;5;28;43mself\u001B[39;49m\u001B[43m,\u001B[49m\u001B[43m \u001B[49m\u001B[38;5;241;43m*\u001B[39;49m\u001B[43margs\u001B[49m\u001B[43m,\u001B[49m\u001B[43m \u001B[49m\u001B[38;5;241;43m*\u001B[39;49m\u001B[38;5;241;43m*\u001B[39;49m\u001B[43mkwargs\u001B[49m\u001B[43m)\u001B[49m\n\u001B[1;32m    222\u001B[0m \u001B[38;5;28;01mexcept\u001B[39;00m \u001B[38;5;167;01mNotImplementedError\u001B[39;00m:\n\u001B[1;32m    223\u001B[0m     \u001B[38;5;66;03m# don't warn on NotImplementedErrors\u001B[39;00m\n\u001B[1;32m    224\u001B[0m     \u001B[38;5;28;01mreturn\u001B[39;00m \u001B[38;5;28mself\u001B[39m\u001B[38;5;241m.\u001B[39m_check_return(\u001B[38;5;28;01mNone\u001B[39;00m, args[\u001B[38;5;241m0\u001B[39m])\n",
      "File \u001B[0;32m~/ДЗ/ВКРv2/hai-nonconflict-action-learning/venv/lib/python3.10/site-packages/IPython/core/formatters.py:338\u001B[0m, in \u001B[0;36mBaseFormatter.__call__\u001B[0;34m(self, obj)\u001B[0m\n\u001B[1;32m    336\u001B[0m     \u001B[38;5;28;01mpass\u001B[39;00m\n\u001B[1;32m    337\u001B[0m \u001B[38;5;28;01melse\u001B[39;00m:\n\u001B[0;32m--> 338\u001B[0m     \u001B[38;5;28;01mreturn\u001B[39;00m \u001B[43mprinter\u001B[49m\u001B[43m(\u001B[49m\u001B[43mobj\u001B[49m\u001B[43m)\u001B[49m\n\u001B[1;32m    339\u001B[0m \u001B[38;5;66;03m# Finally look for special method names\u001B[39;00m\n\u001B[1;32m    340\u001B[0m method \u001B[38;5;241m=\u001B[39m get_real_method(obj, \u001B[38;5;28mself\u001B[39m\u001B[38;5;241m.\u001B[39mprint_method)\n",
      "File \u001B[0;32m~/ДЗ/ВКРv2/hai-nonconflict-action-learning/venv/lib/python3.10/site-packages/IPython/core/pylabtools.py:152\u001B[0m, in \u001B[0;36mprint_figure\u001B[0;34m(fig, fmt, bbox_inches, base64, **kwargs)\u001B[0m\n\u001B[1;32m    149\u001B[0m     \u001B[38;5;28;01mfrom\u001B[39;00m \u001B[38;5;21;01mmatplotlib\u001B[39;00m\u001B[38;5;21;01m.\u001B[39;00m\u001B[38;5;21;01mbackend_bases\u001B[39;00m \u001B[38;5;28;01mimport\u001B[39;00m FigureCanvasBase\n\u001B[1;32m    150\u001B[0m     FigureCanvasBase(fig)\n\u001B[0;32m--> 152\u001B[0m \u001B[43mfig\u001B[49m\u001B[38;5;241;43m.\u001B[39;49m\u001B[43mcanvas\u001B[49m\u001B[38;5;241;43m.\u001B[39;49m\u001B[43mprint_figure\u001B[49m\u001B[43m(\u001B[49m\u001B[43mbytes_io\u001B[49m\u001B[43m,\u001B[49m\u001B[43m \u001B[49m\u001B[38;5;241;43m*\u001B[39;49m\u001B[38;5;241;43m*\u001B[39;49m\u001B[43mkw\u001B[49m\u001B[43m)\u001B[49m\n\u001B[1;32m    153\u001B[0m data \u001B[38;5;241m=\u001B[39m bytes_io\u001B[38;5;241m.\u001B[39mgetvalue()\n\u001B[1;32m    154\u001B[0m \u001B[38;5;28;01mif\u001B[39;00m fmt \u001B[38;5;241m==\u001B[39m \u001B[38;5;124m'\u001B[39m\u001B[38;5;124msvg\u001B[39m\u001B[38;5;124m'\u001B[39m:\n",
      "File \u001B[0;32m~/ДЗ/ВКРv2/hai-nonconflict-action-learning/venv/lib/python3.10/site-packages/matplotlib/backend_bases.py:2338\u001B[0m, in \u001B[0;36mFigureCanvasBase.print_figure\u001B[0;34m(self, filename, dpi, facecolor, edgecolor, orientation, format, bbox_inches, pad_inches, bbox_extra_artists, backend, **kwargs)\u001B[0m\n\u001B[1;32m   2334\u001B[0m \u001B[38;5;28;01mtry\u001B[39;00m:\n\u001B[1;32m   2335\u001B[0m     \u001B[38;5;66;03m# _get_renderer may change the figure dpi (as vector formats\u001B[39;00m\n\u001B[1;32m   2336\u001B[0m     \u001B[38;5;66;03m# force the figure dpi to 72), so we need to set it again here.\u001B[39;00m\n\u001B[1;32m   2337\u001B[0m     \u001B[38;5;28;01mwith\u001B[39;00m cbook\u001B[38;5;241m.\u001B[39m_setattr_cm(\u001B[38;5;28mself\u001B[39m\u001B[38;5;241m.\u001B[39mfigure, dpi\u001B[38;5;241m=\u001B[39mdpi):\n\u001B[0;32m-> 2338\u001B[0m         result \u001B[38;5;241m=\u001B[39m \u001B[43mprint_method\u001B[49m\u001B[43m(\u001B[49m\n\u001B[1;32m   2339\u001B[0m \u001B[43m            \u001B[49m\u001B[43mfilename\u001B[49m\u001B[43m,\u001B[49m\n\u001B[1;32m   2340\u001B[0m \u001B[43m            \u001B[49m\u001B[43mfacecolor\u001B[49m\u001B[38;5;241;43m=\u001B[39;49m\u001B[43mfacecolor\u001B[49m\u001B[43m,\u001B[49m\n\u001B[1;32m   2341\u001B[0m \u001B[43m            \u001B[49m\u001B[43medgecolor\u001B[49m\u001B[38;5;241;43m=\u001B[39;49m\u001B[43medgecolor\u001B[49m\u001B[43m,\u001B[49m\n\u001B[1;32m   2342\u001B[0m \u001B[43m            \u001B[49m\u001B[43morientation\u001B[49m\u001B[38;5;241;43m=\u001B[39;49m\u001B[43morientation\u001B[49m\u001B[43m,\u001B[49m\n\u001B[1;32m   2343\u001B[0m \u001B[43m            \u001B[49m\u001B[43mbbox_inches_restore\u001B[49m\u001B[38;5;241;43m=\u001B[39;49m\u001B[43m_bbox_inches_restore\u001B[49m\u001B[43m,\u001B[49m\n\u001B[1;32m   2344\u001B[0m \u001B[43m            \u001B[49m\u001B[38;5;241;43m*\u001B[39;49m\u001B[38;5;241;43m*\u001B[39;49m\u001B[43mkwargs\u001B[49m\u001B[43m)\u001B[49m\n\u001B[1;32m   2345\u001B[0m \u001B[38;5;28;01mfinally\u001B[39;00m:\n\u001B[1;32m   2346\u001B[0m     \u001B[38;5;28;01mif\u001B[39;00m bbox_inches \u001B[38;5;129;01mand\u001B[39;00m restore_bbox:\n",
      "File \u001B[0;32m~/ДЗ/ВКРv2/hai-nonconflict-action-learning/venv/lib/python3.10/site-packages/matplotlib/backend_bases.py:2204\u001B[0m, in \u001B[0;36mFigureCanvasBase._switch_canvas_and_return_print_method.<locals>.<lambda>\u001B[0;34m(*args, **kwargs)\u001B[0m\n\u001B[1;32m   2200\u001B[0m     optional_kws \u001B[38;5;241m=\u001B[39m {  \u001B[38;5;66;03m# Passed by print_figure for other renderers.\u001B[39;00m\n\u001B[1;32m   2201\u001B[0m         \u001B[38;5;124m\"\u001B[39m\u001B[38;5;124mdpi\u001B[39m\u001B[38;5;124m\"\u001B[39m, \u001B[38;5;124m\"\u001B[39m\u001B[38;5;124mfacecolor\u001B[39m\u001B[38;5;124m\"\u001B[39m, \u001B[38;5;124m\"\u001B[39m\u001B[38;5;124medgecolor\u001B[39m\u001B[38;5;124m\"\u001B[39m, \u001B[38;5;124m\"\u001B[39m\u001B[38;5;124morientation\u001B[39m\u001B[38;5;124m\"\u001B[39m,\n\u001B[1;32m   2202\u001B[0m         \u001B[38;5;124m\"\u001B[39m\u001B[38;5;124mbbox_inches_restore\u001B[39m\u001B[38;5;124m\"\u001B[39m}\n\u001B[1;32m   2203\u001B[0m     skip \u001B[38;5;241m=\u001B[39m optional_kws \u001B[38;5;241m-\u001B[39m {\u001B[38;5;241m*\u001B[39minspect\u001B[38;5;241m.\u001B[39msignature(meth)\u001B[38;5;241m.\u001B[39mparameters}\n\u001B[0;32m-> 2204\u001B[0m     print_method \u001B[38;5;241m=\u001B[39m functools\u001B[38;5;241m.\u001B[39mwraps(meth)(\u001B[38;5;28;01mlambda\u001B[39;00m \u001B[38;5;241m*\u001B[39margs, \u001B[38;5;241m*\u001B[39m\u001B[38;5;241m*\u001B[39mkwargs: \u001B[43mmeth\u001B[49m\u001B[43m(\u001B[49m\n\u001B[1;32m   2205\u001B[0m \u001B[43m        \u001B[49m\u001B[38;5;241;43m*\u001B[39;49m\u001B[43margs\u001B[49m\u001B[43m,\u001B[49m\u001B[43m \u001B[49m\u001B[38;5;241;43m*\u001B[39;49m\u001B[38;5;241;43m*\u001B[39;49m\u001B[43m{\u001B[49m\u001B[43mk\u001B[49m\u001B[43m:\u001B[49m\u001B[43m \u001B[49m\u001B[43mv\u001B[49m\u001B[43m \u001B[49m\u001B[38;5;28;43;01mfor\u001B[39;49;00m\u001B[43m \u001B[49m\u001B[43mk\u001B[49m\u001B[43m,\u001B[49m\u001B[43m \u001B[49m\u001B[43mv\u001B[49m\u001B[43m \u001B[49m\u001B[38;5;129;43;01min\u001B[39;49;00m\u001B[43m \u001B[49m\u001B[43mkwargs\u001B[49m\u001B[38;5;241;43m.\u001B[39;49m\u001B[43mitems\u001B[49m\u001B[43m(\u001B[49m\u001B[43m)\u001B[49m\u001B[43m \u001B[49m\u001B[38;5;28;43;01mif\u001B[39;49;00m\u001B[43m \u001B[49m\u001B[43mk\u001B[49m\u001B[43m \u001B[49m\u001B[38;5;129;43;01mnot\u001B[39;49;00m\u001B[43m \u001B[49m\u001B[38;5;129;43;01min\u001B[39;49;00m\u001B[43m \u001B[49m\u001B[43mskip\u001B[49m\u001B[43m}\u001B[49m\u001B[43m)\u001B[49m)\n\u001B[1;32m   2206\u001B[0m \u001B[38;5;28;01melse\u001B[39;00m:  \u001B[38;5;66;03m# Let third-parties do as they see fit.\u001B[39;00m\n\u001B[1;32m   2207\u001B[0m     print_method \u001B[38;5;241m=\u001B[39m meth\n",
      "File \u001B[0;32m~/ДЗ/ВКРv2/hai-nonconflict-action-learning/venv/lib/python3.10/site-packages/matplotlib/_api/deprecation.py:410\u001B[0m, in \u001B[0;36mdelete_parameter.<locals>.wrapper\u001B[0;34m(*inner_args, **inner_kwargs)\u001B[0m\n\u001B[1;32m    400\u001B[0m     deprecation_addendum \u001B[38;5;241m=\u001B[39m (\n\u001B[1;32m    401\u001B[0m         \u001B[38;5;124mf\u001B[39m\u001B[38;5;124m\"\u001B[39m\u001B[38;5;124mIf any parameter follows \u001B[39m\u001B[38;5;132;01m{\u001B[39;00mname\u001B[38;5;132;01m!r}\u001B[39;00m\u001B[38;5;124m, they should be passed as \u001B[39m\u001B[38;5;124m\"\u001B[39m\n\u001B[1;32m    402\u001B[0m         \u001B[38;5;124mf\u001B[39m\u001B[38;5;124m\"\u001B[39m\u001B[38;5;124mkeyword, not positionally.\u001B[39m\u001B[38;5;124m\"\u001B[39m)\n\u001B[1;32m    403\u001B[0m     warn_deprecated(\n\u001B[1;32m    404\u001B[0m         since,\n\u001B[1;32m    405\u001B[0m         name\u001B[38;5;241m=\u001B[39m\u001B[38;5;28mrepr\u001B[39m(name),\n\u001B[0;32m   (...)\u001B[0m\n\u001B[1;32m    408\u001B[0m                  \u001B[38;5;28;01melse\u001B[39;00m deprecation_addendum,\n\u001B[1;32m    409\u001B[0m         \u001B[38;5;241m*\u001B[39m\u001B[38;5;241m*\u001B[39mkwargs)\n\u001B[0;32m--> 410\u001B[0m \u001B[38;5;28;01mreturn\u001B[39;00m \u001B[43mfunc\u001B[49m\u001B[43m(\u001B[49m\u001B[38;5;241;43m*\u001B[39;49m\u001B[43minner_args\u001B[49m\u001B[43m,\u001B[49m\u001B[43m \u001B[49m\u001B[38;5;241;43m*\u001B[39;49m\u001B[38;5;241;43m*\u001B[39;49m\u001B[43minner_kwargs\u001B[49m\u001B[43m)\u001B[49m\n",
      "File \u001B[0;32m~/ДЗ/ВКРv2/hai-nonconflict-action-learning/venv/lib/python3.10/site-packages/matplotlib/backends/backend_agg.py:517\u001B[0m, in \u001B[0;36mFigureCanvasAgg.print_png\u001B[0;34m(self, filename_or_obj, metadata, pil_kwargs, *args)\u001B[0m\n\u001B[1;32m    468\u001B[0m \u001B[38;5;129m@_api\u001B[39m\u001B[38;5;241m.\u001B[39mdelete_parameter(\u001B[38;5;124m\"\u001B[39m\u001B[38;5;124m3.5\u001B[39m\u001B[38;5;124m\"\u001B[39m, \u001B[38;5;124m\"\u001B[39m\u001B[38;5;124margs\u001B[39m\u001B[38;5;124m\"\u001B[39m)\n\u001B[1;32m    469\u001B[0m \u001B[38;5;28;01mdef\u001B[39;00m \u001B[38;5;21mprint_png\u001B[39m(\u001B[38;5;28mself\u001B[39m, filename_or_obj, \u001B[38;5;241m*\u001B[39margs,\n\u001B[1;32m    470\u001B[0m               metadata\u001B[38;5;241m=\u001B[39m\u001B[38;5;28;01mNone\u001B[39;00m, pil_kwargs\u001B[38;5;241m=\u001B[39m\u001B[38;5;28;01mNone\u001B[39;00m):\n\u001B[1;32m    471\u001B[0m     \u001B[38;5;124;03m\"\"\"\u001B[39;00m\n\u001B[1;32m    472\u001B[0m \u001B[38;5;124;03m    Write the figure to a PNG file.\u001B[39;00m\n\u001B[1;32m    473\u001B[0m \n\u001B[0;32m   (...)\u001B[0m\n\u001B[1;32m    515\u001B[0m \u001B[38;5;124;03m        *metadata*, including the default 'Software' key.\u001B[39;00m\n\u001B[1;32m    516\u001B[0m \u001B[38;5;124;03m    \"\"\"\u001B[39;00m\n\u001B[0;32m--> 517\u001B[0m     \u001B[38;5;28;43mself\u001B[39;49m\u001B[38;5;241;43m.\u001B[39;49m\u001B[43m_print_pil\u001B[49m\u001B[43m(\u001B[49m\u001B[43mfilename_or_obj\u001B[49m\u001B[43m,\u001B[49m\u001B[43m \u001B[49m\u001B[38;5;124;43m\"\u001B[39;49m\u001B[38;5;124;43mpng\u001B[39;49m\u001B[38;5;124;43m\"\u001B[39;49m\u001B[43m,\u001B[49m\u001B[43m \u001B[49m\u001B[43mpil_kwargs\u001B[49m\u001B[43m,\u001B[49m\u001B[43m \u001B[49m\u001B[43mmetadata\u001B[49m\u001B[43m)\u001B[49m\n",
      "File \u001B[0;32m~/ДЗ/ВКРv2/hai-nonconflict-action-learning/venv/lib/python3.10/site-packages/matplotlib/backends/backend_agg.py:463\u001B[0m, in \u001B[0;36mFigureCanvasAgg._print_pil\u001B[0;34m(self, filename_or_obj, fmt, pil_kwargs, metadata)\u001B[0m\n\u001B[1;32m    458\u001B[0m \u001B[38;5;28;01mdef\u001B[39;00m \u001B[38;5;21m_print_pil\u001B[39m(\u001B[38;5;28mself\u001B[39m, filename_or_obj, fmt, pil_kwargs, metadata\u001B[38;5;241m=\u001B[39m\u001B[38;5;28;01mNone\u001B[39;00m):\n\u001B[1;32m    459\u001B[0m     \u001B[38;5;124;03m\"\"\"\u001B[39;00m\n\u001B[1;32m    460\u001B[0m \u001B[38;5;124;03m    Draw the canvas, then save it using `.image.imsave` (to which\u001B[39;00m\n\u001B[1;32m    461\u001B[0m \u001B[38;5;124;03m    *pil_kwargs* and *metadata* are forwarded).\u001B[39;00m\n\u001B[1;32m    462\u001B[0m \u001B[38;5;124;03m    \"\"\"\u001B[39;00m\n\u001B[0;32m--> 463\u001B[0m     \u001B[43mFigureCanvasAgg\u001B[49m\u001B[38;5;241;43m.\u001B[39;49m\u001B[43mdraw\u001B[49m\u001B[43m(\u001B[49m\u001B[38;5;28;43mself\u001B[39;49m\u001B[43m)\u001B[49m\n\u001B[1;32m    464\u001B[0m     mpl\u001B[38;5;241m.\u001B[39mimage\u001B[38;5;241m.\u001B[39mimsave(\n\u001B[1;32m    465\u001B[0m         filename_or_obj, \u001B[38;5;28mself\u001B[39m\u001B[38;5;241m.\u001B[39mbuffer_rgba(), \u001B[38;5;28mformat\u001B[39m\u001B[38;5;241m=\u001B[39mfmt, origin\u001B[38;5;241m=\u001B[39m\u001B[38;5;124m\"\u001B[39m\u001B[38;5;124mupper\u001B[39m\u001B[38;5;124m\"\u001B[39m,\n\u001B[1;32m    466\u001B[0m         dpi\u001B[38;5;241m=\u001B[39m\u001B[38;5;28mself\u001B[39m\u001B[38;5;241m.\u001B[39mfigure\u001B[38;5;241m.\u001B[39mdpi, metadata\u001B[38;5;241m=\u001B[39mmetadata, pil_kwargs\u001B[38;5;241m=\u001B[39mpil_kwargs)\n",
      "File \u001B[0;32m~/ДЗ/ВКРv2/hai-nonconflict-action-learning/venv/lib/python3.10/site-packages/matplotlib/backends/backend_agg.py:405\u001B[0m, in \u001B[0;36mFigureCanvasAgg.draw\u001B[0;34m(self)\u001B[0m\n\u001B[1;32m    401\u001B[0m \u001B[38;5;66;03m# Acquire a lock on the shared font cache.\u001B[39;00m\n\u001B[1;32m    402\u001B[0m \u001B[38;5;28;01mwith\u001B[39;00m RendererAgg\u001B[38;5;241m.\u001B[39mlock, \\\n\u001B[1;32m    403\u001B[0m      (\u001B[38;5;28mself\u001B[39m\u001B[38;5;241m.\u001B[39mtoolbar\u001B[38;5;241m.\u001B[39m_wait_cursor_for_draw_cm() \u001B[38;5;28;01mif\u001B[39;00m \u001B[38;5;28mself\u001B[39m\u001B[38;5;241m.\u001B[39mtoolbar\n\u001B[1;32m    404\u001B[0m       \u001B[38;5;28;01melse\u001B[39;00m nullcontext()):\n\u001B[0;32m--> 405\u001B[0m     \u001B[38;5;28;43mself\u001B[39;49m\u001B[38;5;241;43m.\u001B[39;49m\u001B[43mfigure\u001B[49m\u001B[38;5;241;43m.\u001B[39;49m\u001B[43mdraw\u001B[49m\u001B[43m(\u001B[49m\u001B[38;5;28;43mself\u001B[39;49m\u001B[38;5;241;43m.\u001B[39;49m\u001B[43mrenderer\u001B[49m\u001B[43m)\u001B[49m\n\u001B[1;32m    406\u001B[0m     \u001B[38;5;66;03m# A GUI class may be need to update a window using this draw, so\u001B[39;00m\n\u001B[1;32m    407\u001B[0m     \u001B[38;5;66;03m# don't forget to call the superclass.\u001B[39;00m\n\u001B[1;32m    408\u001B[0m     \u001B[38;5;28msuper\u001B[39m()\u001B[38;5;241m.\u001B[39mdraw()\n",
      "File \u001B[0;32m~/ДЗ/ВКРv2/hai-nonconflict-action-learning/venv/lib/python3.10/site-packages/matplotlib/artist.py:74\u001B[0m, in \u001B[0;36m_finalize_rasterization.<locals>.draw_wrapper\u001B[0;34m(artist, renderer, *args, **kwargs)\u001B[0m\n\u001B[1;32m     72\u001B[0m \u001B[38;5;129m@wraps\u001B[39m(draw)\n\u001B[1;32m     73\u001B[0m \u001B[38;5;28;01mdef\u001B[39;00m \u001B[38;5;21mdraw_wrapper\u001B[39m(artist, renderer, \u001B[38;5;241m*\u001B[39margs, \u001B[38;5;241m*\u001B[39m\u001B[38;5;241m*\u001B[39mkwargs):\n\u001B[0;32m---> 74\u001B[0m     result \u001B[38;5;241m=\u001B[39m \u001B[43mdraw\u001B[49m\u001B[43m(\u001B[49m\u001B[43martist\u001B[49m\u001B[43m,\u001B[49m\u001B[43m \u001B[49m\u001B[43mrenderer\u001B[49m\u001B[43m,\u001B[49m\u001B[43m \u001B[49m\u001B[38;5;241;43m*\u001B[39;49m\u001B[43margs\u001B[49m\u001B[43m,\u001B[49m\u001B[43m \u001B[49m\u001B[38;5;241;43m*\u001B[39;49m\u001B[38;5;241;43m*\u001B[39;49m\u001B[43mkwargs\u001B[49m\u001B[43m)\u001B[49m\n\u001B[1;32m     75\u001B[0m     \u001B[38;5;28;01mif\u001B[39;00m renderer\u001B[38;5;241m.\u001B[39m_rasterizing:\n\u001B[1;32m     76\u001B[0m         renderer\u001B[38;5;241m.\u001B[39mstop_rasterizing()\n",
      "File \u001B[0;32m~/ДЗ/ВКРv2/hai-nonconflict-action-learning/venv/lib/python3.10/site-packages/matplotlib/artist.py:51\u001B[0m, in \u001B[0;36mallow_rasterization.<locals>.draw_wrapper\u001B[0;34m(artist, renderer)\u001B[0m\n\u001B[1;32m     48\u001B[0m     \u001B[38;5;28;01mif\u001B[39;00m artist\u001B[38;5;241m.\u001B[39mget_agg_filter() \u001B[38;5;129;01mis\u001B[39;00m \u001B[38;5;129;01mnot\u001B[39;00m \u001B[38;5;28;01mNone\u001B[39;00m:\n\u001B[1;32m     49\u001B[0m         renderer\u001B[38;5;241m.\u001B[39mstart_filter()\n\u001B[0;32m---> 51\u001B[0m     \u001B[38;5;28;01mreturn\u001B[39;00m \u001B[43mdraw\u001B[49m\u001B[43m(\u001B[49m\u001B[43martist\u001B[49m\u001B[43m,\u001B[49m\u001B[43m \u001B[49m\u001B[43mrenderer\u001B[49m\u001B[43m)\u001B[49m\n\u001B[1;32m     52\u001B[0m \u001B[38;5;28;01mfinally\u001B[39;00m:\n\u001B[1;32m     53\u001B[0m     \u001B[38;5;28;01mif\u001B[39;00m artist\u001B[38;5;241m.\u001B[39mget_agg_filter() \u001B[38;5;129;01mis\u001B[39;00m \u001B[38;5;129;01mnot\u001B[39;00m \u001B[38;5;28;01mNone\u001B[39;00m:\n",
      "File \u001B[0;32m~/ДЗ/ВКРv2/hai-nonconflict-action-learning/venv/lib/python3.10/site-packages/matplotlib/figure.py:3071\u001B[0m, in \u001B[0;36mFigure.draw\u001B[0;34m(self, renderer)\u001B[0m\n\u001B[1;32m   3068\u001B[0m         \u001B[38;5;66;03m# ValueError can occur when resizing a window.\u001B[39;00m\n\u001B[1;32m   3070\u001B[0m \u001B[38;5;28mself\u001B[39m\u001B[38;5;241m.\u001B[39mpatch\u001B[38;5;241m.\u001B[39mdraw(renderer)\n\u001B[0;32m-> 3071\u001B[0m \u001B[43mmimage\u001B[49m\u001B[38;5;241;43m.\u001B[39;49m\u001B[43m_draw_list_compositing_images\u001B[49m\u001B[43m(\u001B[49m\n\u001B[1;32m   3072\u001B[0m \u001B[43m    \u001B[49m\u001B[43mrenderer\u001B[49m\u001B[43m,\u001B[49m\u001B[43m \u001B[49m\u001B[38;5;28;43mself\u001B[39;49m\u001B[43m,\u001B[49m\u001B[43m \u001B[49m\u001B[43martists\u001B[49m\u001B[43m,\u001B[49m\u001B[43m \u001B[49m\u001B[38;5;28;43mself\u001B[39;49m\u001B[38;5;241;43m.\u001B[39;49m\u001B[43msuppressComposite\u001B[49m\u001B[43m)\u001B[49m\n\u001B[1;32m   3074\u001B[0m \u001B[38;5;28;01mfor\u001B[39;00m sfig \u001B[38;5;129;01min\u001B[39;00m \u001B[38;5;28mself\u001B[39m\u001B[38;5;241m.\u001B[39msubfigs:\n\u001B[1;32m   3075\u001B[0m     sfig\u001B[38;5;241m.\u001B[39mdraw(renderer)\n",
      "File \u001B[0;32m~/ДЗ/ВКРv2/hai-nonconflict-action-learning/venv/lib/python3.10/site-packages/matplotlib/image.py:131\u001B[0m, in \u001B[0;36m_draw_list_compositing_images\u001B[0;34m(renderer, parent, artists, suppress_composite)\u001B[0m\n\u001B[1;32m    129\u001B[0m \u001B[38;5;28;01mif\u001B[39;00m not_composite \u001B[38;5;129;01mor\u001B[39;00m \u001B[38;5;129;01mnot\u001B[39;00m has_images:\n\u001B[1;32m    130\u001B[0m     \u001B[38;5;28;01mfor\u001B[39;00m a \u001B[38;5;129;01min\u001B[39;00m artists:\n\u001B[0;32m--> 131\u001B[0m         \u001B[43ma\u001B[49m\u001B[38;5;241;43m.\u001B[39;49m\u001B[43mdraw\u001B[49m\u001B[43m(\u001B[49m\u001B[43mrenderer\u001B[49m\u001B[43m)\u001B[49m\n\u001B[1;32m    132\u001B[0m \u001B[38;5;28;01melse\u001B[39;00m:\n\u001B[1;32m    133\u001B[0m     \u001B[38;5;66;03m# Composite any adjacent images together\u001B[39;00m\n\u001B[1;32m    134\u001B[0m     image_group \u001B[38;5;241m=\u001B[39m []\n",
      "File \u001B[0;32m~/ДЗ/ВКРv2/hai-nonconflict-action-learning/venv/lib/python3.10/site-packages/matplotlib/artist.py:51\u001B[0m, in \u001B[0;36mallow_rasterization.<locals>.draw_wrapper\u001B[0;34m(artist, renderer)\u001B[0m\n\u001B[1;32m     48\u001B[0m     \u001B[38;5;28;01mif\u001B[39;00m artist\u001B[38;5;241m.\u001B[39mget_agg_filter() \u001B[38;5;129;01mis\u001B[39;00m \u001B[38;5;129;01mnot\u001B[39;00m \u001B[38;5;28;01mNone\u001B[39;00m:\n\u001B[1;32m     49\u001B[0m         renderer\u001B[38;5;241m.\u001B[39mstart_filter()\n\u001B[0;32m---> 51\u001B[0m     \u001B[38;5;28;01mreturn\u001B[39;00m \u001B[43mdraw\u001B[49m\u001B[43m(\u001B[49m\u001B[43martist\u001B[49m\u001B[43m,\u001B[49m\u001B[43m \u001B[49m\u001B[43mrenderer\u001B[49m\u001B[43m)\u001B[49m\n\u001B[1;32m     52\u001B[0m \u001B[38;5;28;01mfinally\u001B[39;00m:\n\u001B[1;32m     53\u001B[0m     \u001B[38;5;28;01mif\u001B[39;00m artist\u001B[38;5;241m.\u001B[39mget_agg_filter() \u001B[38;5;129;01mis\u001B[39;00m \u001B[38;5;129;01mnot\u001B[39;00m \u001B[38;5;28;01mNone\u001B[39;00m:\n",
      "File \u001B[0;32m~/ДЗ/ВКРv2/hai-nonconflict-action-learning/venv/lib/python3.10/site-packages/matplotlib/axes/_base.py:3107\u001B[0m, in \u001B[0;36m_AxesBase.draw\u001B[0;34m(self, renderer)\u001B[0m\n\u001B[1;32m   3104\u001B[0m         a\u001B[38;5;241m.\u001B[39mdraw(renderer)\n\u001B[1;32m   3105\u001B[0m     renderer\u001B[38;5;241m.\u001B[39mstop_rasterizing()\n\u001B[0;32m-> 3107\u001B[0m \u001B[43mmimage\u001B[49m\u001B[38;5;241;43m.\u001B[39;49m\u001B[43m_draw_list_compositing_images\u001B[49m\u001B[43m(\u001B[49m\n\u001B[1;32m   3108\u001B[0m \u001B[43m    \u001B[49m\u001B[43mrenderer\u001B[49m\u001B[43m,\u001B[49m\u001B[43m \u001B[49m\u001B[38;5;28;43mself\u001B[39;49m\u001B[43m,\u001B[49m\u001B[43m \u001B[49m\u001B[43martists\u001B[49m\u001B[43m,\u001B[49m\u001B[43m \u001B[49m\u001B[38;5;28;43mself\u001B[39;49m\u001B[38;5;241;43m.\u001B[39;49m\u001B[43mfigure\u001B[49m\u001B[38;5;241;43m.\u001B[39;49m\u001B[43msuppressComposite\u001B[49m\u001B[43m)\u001B[49m\n\u001B[1;32m   3110\u001B[0m renderer\u001B[38;5;241m.\u001B[39mclose_group(\u001B[38;5;124m'\u001B[39m\u001B[38;5;124maxes\u001B[39m\u001B[38;5;124m'\u001B[39m)\n\u001B[1;32m   3111\u001B[0m \u001B[38;5;28mself\u001B[39m\u001B[38;5;241m.\u001B[39mstale \u001B[38;5;241m=\u001B[39m \u001B[38;5;28;01mFalse\u001B[39;00m\n",
      "File \u001B[0;32m~/ДЗ/ВКРv2/hai-nonconflict-action-learning/venv/lib/python3.10/site-packages/matplotlib/image.py:131\u001B[0m, in \u001B[0;36m_draw_list_compositing_images\u001B[0;34m(renderer, parent, artists, suppress_composite)\u001B[0m\n\u001B[1;32m    129\u001B[0m \u001B[38;5;28;01mif\u001B[39;00m not_composite \u001B[38;5;129;01mor\u001B[39;00m \u001B[38;5;129;01mnot\u001B[39;00m has_images:\n\u001B[1;32m    130\u001B[0m     \u001B[38;5;28;01mfor\u001B[39;00m a \u001B[38;5;129;01min\u001B[39;00m artists:\n\u001B[0;32m--> 131\u001B[0m         \u001B[43ma\u001B[49m\u001B[38;5;241;43m.\u001B[39;49m\u001B[43mdraw\u001B[49m\u001B[43m(\u001B[49m\u001B[43mrenderer\u001B[49m\u001B[43m)\u001B[49m\n\u001B[1;32m    132\u001B[0m \u001B[38;5;28;01melse\u001B[39;00m:\n\u001B[1;32m    133\u001B[0m     \u001B[38;5;66;03m# Composite any adjacent images together\u001B[39;00m\n\u001B[1;32m    134\u001B[0m     image_group \u001B[38;5;241m=\u001B[39m []\n",
      "File \u001B[0;32m~/ДЗ/ВКРv2/hai-nonconflict-action-learning/venv/lib/python3.10/site-packages/matplotlib/artist.py:51\u001B[0m, in \u001B[0;36mallow_rasterization.<locals>.draw_wrapper\u001B[0;34m(artist, renderer)\u001B[0m\n\u001B[1;32m     48\u001B[0m     \u001B[38;5;28;01mif\u001B[39;00m artist\u001B[38;5;241m.\u001B[39mget_agg_filter() \u001B[38;5;129;01mis\u001B[39;00m \u001B[38;5;129;01mnot\u001B[39;00m \u001B[38;5;28;01mNone\u001B[39;00m:\n\u001B[1;32m     49\u001B[0m         renderer\u001B[38;5;241m.\u001B[39mstart_filter()\n\u001B[0;32m---> 51\u001B[0m     \u001B[38;5;28;01mreturn\u001B[39;00m \u001B[43mdraw\u001B[49m\u001B[43m(\u001B[49m\u001B[43martist\u001B[49m\u001B[43m,\u001B[49m\u001B[43m \u001B[49m\u001B[43mrenderer\u001B[49m\u001B[43m)\u001B[49m\n\u001B[1;32m     52\u001B[0m \u001B[38;5;28;01mfinally\u001B[39;00m:\n\u001B[1;32m     53\u001B[0m     \u001B[38;5;28;01mif\u001B[39;00m artist\u001B[38;5;241m.\u001B[39mget_agg_filter() \u001B[38;5;129;01mis\u001B[39;00m \u001B[38;5;129;01mnot\u001B[39;00m \u001B[38;5;28;01mNone\u001B[39;00m:\n",
      "File \u001B[0;32m~/ДЗ/ВКРv2/hai-nonconflict-action-learning/venv/lib/python3.10/site-packages/matplotlib/axis.py:1305\u001B[0m, in \u001B[0;36mAxis.draw\u001B[0;34m(self, renderer, *args, **kwargs)\u001B[0m\n\u001B[1;32m   1302\u001B[0m renderer\u001B[38;5;241m.\u001B[39mopen_group(\u001B[38;5;18m__name__\u001B[39m, gid\u001B[38;5;241m=\u001B[39m\u001B[38;5;28mself\u001B[39m\u001B[38;5;241m.\u001B[39mget_gid())\n\u001B[1;32m   1304\u001B[0m ticks_to_draw \u001B[38;5;241m=\u001B[39m \u001B[38;5;28mself\u001B[39m\u001B[38;5;241m.\u001B[39m_update_ticks()\n\u001B[0;32m-> 1305\u001B[0m tlb1, tlb2 \u001B[38;5;241m=\u001B[39m \u001B[38;5;28;43mself\u001B[39;49m\u001B[38;5;241;43m.\u001B[39;49m\u001B[43m_get_ticklabel_bboxes\u001B[49m\u001B[43m(\u001B[49m\u001B[43mticks_to_draw\u001B[49m\u001B[43m,\u001B[49m\u001B[43m \u001B[49m\u001B[43mrenderer\u001B[49m\u001B[43m)\u001B[49m\n\u001B[1;32m   1307\u001B[0m \u001B[38;5;28;01mfor\u001B[39;00m tick \u001B[38;5;129;01min\u001B[39;00m ticks_to_draw:\n\u001B[1;32m   1308\u001B[0m     tick\u001B[38;5;241m.\u001B[39mdraw(renderer)\n",
      "File \u001B[0;32m~/ДЗ/ВКРv2/hai-nonconflict-action-learning/venv/lib/python3.10/site-packages/matplotlib/axis.py:1232\u001B[0m, in \u001B[0;36mAxis._get_ticklabel_bboxes\u001B[0;34m(self, ticks, renderer)\u001B[0m\n\u001B[1;32m   1230\u001B[0m \u001B[38;5;28;01mif\u001B[39;00m renderer \u001B[38;5;129;01mis\u001B[39;00m \u001B[38;5;28;01mNone\u001B[39;00m:\n\u001B[1;32m   1231\u001B[0m     renderer \u001B[38;5;241m=\u001B[39m \u001B[38;5;28mself\u001B[39m\u001B[38;5;241m.\u001B[39mfigure\u001B[38;5;241m.\u001B[39m_get_renderer()\n\u001B[0;32m-> 1232\u001B[0m \u001B[38;5;28;01mreturn\u001B[39;00m ([tick\u001B[38;5;241m.\u001B[39mlabel1\u001B[38;5;241m.\u001B[39mget_window_extent(renderer)\n\u001B[1;32m   1233\u001B[0m          \u001B[38;5;28;01mfor\u001B[39;00m tick \u001B[38;5;129;01min\u001B[39;00m ticks \u001B[38;5;28;01mif\u001B[39;00m tick\u001B[38;5;241m.\u001B[39mlabel1\u001B[38;5;241m.\u001B[39mget_visible()],\n\u001B[1;32m   1234\u001B[0m         [tick\u001B[38;5;241m.\u001B[39mlabel2\u001B[38;5;241m.\u001B[39mget_window_extent(renderer)\n\u001B[1;32m   1235\u001B[0m          \u001B[38;5;28;01mfor\u001B[39;00m tick \u001B[38;5;129;01min\u001B[39;00m ticks \u001B[38;5;28;01mif\u001B[39;00m tick\u001B[38;5;241m.\u001B[39mlabel2\u001B[38;5;241m.\u001B[39mget_visible()])\n",
      "File \u001B[0;32m~/ДЗ/ВКРv2/hai-nonconflict-action-learning/venv/lib/python3.10/site-packages/matplotlib/axis.py:1232\u001B[0m, in \u001B[0;36m<listcomp>\u001B[0;34m(.0)\u001B[0m\n\u001B[1;32m   1230\u001B[0m \u001B[38;5;28;01mif\u001B[39;00m renderer \u001B[38;5;129;01mis\u001B[39;00m \u001B[38;5;28;01mNone\u001B[39;00m:\n\u001B[1;32m   1231\u001B[0m     renderer \u001B[38;5;241m=\u001B[39m \u001B[38;5;28mself\u001B[39m\u001B[38;5;241m.\u001B[39mfigure\u001B[38;5;241m.\u001B[39m_get_renderer()\n\u001B[0;32m-> 1232\u001B[0m \u001B[38;5;28;01mreturn\u001B[39;00m ([\u001B[43mtick\u001B[49m\u001B[38;5;241;43m.\u001B[39;49m\u001B[43mlabel1\u001B[49m\u001B[38;5;241;43m.\u001B[39;49m\u001B[43mget_window_extent\u001B[49m\u001B[43m(\u001B[49m\u001B[43mrenderer\u001B[49m\u001B[43m)\u001B[49m\n\u001B[1;32m   1233\u001B[0m          \u001B[38;5;28;01mfor\u001B[39;00m tick \u001B[38;5;129;01min\u001B[39;00m ticks \u001B[38;5;28;01mif\u001B[39;00m tick\u001B[38;5;241m.\u001B[39mlabel1\u001B[38;5;241m.\u001B[39mget_visible()],\n\u001B[1;32m   1234\u001B[0m         [tick\u001B[38;5;241m.\u001B[39mlabel2\u001B[38;5;241m.\u001B[39mget_window_extent(renderer)\n\u001B[1;32m   1235\u001B[0m          \u001B[38;5;28;01mfor\u001B[39;00m tick \u001B[38;5;129;01min\u001B[39;00m ticks \u001B[38;5;28;01mif\u001B[39;00m tick\u001B[38;5;241m.\u001B[39mlabel2\u001B[38;5;241m.\u001B[39mget_visible()])\n",
      "File \u001B[0;32m~/ДЗ/ВКРv2/hai-nonconflict-action-learning/venv/lib/python3.10/site-packages/matplotlib/text.py:915\u001B[0m, in \u001B[0;36mText.get_window_extent\u001B[0;34m(self, renderer, dpi)\u001B[0m\n\u001B[1;32m    910\u001B[0m     \u001B[38;5;28;01mraise\u001B[39;00m \u001B[38;5;167;01mRuntimeError\u001B[39;00m(\n\u001B[1;32m    911\u001B[0m         \u001B[38;5;124m\"\u001B[39m\u001B[38;5;124mCannot get window extent of text w/o renderer. You likely \u001B[39m\u001B[38;5;124m\"\u001B[39m\n\u001B[1;32m    912\u001B[0m         \u001B[38;5;124m\"\u001B[39m\u001B[38;5;124mwant to call \u001B[39m\u001B[38;5;124m'\u001B[39m\u001B[38;5;124mfigure.draw_without_rendering()\u001B[39m\u001B[38;5;124m'\u001B[39m\u001B[38;5;124m first.\u001B[39m\u001B[38;5;124m\"\u001B[39m)\n\u001B[1;32m    914\u001B[0m \u001B[38;5;28;01mwith\u001B[39;00m cbook\u001B[38;5;241m.\u001B[39m_setattr_cm(\u001B[38;5;28mself\u001B[39m\u001B[38;5;241m.\u001B[39mfigure, dpi\u001B[38;5;241m=\u001B[39mdpi):\n\u001B[0;32m--> 915\u001B[0m     bbox, info, descent \u001B[38;5;241m=\u001B[39m \u001B[38;5;28;43mself\u001B[39;49m\u001B[38;5;241;43m.\u001B[39;49m\u001B[43m_get_layout\u001B[49m\u001B[43m(\u001B[49m\u001B[38;5;28;43mself\u001B[39;49m\u001B[38;5;241;43m.\u001B[39;49m\u001B[43m_renderer\u001B[49m\u001B[43m)\u001B[49m\n\u001B[1;32m    916\u001B[0m     x, y \u001B[38;5;241m=\u001B[39m \u001B[38;5;28mself\u001B[39m\u001B[38;5;241m.\u001B[39mget_unitless_position()\n\u001B[1;32m    917\u001B[0m     x, y \u001B[38;5;241m=\u001B[39m \u001B[38;5;28mself\u001B[39m\u001B[38;5;241m.\u001B[39mget_transform()\u001B[38;5;241m.\u001B[39mtransform((x, y))\n",
      "File \u001B[0;32m~/ДЗ/ВКРv2/hai-nonconflict-action-learning/venv/lib/python3.10/site-packages/matplotlib/text.py:442\u001B[0m, in \u001B[0;36mText._get_layout\u001B[0;34m(self, renderer)\u001B[0m\n\u001B[1;32m    439\u001B[0m xmin \u001B[38;5;241m-\u001B[39m\u001B[38;5;241m=\u001B[39m offsetx\n\u001B[1;32m    440\u001B[0m ymin \u001B[38;5;241m-\u001B[39m\u001B[38;5;241m=\u001B[39m offsety\n\u001B[0;32m--> 442\u001B[0m bbox \u001B[38;5;241m=\u001B[39m \u001B[43mBbox\u001B[49m\u001B[38;5;241;43m.\u001B[39;49m\u001B[43mfrom_bounds\u001B[49m\u001B[43m(\u001B[49m\u001B[43mxmin\u001B[49m\u001B[43m,\u001B[49m\u001B[43m \u001B[49m\u001B[43mymin\u001B[49m\u001B[43m,\u001B[49m\u001B[43m \u001B[49m\u001B[43mwidth\u001B[49m\u001B[43m,\u001B[49m\u001B[43m \u001B[49m\u001B[43mheight\u001B[49m\u001B[43m)\u001B[49m\n\u001B[1;32m    444\u001B[0m \u001B[38;5;66;03m# now rotate the positions around the first (x, y) position\u001B[39;00m\n\u001B[1;32m    445\u001B[0m xys \u001B[38;5;241m=\u001B[39m M\u001B[38;5;241m.\u001B[39mtransform(offset_layout) \u001B[38;5;241m-\u001B[39m (offsetx, offsety)\n",
      "File \u001B[0;32m~/ДЗ/ВКРv2/hai-nonconflict-action-learning/venv/lib/python3.10/site-packages/matplotlib/transforms.py:807\u001B[0m, in \u001B[0;36mBbox.from_bounds\u001B[0;34m(x0, y0, width, height)\u001B[0m\n\u001B[1;32m    800\u001B[0m \u001B[38;5;129m@staticmethod\u001B[39m\n\u001B[1;32m    801\u001B[0m \u001B[38;5;28;01mdef\u001B[39;00m \u001B[38;5;21mfrom_bounds\u001B[39m(x0, y0, width, height):\n\u001B[1;32m    802\u001B[0m     \u001B[38;5;124;03m\"\"\"\u001B[39;00m\n\u001B[1;32m    803\u001B[0m \u001B[38;5;124;03m    Create a new `Bbox` from *x0*, *y0*, *width* and *height*.\u001B[39;00m\n\u001B[1;32m    804\u001B[0m \n\u001B[1;32m    805\u001B[0m \u001B[38;5;124;03m    *width* and *height* may be negative.\u001B[39;00m\n\u001B[1;32m    806\u001B[0m \u001B[38;5;124;03m    \"\"\"\u001B[39;00m\n\u001B[0;32m--> 807\u001B[0m     \u001B[38;5;28;01mreturn\u001B[39;00m \u001B[43mBbox\u001B[49m\u001B[38;5;241;43m.\u001B[39;49m\u001B[43mfrom_extents\u001B[49m\u001B[43m(\u001B[49m\u001B[43mx0\u001B[49m\u001B[43m,\u001B[49m\u001B[43m \u001B[49m\u001B[43my0\u001B[49m\u001B[43m,\u001B[49m\u001B[43m \u001B[49m\u001B[43mx0\u001B[49m\u001B[43m \u001B[49m\u001B[38;5;241;43m+\u001B[39;49m\u001B[43m \u001B[49m\u001B[43mwidth\u001B[49m\u001B[43m,\u001B[49m\u001B[43m \u001B[49m\u001B[43my0\u001B[49m\u001B[43m \u001B[49m\u001B[38;5;241;43m+\u001B[39;49m\u001B[43m \u001B[49m\u001B[43mheight\u001B[49m\u001B[43m)\u001B[49m\n",
      "File \u001B[0;32m~/ДЗ/ВКРv2/hai-nonconflict-action-learning/venv/lib/python3.10/site-packages/matplotlib/transforms.py:826\u001B[0m, in \u001B[0;36mBbox.from_extents\u001B[0;34m(minpos, *args)\u001B[0m\n\u001B[1;32m    809\u001B[0m \u001B[38;5;129m@staticmethod\u001B[39m\n\u001B[1;32m    810\u001B[0m \u001B[38;5;28;01mdef\u001B[39;00m \u001B[38;5;21mfrom_extents\u001B[39m(\u001B[38;5;241m*\u001B[39margs, minpos\u001B[38;5;241m=\u001B[39m\u001B[38;5;28;01mNone\u001B[39;00m):\n\u001B[1;32m    811\u001B[0m     \u001B[38;5;124;03m\"\"\"\u001B[39;00m\n\u001B[1;32m    812\u001B[0m \u001B[38;5;124;03m    Create a new Bbox from *left*, *bottom*, *right* and *top*.\u001B[39;00m\n\u001B[1;32m    813\u001B[0m \n\u001B[0;32m   (...)\u001B[0m\n\u001B[1;32m    824\u001B[0m \u001B[38;5;124;03m       scales where negative bounds result in floating point errors.\u001B[39;00m\n\u001B[1;32m    825\u001B[0m \u001B[38;5;124;03m    \"\"\"\u001B[39;00m\n\u001B[0;32m--> 826\u001B[0m     bbox \u001B[38;5;241m=\u001B[39m Bbox(\u001B[43mnp\u001B[49m\u001B[38;5;241;43m.\u001B[39;49m\u001B[43mreshape\u001B[49m\u001B[43m(\u001B[49m\u001B[43margs\u001B[49m\u001B[43m,\u001B[49m\u001B[43m \u001B[49m\u001B[43m(\u001B[49m\u001B[38;5;241;43m2\u001B[39;49m\u001B[43m,\u001B[49m\u001B[43m \u001B[49m\u001B[38;5;241;43m2\u001B[39;49m\u001B[43m)\u001B[49m\u001B[43m)\u001B[49m)\n\u001B[1;32m    827\u001B[0m     \u001B[38;5;28;01mif\u001B[39;00m minpos \u001B[38;5;129;01mis\u001B[39;00m \u001B[38;5;129;01mnot\u001B[39;00m \u001B[38;5;28;01mNone\u001B[39;00m:\n\u001B[1;32m    828\u001B[0m         bbox\u001B[38;5;241m.\u001B[39m_minpos[:] \u001B[38;5;241m=\u001B[39m minpos\n",
      "File \u001B[0;32m<__array_function__ internals>:179\u001B[0m, in \u001B[0;36mreshape\u001B[0;34m(*args, **kwargs)\u001B[0m\n",
      "File \u001B[0;32m~/ДЗ/ВКРv2/hai-nonconflict-action-learning/venv/lib/python3.10/site-packages/numpy/core/fromnumeric.py:193\u001B[0m, in \u001B[0;36m_reshape_dispatcher\u001B[0;34m(a, newshape, order)\u001B[0m\n\u001B[1;32m     95\u001B[0m     \u001B[38;5;124;03m\"\"\"\u001B[39;00m\n\u001B[1;32m     96\u001B[0m \u001B[38;5;124;03m    Take elements from an array along an axis.\u001B[39;00m\n\u001B[1;32m     97\u001B[0m \n\u001B[0;32m   (...)\u001B[0m\n\u001B[1;32m    188\u001B[0m \u001B[38;5;124;03m           [5, 7]])\u001B[39;00m\n\u001B[1;32m    189\u001B[0m \u001B[38;5;124;03m    \"\"\"\u001B[39;00m\n\u001B[1;32m    190\u001B[0m     \u001B[38;5;28;01mreturn\u001B[39;00m _wrapfunc(a, \u001B[38;5;124m'\u001B[39m\u001B[38;5;124mtake\u001B[39m\u001B[38;5;124m'\u001B[39m, indices, axis\u001B[38;5;241m=\u001B[39maxis, out\u001B[38;5;241m=\u001B[39mout, mode\u001B[38;5;241m=\u001B[39mmode)\n\u001B[0;32m--> 193\u001B[0m \u001B[38;5;28;01mdef\u001B[39;00m \u001B[38;5;21m_reshape_dispatcher\u001B[39m(a, newshape, order\u001B[38;5;241m=\u001B[39m\u001B[38;5;28;01mNone\u001B[39;00m):\n\u001B[1;32m    194\u001B[0m     \u001B[38;5;28;01mreturn\u001B[39;00m (a,)\n\u001B[1;32m    197\u001B[0m \u001B[38;5;66;03m# not deprecated --- copy if necessary, view otherwise\u001B[39;00m\n",
      "\u001B[0;31mKeyboardInterrupt\u001B[0m: "
     ]
    },
    {
     "data": {
      "text/plain": "<Figure size 640x480 with 1 Axes>",
      "image/png": "[encoded data removed]"
     },
     "metadata": {},
     "output_type": "display_data"
    }
   ],
   "source": [
    "env = gym.make(\"Futbol2v2-v1\")\n",
    "\n",
    "visualizer = utils.MatplotlibVisualizer(env)\n",
    "visualizer.run(model)\n",
    "\n",
    "env.close()"
   ],
   "metadata": {
    "colab": {
     "base_uri": "https://localhost:8080/",
     "height": 281
    },
    "id": "ZoINV4ZxksxM",
    "outputId": "d51b0a57-5dee-4344-d75d-59a3fa762f1a"
   }
  },
  {
   "cell_type": "markdown",
   "source": [
    "# MultiAgent"
   ],
   "metadata": {
    "collapsed": false,
    "id": "UzMc2_1DksxN"
   }
  },
  {
   "cell_type": "markdown",
   "source": [
    "## Learn"
   ],
   "metadata": {
    "collapsed": false,
    "id": "2U27QN6rksxN"
   }
  },
  {
   "cell_type": "code",
   "execution_count": 3,
   "outputs": [],
   "source": [
    "env = make_vec_env(lambda: gym.make(\"Futbol2v2-v1\"), n_envs=1)\n",
    "\n",
    "models = [\n",
    "    MultiAgentOnPolicyProxy(A2C(\"MlpPolicy\",\n",
    "                             utils.TransformAction(env, lambda a: a[:2], gym.spaces.MultiDiscrete([5, 5])),\n",
    "                             device='cpu')),\n",
    "    MultiAgentOnPolicyProxy(A2C(\"MlpPolicy\",\n",
    "                             utils.TransformAction(env, lambda a: a[2:], gym.spaces.MultiDiscrete([5, 5])),\n",
    "                             device='cpu'))\n",
    "]\n",
    "\n",
    "timesteps = 50000\n",
    "n_records_count = models[0].model.n_steps\n",
    "max_episode_reward = 0"
   ],
   "metadata": {
    "id": "7LUFt97PksxO"
   }
  },
  {
   "cell_type": "markdown",
   "source": [
    "### Rewrote learning cycle\n",
    "StableBaselines3 не поддерживает одновременное обучение нескольких агентов, это даже не ошибка по мнению разработчиков. Они считают, что в данном случае каждому пользователю необходимо самостоятельо переопределить цикл обучения (для не мультиагентных задач используется метод learn). Здесь представлен код, взятый из исходных кодов StableBaselines3, но адаптированный для многоагентных задач.\n",
    "В обычной ситуации, learn сам взаимодействует со средой. Но при существовании нескольких агентов нужно получить действие от каждого и только потом передавать их в среду. Именно это здесь и реализовано. Каждому агенту передается наблюдение от среды (в данной задаче оно одинаково для всех) и получается действие. Затем действия объеядиняются и передаются среде. Затем каждый агент обновляется с учетом полученных данных (метод record).\n",
    "Весь код, взятый из StableBaselines3 вынесен в класс MultiAgentModelProxy."
   ],
   "metadata": {
    "collapsed": false,
    "id": "2PAgx_NzksxP"
   }
  },
  {
   "cell_type": "code",
   "execution_count": 4,
   "outputs": [],
   "source": [
    "#TODO: рассмотреть возможность асинхронной среды\n",
    "#TODO: добавить вывод логов для последующего использования results_plotter"
   ],
   "metadata": {
    "id": "kIL8-Dy6ksxP"
   }
  },
  {
   "cell_type": "code",
   "execution_count": 5,
   "outputs": [
    {
     "name": "stderr",
     "output_type": "stream",
     "text": [
      "/tmp/ipykernel_19276/542755898.py:1: DeprecationWarning: Parameters `eval_env` and `eval_freq` are deprecated and will be removed in the future. Please use `EvalCallback` or a custom Callback instead.\n",
      "  multiagent_learn(models, timesteps, env, n_records_count, \"models/footbol2v2-a2c\")\n"
     ]
    },
    {
     "name": "stdout",
     "output_type": "stream",
     "text": [
      "5 [1.9253747]\n",
      "10 [7.3498983]\n",
      "15 [8.784355]\n",
      "20 [12.19653]\n",
      "25 [12.308838]\n",
      "30 [7.1100416]\n",
      "35 [4.345506]\n",
      "40 [9.901191]\n",
      "45 [18.40208]\n",
      "50 [20.070072]\n",
      "55 [35.252544]\n",
      "60 [32.219555]\n",
      "65 [13.464296]\n",
      "70 [10.476499]\n",
      "75 [16.167078]\n",
      "80 [26.750584]\n",
      "85 [30.097769]\n",
      "90 [20.126814]\n",
      "95 [16.89652]\n",
      "100 [28.016003]\n",
      "105 [24.652617]\n",
      "110 [19.215944]\n",
      "115 [20.218132]\n",
      "120 [20.12336]\n",
      "125 [22.626549]\n",
      "130 [38.436012]\n",
      "135 [60.192085]\n",
      "140 [137.088]\n",
      "145 [125.8886]\n",
      "150 [107.64079]\n",
      "155 [81.094406]\n",
      "160 [40.762894]\n",
      "165 [3.2816575]\n",
      "170 [-8.756359]\n",
      "175 [-17.261293]\n",
      "180 [963.9484]\n",
      "185 [8.246763]\n",
      "190 [9.74705]\n",
      "195 [3.2265797]\n",
      "200 [1.4481966]\n",
      "205 [6.933424]\n",
      "210 [8.754395]\n",
      "215 [8.718008]\n",
      "220 [-2.3598826]\n",
      "225 [-1.2685511]\n",
      "230 [2.4384317]\n",
      "235 [2.1358082]\n",
      "240 [6.180801]\n",
      "245 [12.562841]\n",
      "250 [8.388166]\n",
      "255 [0.6536126]\n",
      "260 [-2.0305357]\n",
      "265 [6.8947735]\n",
      "270 [11.258464]\n",
      "275 [10.699181]\n",
      "280 [16.683733]\n",
      "285 [19.101786]\n",
      "290 [22.244978]\n",
      "295 [24.279848]\n",
      "300 [26.025024]\n",
      "305 [6.375474]\n",
      "310 [21.498268]\n",
      "315 [19.870968]\n",
      "320 [21.258316]\n",
      "325 [18.528563]\n",
      "330 [6.9316835]\n",
      "335 [1.6386431]\n",
      "340 [2.4117012]\n",
      "345 [2.9048846]\n",
      "350 [-2.7940593]\n",
      "355 [-11.136794]\n",
      "360 [-12.126341]\n",
      "365 [-17.454208]\n",
      "370 [-23.535015]\n",
      "375 [-33.757233]\n",
      "380 [-21.62659]\n",
      "385 [-1.1584871]\n",
      "390 [4.745228]\n",
      "395 [4.519445]\n",
      "400 [-2.3120668]\n",
      "405 [-5.794364]\n",
      "410 [-2.1571422]\n",
      "415 [1.9552987]\n",
      "420 [6.4705048]\n",
      "425 [18.421518]\n",
      "430 [19.234335]\n",
      "435 [25.303438]\n",
      "440 [24.716532]\n",
      "445 [31.877213]\n",
      "450 [26.30011]\n",
      "455 [30.54876]\n",
      "460 [47.512436]\n",
      "465 [45.577892]\n",
      "470 [44.412857]\n",
      "475 [35.73495]\n",
      "480 [28.851746]\n",
      "485 [19.957787]\n",
      "490 [15.107788]\n",
      "495 [-5.1962833]\n",
      "500 [995.429]\n",
      "505 [-4.142132]\n",
      "510 [-5.063069]\n",
      "515 [-7.3596473]\n",
      "520 [-2.070384]\n",
      "525 [9.279783]\n",
      "530 [23.334145]\n",
      "535 [23.952642]\n",
      "540 [15.44885]\n",
      "545 [5.748688]\n",
      "550 [-0.11338592]\n",
      "555 [12.468038]\n",
      "560 [4.911521]\n",
      "565 [2.8654025]\n",
      "570 [0.8872441]\n",
      "575 [-0.23724899]\n",
      "580 [-2.806509]\n",
      "585 [3.8331676]\n",
      "590 [18.017406]\n",
      "595 [7.6113634]\n",
      "600 [5.131729]\n",
      "605 [4.1604466]\n",
      "610 [4.9059715]\n",
      "615 [11.207341]\n",
      "620 [15.061859]\n",
      "625 [23.07719]\n",
      "630 [20.024136]\n",
      "635 [18.885902]\n",
      "640 [21.882313]\n",
      "645 [27.329008]\n",
      "650 [30.176975]\n",
      "655 [33.750813]\n",
      "660 [28.959543]\n",
      "665 [15.732844]\n",
      "670 [16.169378]\n",
      "675 [28.453596]\n",
      "680 [24.92085]\n",
      "685 [25.554905]\n",
      "690 [29.286892]\n",
      "695 [28.530981]\n",
      "700 [35.58993]\n",
      "705 [32.80076]\n",
      "710 [24.362265]\n",
      "715 [1000.2164]\n",
      "720 [15.644821]\n",
      "725 [9.567917]\n",
      "730 [11.760665]\n",
      "735 [3.4749813]\n",
      "740 [-1.5128335]\n",
      "745 [-6.966025]\n",
      "750 [0.13061428]\n",
      "755 [-4.7868686]\n",
      "760 [-15.320065]\n",
      "765 [-24.906673]\n",
      "770 [-24.794903]\n",
      "775 [3.3256664]\n",
      "780 [5.740641]\n",
      "785 [2.8254714]\n",
      "790 [5.933094]\n",
      "795 [17.588287]\n",
      "800 [13.29468]\n",
      "805 [11.89406]\n",
      "810 [14.671547]\n",
      "815 [12.028255]\n",
      "820 [4.5520024]\n",
      "825 [-0.08056207]\n",
      "830 [3.9916368]\n",
      "835 [14.538741]\n",
      "840 [9.31855]\n",
      "845 [8.474876]\n",
      "850 [6.6907682]\n",
      "855 [4.303157]\n",
      "860 [0.8458396]\n",
      "865 [9.190395]\n",
      "870 [10.413124]\n",
      "875 [-0.19900495]\n",
      "880 [7.2164865]\n",
      "885 [8.092912]\n",
      "890 [8.540088]\n",
      "895 [11.35626]\n",
      "900 [8.09201]\n",
      "905 [13.803831]\n",
      "910 [14.250546]\n",
      "915 [8.969443]\n",
      "920 [1.3991942]\n",
      "925 [8.340667]\n",
      "930 [-1.3171849]\n",
      "935 [-12.544969]\n",
      "940 [-19.193903]\n",
      "945 [-30.470093]\n",
      "950 [-33.706997]\n",
      "955 [-16.833815]\n",
      "960 [-2.8629184]\n",
      "965 [2.9188442]\n",
      "970 [-0.15078694]\n",
      "975 [-10.326865]\n",
      "980 [-2.8652005]\n",
      "985 [-1.1388597]\n",
      "990 [10.137342]\n",
      "995 [21.531887]\n",
      "1000 [34.258396]\n",
      "1005 [42.815193]\n",
      "1010 [40.573017]\n",
      "1015 [36.418102]\n",
      "1020 [32.069366]\n",
      "1025 [26.689444]\n",
      "1030 [22.300316]\n",
      "1035 [27.667637]\n",
      "1040 [29.875496]\n",
      "1045 [21.710688]\n",
      "1050 [15.977085]\n",
      "1055 [22.090687]\n",
      "1060 [24.563784]\n",
      "1065 [21.107388]\n",
      "1070 [17.33691]\n",
      "1075 [9.161981]\n",
      "1080 [3.195006]\n",
      "1085 [0.97461784]\n",
      "1090 [12.177751]\n",
      "1095 [19.11666]\n",
      "1100 [14.393866]\n",
      "1105 [4.928668]\n",
      "1110 [9.783403]\n",
      "1115 [9.512559]\n",
      "1120 [14.789013]\n",
      "1125 [9.709525]\n",
      "1130 [10.232123]\n",
      "1135 [6.88135]\n"
     ]
    },
    {
     "ename": "KeyboardInterrupt",
     "evalue": "",
     "output_type": "error",
     "traceback": [
      "\u001B[0;31m---------------------------------------------------------------------------\u001B[0m",
      "\u001B[0;31mKeyboardInterrupt\u001B[0m                         Traceback (most recent call last)",
      "Cell \u001B[0;32mIn [5], line 1\u001B[0m\n\u001B[0;32m----> 1\u001B[0m \u001B[43mmultiagent_learn\u001B[49m\u001B[43m(\u001B[49m\u001B[43mmodels\u001B[49m\u001B[43m,\u001B[49m\u001B[43m \u001B[49m\u001B[43mtimesteps\u001B[49m\u001B[43m,\u001B[49m\u001B[43m \u001B[49m\u001B[43menv\u001B[49m\u001B[43m,\u001B[49m\u001B[43m \u001B[49m\u001B[43mn_records_count\u001B[49m\u001B[43m,\u001B[49m\u001B[43m \u001B[49m\u001B[38;5;124;43m\"\u001B[39;49m\u001B[38;5;124;43mmodels/footbol2v2-a2c\u001B[39;49m\u001B[38;5;124;43m\"\u001B[39;49m\u001B[43m)\u001B[49m\n",
      "File \u001B[0;32m~/ДЗ/ВКРv2/hai-nonconflict-action-learning/multiagent.py:38\u001B[0m, in \u001B[0;36mmultiagent_learn\u001B[0;34m(models, timesteps, env, n_records_count, model_save_path)\u001B[0m\n\u001B[1;32m     35\u001B[0m     current_step_reward \u001B[38;5;241m+\u001B[39m\u001B[38;5;241m=\u001B[39m reward\n\u001B[1;32m     37\u001B[0m     \u001B[38;5;28;01mfor\u001B[39;00m model, action \u001B[38;5;129;01min\u001B[39;00m \u001B[38;5;28mzip\u001B[39m(models, actions):\n\u001B[0;32m---> 38\u001B[0m         \u001B[43mmodel\u001B[49m\u001B[38;5;241;43m.\u001B[39;49m\u001B[43mrecord\u001B[49m\u001B[43m(\u001B[49m\u001B[43mobservation\u001B[49m\u001B[43m,\u001B[49m\u001B[43m \u001B[49m\u001B[43maction\u001B[49m\u001B[43m,\u001B[49m\u001B[43m \u001B[49m\u001B[43mnext_observation\u001B[49m\u001B[43m,\u001B[49m\u001B[43m \u001B[49m\u001B[43mreward\u001B[49m\u001B[43m,\u001B[49m\u001B[43m \u001B[49m\u001B[43mdone\u001B[49m\u001B[43m,\u001B[49m\u001B[43m \u001B[49m\u001B[43minfo\u001B[49m\u001B[43m)\u001B[49m\n\u001B[1;32m     40\u001B[0m     observation \u001B[38;5;241m=\u001B[39m next_observation\n\u001B[1;32m     42\u001B[0m \u001B[38;5;28;01mfor\u001B[39;00m model \u001B[38;5;129;01min\u001B[39;00m models:\n",
      "File \u001B[0;32m~/ДЗ/ВКРv2/hai-nonconflict-action-learning/multiagent.py:93\u001B[0m, in \u001B[0;36mMultiAgentOnPolicyProxy.record\u001B[0;34m(self, observation, actions, next_observation, rewards, dones, infos)\u001B[0m\n\u001B[1;32m     90\u001B[0m \u001B[38;5;28;01mwith\u001B[39;00m th\u001B[38;5;241m.\u001B[39mno_grad():\n\u001B[1;32m     91\u001B[0m     \u001B[38;5;66;03m# Convert to pytorch tensor or to TensorDict\u001B[39;00m\n\u001B[1;32m     92\u001B[0m     obs_tensor \u001B[38;5;241m=\u001B[39m obs_as_tensor(\u001B[38;5;28mself\u001B[39m\u001B[38;5;241m.\u001B[39mmodel\u001B[38;5;241m.\u001B[39m_last_obs, \u001B[38;5;28mself\u001B[39m\u001B[38;5;241m.\u001B[39mmodel\u001B[38;5;241m.\u001B[39mdevice)\n\u001B[0;32m---> 93\u001B[0m     actions, values, log_probs \u001B[38;5;241m=\u001B[39m \u001B[38;5;28;43mself\u001B[39;49m\u001B[38;5;241;43m.\u001B[39;49m\u001B[43mmodel\u001B[49m\u001B[38;5;241;43m.\u001B[39;49m\u001B[43mpolicy\u001B[49m\u001B[43m(\u001B[49m\u001B[43mobs_tensor\u001B[49m\u001B[43m)\u001B[49m\n\u001B[1;32m     94\u001B[0m actions \u001B[38;5;241m=\u001B[39m actions\u001B[38;5;241m.\u001B[39mcpu()\u001B[38;5;241m.\u001B[39mnumpy()\n\u001B[1;32m     96\u001B[0m \u001B[38;5;28mself\u001B[39m\u001B[38;5;241m.\u001B[39mmodel\u001B[38;5;241m.\u001B[39mnum_timesteps \u001B[38;5;241m+\u001B[39m\u001B[38;5;241m=\u001B[39m \u001B[38;5;28mself\u001B[39m\u001B[38;5;241m.\u001B[39mmodel\u001B[38;5;241m.\u001B[39menv\u001B[38;5;241m.\u001B[39mnum_envs\n",
      "File \u001B[0;32m~/ДЗ/ВКРv2/hai-nonconflict-action-learning/venv/lib/python3.10/site-packages/torch/nn/modules/module.py:1190\u001B[0m, in \u001B[0;36mModule._call_impl\u001B[0;34m(self, *input, **kwargs)\u001B[0m\n\u001B[1;32m   1186\u001B[0m \u001B[38;5;66;03m# If we don't have any hooks, we want to skip the rest of the logic in\u001B[39;00m\n\u001B[1;32m   1187\u001B[0m \u001B[38;5;66;03m# this function, and just call forward.\u001B[39;00m\n\u001B[1;32m   1188\u001B[0m \u001B[38;5;28;01mif\u001B[39;00m \u001B[38;5;129;01mnot\u001B[39;00m (\u001B[38;5;28mself\u001B[39m\u001B[38;5;241m.\u001B[39m_backward_hooks \u001B[38;5;129;01mor\u001B[39;00m \u001B[38;5;28mself\u001B[39m\u001B[38;5;241m.\u001B[39m_forward_hooks \u001B[38;5;129;01mor\u001B[39;00m \u001B[38;5;28mself\u001B[39m\u001B[38;5;241m.\u001B[39m_forward_pre_hooks \u001B[38;5;129;01mor\u001B[39;00m _global_backward_hooks\n\u001B[1;32m   1189\u001B[0m         \u001B[38;5;129;01mor\u001B[39;00m _global_forward_hooks \u001B[38;5;129;01mor\u001B[39;00m _global_forward_pre_hooks):\n\u001B[0;32m-> 1190\u001B[0m     \u001B[38;5;28;01mreturn\u001B[39;00m \u001B[43mforward_call\u001B[49m\u001B[43m(\u001B[49m\u001B[38;5;241;43m*\u001B[39;49m\u001B[38;5;28;43minput\u001B[39;49m\u001B[43m,\u001B[49m\u001B[43m \u001B[49m\u001B[38;5;241;43m*\u001B[39;49m\u001B[38;5;241;43m*\u001B[39;49m\u001B[43mkwargs\u001B[49m\u001B[43m)\u001B[49m\n\u001B[1;32m   1191\u001B[0m \u001B[38;5;66;03m# Do not call functions when jit is used\u001B[39;00m\n\u001B[1;32m   1192\u001B[0m full_backward_hooks, non_full_backward_hooks \u001B[38;5;241m=\u001B[39m [], []\n",
      "File \u001B[0;32m~/ДЗ/ВКРv2/hai-nonconflict-action-learning/venv/lib/python3.10/site-packages/stable_baselines3/common/policies.py:590\u001B[0m, in \u001B[0;36mActorCriticPolicy.forward\u001B[0;34m(self, obs, deterministic)\u001B[0m\n\u001B[1;32m    588\u001B[0m \u001B[38;5;66;03m# Evaluate the values for the given observations\u001B[39;00m\n\u001B[1;32m    589\u001B[0m values \u001B[38;5;241m=\u001B[39m \u001B[38;5;28mself\u001B[39m\u001B[38;5;241m.\u001B[39mvalue_net(latent_vf)\n\u001B[0;32m--> 590\u001B[0m distribution \u001B[38;5;241m=\u001B[39m \u001B[38;5;28;43mself\u001B[39;49m\u001B[38;5;241;43m.\u001B[39;49m\u001B[43m_get_action_dist_from_latent\u001B[49m\u001B[43m(\u001B[49m\u001B[43mlatent_pi\u001B[49m\u001B[43m)\u001B[49m\n\u001B[1;32m    591\u001B[0m actions \u001B[38;5;241m=\u001B[39m distribution\u001B[38;5;241m.\u001B[39mget_actions(deterministic\u001B[38;5;241m=\u001B[39mdeterministic)\n\u001B[1;32m    592\u001B[0m log_prob \u001B[38;5;241m=\u001B[39m distribution\u001B[38;5;241m.\u001B[39mlog_prob(actions)\n",
      "File \u001B[0;32m~/ДЗ/ВКРv2/hai-nonconflict-action-learning/venv/lib/python3.10/site-packages/stable_baselines3/common/policies.py:612\u001B[0m, in \u001B[0;36mActorCriticPolicy._get_action_dist_from_latent\u001B[0;34m(self, latent_pi)\u001B[0m\n\u001B[1;32m    609\u001B[0m     \u001B[38;5;28;01mreturn\u001B[39;00m \u001B[38;5;28mself\u001B[39m\u001B[38;5;241m.\u001B[39maction_dist\u001B[38;5;241m.\u001B[39mproba_distribution(action_logits\u001B[38;5;241m=\u001B[39mmean_actions)\n\u001B[1;32m    610\u001B[0m \u001B[38;5;28;01melif\u001B[39;00m \u001B[38;5;28misinstance\u001B[39m(\u001B[38;5;28mself\u001B[39m\u001B[38;5;241m.\u001B[39maction_dist, MultiCategoricalDistribution):\n\u001B[1;32m    611\u001B[0m     \u001B[38;5;66;03m# Here mean_actions are the flattened logits\u001B[39;00m\n\u001B[0;32m--> 612\u001B[0m     \u001B[38;5;28;01mreturn\u001B[39;00m \u001B[38;5;28;43mself\u001B[39;49m\u001B[38;5;241;43m.\u001B[39;49m\u001B[43maction_dist\u001B[49m\u001B[38;5;241;43m.\u001B[39;49m\u001B[43mproba_distribution\u001B[49m\u001B[43m(\u001B[49m\u001B[43maction_logits\u001B[49m\u001B[38;5;241;43m=\u001B[39;49m\u001B[43mmean_actions\u001B[49m\u001B[43m)\u001B[49m\n\u001B[1;32m    613\u001B[0m \u001B[38;5;28;01melif\u001B[39;00m \u001B[38;5;28misinstance\u001B[39m(\u001B[38;5;28mself\u001B[39m\u001B[38;5;241m.\u001B[39maction_dist, BernoulliDistribution):\n\u001B[1;32m    614\u001B[0m     \u001B[38;5;66;03m# Here mean_actions are the logits (before rounding to get the binary actions)\u001B[39;00m\n\u001B[1;32m    615\u001B[0m     \u001B[38;5;28;01mreturn\u001B[39;00m \u001B[38;5;28mself\u001B[39m\u001B[38;5;241m.\u001B[39maction_dist\u001B[38;5;241m.\u001B[39mproba_distribution(action_logits\u001B[38;5;241m=\u001B[39mmean_actions)\n",
      "File \u001B[0;32m~/ДЗ/ВКРv2/hai-nonconflict-action-learning/venv/lib/python3.10/site-packages/stable_baselines3/common/distributions.py:327\u001B[0m, in \u001B[0;36mMultiCategoricalDistribution.proba_distribution\u001B[0;34m(self, action_logits)\u001B[0m\n\u001B[1;32m    326\u001B[0m \u001B[38;5;28;01mdef\u001B[39;00m \u001B[38;5;21mproba_distribution\u001B[39m(\u001B[38;5;28mself\u001B[39m, action_logits: th\u001B[38;5;241m.\u001B[39mTensor) \u001B[38;5;241m-\u001B[39m\u001B[38;5;241m>\u001B[39m \u001B[38;5;124m\"\u001B[39m\u001B[38;5;124mMultiCategoricalDistribution\u001B[39m\u001B[38;5;124m\"\u001B[39m:\n\u001B[0;32m--> 327\u001B[0m     \u001B[38;5;28mself\u001B[39m\u001B[38;5;241m.\u001B[39mdistribution \u001B[38;5;241m=\u001B[39m [Categorical(logits\u001B[38;5;241m=\u001B[39msplit) \u001B[38;5;28;01mfor\u001B[39;00m split \u001B[38;5;129;01min\u001B[39;00m th\u001B[38;5;241m.\u001B[39msplit(action_logits, \u001B[38;5;28mtuple\u001B[39m(\u001B[38;5;28mself\u001B[39m\u001B[38;5;241m.\u001B[39maction_dims), dim\u001B[38;5;241m=\u001B[39m\u001B[38;5;241m1\u001B[39m)]\n\u001B[1;32m    328\u001B[0m     \u001B[38;5;28;01mreturn\u001B[39;00m \u001B[38;5;28mself\u001B[39m\n",
      "File \u001B[0;32m~/ДЗ/ВКРv2/hai-nonconflict-action-learning/venv/lib/python3.10/site-packages/stable_baselines3/common/distributions.py:327\u001B[0m, in \u001B[0;36m<listcomp>\u001B[0;34m(.0)\u001B[0m\n\u001B[1;32m    326\u001B[0m \u001B[38;5;28;01mdef\u001B[39;00m \u001B[38;5;21mproba_distribution\u001B[39m(\u001B[38;5;28mself\u001B[39m, action_logits: th\u001B[38;5;241m.\u001B[39mTensor) \u001B[38;5;241m-\u001B[39m\u001B[38;5;241m>\u001B[39m \u001B[38;5;124m\"\u001B[39m\u001B[38;5;124mMultiCategoricalDistribution\u001B[39m\u001B[38;5;124m\"\u001B[39m:\n\u001B[0;32m--> 327\u001B[0m     \u001B[38;5;28mself\u001B[39m\u001B[38;5;241m.\u001B[39mdistribution \u001B[38;5;241m=\u001B[39m [\u001B[43mCategorical\u001B[49m\u001B[43m(\u001B[49m\u001B[43mlogits\u001B[49m\u001B[38;5;241;43m=\u001B[39;49m\u001B[43msplit\u001B[49m\u001B[43m)\u001B[49m \u001B[38;5;28;01mfor\u001B[39;00m split \u001B[38;5;129;01min\u001B[39;00m th\u001B[38;5;241m.\u001B[39msplit(action_logits, \u001B[38;5;28mtuple\u001B[39m(\u001B[38;5;28mself\u001B[39m\u001B[38;5;241m.\u001B[39maction_dims), dim\u001B[38;5;241m=\u001B[39m\u001B[38;5;241m1\u001B[39m)]\n\u001B[1;32m    328\u001B[0m     \u001B[38;5;28;01mreturn\u001B[39;00m \u001B[38;5;28mself\u001B[39m\n",
      "File \u001B[0;32m~/ДЗ/ВКРv2/hai-nonconflict-action-learning/venv/lib/python3.10/site-packages/torch/distributions/categorical.py:66\u001B[0m, in \u001B[0;36mCategorical.__init__\u001B[0;34m(self, probs, logits, validate_args)\u001B[0m\n\u001B[1;32m     64\u001B[0m \u001B[38;5;28mself\u001B[39m\u001B[38;5;241m.\u001B[39m_num_events \u001B[38;5;241m=\u001B[39m \u001B[38;5;28mself\u001B[39m\u001B[38;5;241m.\u001B[39m_param\u001B[38;5;241m.\u001B[39msize()[\u001B[38;5;241m-\u001B[39m\u001B[38;5;241m1\u001B[39m]\n\u001B[1;32m     65\u001B[0m batch_shape \u001B[38;5;241m=\u001B[39m \u001B[38;5;28mself\u001B[39m\u001B[38;5;241m.\u001B[39m_param\u001B[38;5;241m.\u001B[39msize()[:\u001B[38;5;241m-\u001B[39m\u001B[38;5;241m1\u001B[39m] \u001B[38;5;28;01mif\u001B[39;00m \u001B[38;5;28mself\u001B[39m\u001B[38;5;241m.\u001B[39m_param\u001B[38;5;241m.\u001B[39mndimension() \u001B[38;5;241m>\u001B[39m \u001B[38;5;241m1\u001B[39m \u001B[38;5;28;01melse\u001B[39;00m torch\u001B[38;5;241m.\u001B[39mSize()\n\u001B[0;32m---> 66\u001B[0m \u001B[38;5;28;43msuper\u001B[39;49m\u001B[43m(\u001B[49m\u001B[43mCategorical\u001B[49m\u001B[43m,\u001B[49m\u001B[43m \u001B[49m\u001B[38;5;28;43mself\u001B[39;49m\u001B[43m)\u001B[49m\u001B[38;5;241;43m.\u001B[39;49m\u001B[38;5;21;43m__init__\u001B[39;49m\u001B[43m(\u001B[49m\u001B[43mbatch_shape\u001B[49m\u001B[43m,\u001B[49m\u001B[43m \u001B[49m\u001B[43mvalidate_args\u001B[49m\u001B[38;5;241;43m=\u001B[39;49m\u001B[43mvalidate_args\u001B[49m\u001B[43m)\u001B[49m\n",
      "File \u001B[0;32m~/ДЗ/ВКРv2/hai-nonconflict-action-learning/venv/lib/python3.10/site-packages/torch/distributions/distribution.py:54\u001B[0m, in \u001B[0;36mDistribution.__init__\u001B[0;34m(self, batch_shape, event_shape, validate_args)\u001B[0m\n\u001B[1;32m     52\u001B[0m     \u001B[38;5;28;01mcontinue\u001B[39;00m  \u001B[38;5;66;03m# skip checking lazily-constructed args\u001B[39;00m\n\u001B[1;32m     53\u001B[0m value \u001B[38;5;241m=\u001B[39m \u001B[38;5;28mgetattr\u001B[39m(\u001B[38;5;28mself\u001B[39m, param)\n\u001B[0;32m---> 54\u001B[0m valid \u001B[38;5;241m=\u001B[39m \u001B[43mconstraint\u001B[49m\u001B[38;5;241;43m.\u001B[39;49m\u001B[43mcheck\u001B[49m\u001B[43m(\u001B[49m\u001B[43mvalue\u001B[49m\u001B[43m)\u001B[49m\n\u001B[1;32m     55\u001B[0m \u001B[38;5;28;01mif\u001B[39;00m \u001B[38;5;129;01mnot\u001B[39;00m valid\u001B[38;5;241m.\u001B[39mall():\n\u001B[1;32m     56\u001B[0m     \u001B[38;5;28;01mraise\u001B[39;00m \u001B[38;5;167;01mValueError\u001B[39;00m(\n\u001B[1;32m     57\u001B[0m         \u001B[38;5;124mf\u001B[39m\u001B[38;5;124m\"\u001B[39m\u001B[38;5;124mExpected parameter \u001B[39m\u001B[38;5;132;01m{\u001B[39;00mparam\u001B[38;5;132;01m}\u001B[39;00m\u001B[38;5;124m \u001B[39m\u001B[38;5;124m\"\u001B[39m\n\u001B[1;32m     58\u001B[0m         \u001B[38;5;124mf\u001B[39m\u001B[38;5;124m\"\u001B[39m\u001B[38;5;124m(\u001B[39m\u001B[38;5;132;01m{\u001B[39;00m\u001B[38;5;28mtype\u001B[39m(value)\u001B[38;5;241m.\u001B[39m\u001B[38;5;18m__name__\u001B[39m\u001B[38;5;132;01m}\u001B[39;00m\u001B[38;5;124m of shape \u001B[39m\u001B[38;5;132;01m{\u001B[39;00m\u001B[38;5;28mtuple\u001B[39m(value\u001B[38;5;241m.\u001B[39mshape)\u001B[38;5;132;01m}\u001B[39;00m\u001B[38;5;124m) \u001B[39m\u001B[38;5;124m\"\u001B[39m\n\u001B[0;32m   (...)\u001B[0m\n\u001B[1;32m     61\u001B[0m         \u001B[38;5;124mf\u001B[39m\u001B[38;5;124m\"\u001B[39m\u001B[38;5;124mbut found invalid values:\u001B[39m\u001B[38;5;130;01m\\n\u001B[39;00m\u001B[38;5;132;01m{\u001B[39;00mvalue\u001B[38;5;132;01m}\u001B[39;00m\u001B[38;5;124m\"\u001B[39m\n\u001B[1;32m     62\u001B[0m     )\n",
      "File \u001B[0;32m~/ДЗ/ВКРv2/hai-nonconflict-action-learning/venv/lib/python3.10/site-packages/torch/distributions/constraints.py:209\u001B[0m, in \u001B[0;36m_IndependentConstraint.check\u001B[0;34m(self, value)\u001B[0m\n\u001B[1;32m    208\u001B[0m \u001B[38;5;28;01mdef\u001B[39;00m \u001B[38;5;21mcheck\u001B[39m(\u001B[38;5;28mself\u001B[39m, value):\n\u001B[0;32m--> 209\u001B[0m     result \u001B[38;5;241m=\u001B[39m \u001B[38;5;28;43mself\u001B[39;49m\u001B[38;5;241;43m.\u001B[39;49m\u001B[43mbase_constraint\u001B[49m\u001B[38;5;241;43m.\u001B[39;49m\u001B[43mcheck\u001B[49m\u001B[43m(\u001B[49m\u001B[43mvalue\u001B[49m\u001B[43m)\u001B[49m\n\u001B[1;32m    210\u001B[0m     \u001B[38;5;28;01mif\u001B[39;00m result\u001B[38;5;241m.\u001B[39mdim() \u001B[38;5;241m<\u001B[39m \u001B[38;5;28mself\u001B[39m\u001B[38;5;241m.\u001B[39mreinterpreted_batch_ndims:\n\u001B[1;32m    211\u001B[0m         expected \u001B[38;5;241m=\u001B[39m \u001B[38;5;28mself\u001B[39m\u001B[38;5;241m.\u001B[39mbase_constraint\u001B[38;5;241m.\u001B[39mevent_dim \u001B[38;5;241m+\u001B[39m \u001B[38;5;28mself\u001B[39m\u001B[38;5;241m.\u001B[39mreinterpreted_batch_ndims\n",
      "\u001B[0;31mKeyboardInterrupt\u001B[0m: "
     ]
    }
   ],
   "source": [
    "multiagent_learn(models, timesteps, env, n_records_count, \"models/footbol2v2-a2c\")"
   ],
   "metadata": {
    "colab": {
     "base_uri": "https://localhost:8080/"
    },
    "id": "jjJicituksxQ",
    "outputId": "6dfecaa7-126a-4dc5-9449-e41b981c1be9"
   }
  },
  {
   "cell_type": "markdown",
   "source": [
    "## Load and visualise"
   ],
   "metadata": {
    "collapsed": false,
    "id": "CM1Ip8m9ksxR"
   }
  },
  {
   "cell_type": "code",
   "execution_count": 7,
   "outputs": [],
   "source": [
    "from stable_baselines3 import PPO\n",
    "\n",
    "models = [PPO.load(f\"models/footbol2v2-ppo-last-{index}\", device=\"cpu\") for index in range(2)]"
   ],
   "metadata": {
    "id": "LmxMNzwiksxR"
   }
  },
  {
   "cell_type": "code",
   "execution_count": 8,
   "outputs": [
    {
     "ename": "ValueError",
     "evalue": "zero-dimensional arrays cannot be concatenated",
     "output_type": "error",
     "traceback": [
      "\u001B[0;31m---------------------------------------------------------------------------\u001B[0m",
      "\u001B[0;31mValueError\u001B[0m                                Traceback (most recent call last)",
      "Cell \u001B[0;32mIn [8], line 6\u001B[0m\n\u001B[1;32m      3\u001B[0m multi_agent \u001B[38;5;241m=\u001B[39m utils\u001B[38;5;241m.\u001B[39mMultiModelAgent(models)\n\u001B[1;32m      5\u001B[0m visualizer \u001B[38;5;241m=\u001B[39m utils\u001B[38;5;241m.\u001B[39mMatplotlibVisualizer(env)\n\u001B[0;32m----> 6\u001B[0m \u001B[43mvisualizer\u001B[49m\u001B[38;5;241;43m.\u001B[39;49m\u001B[43mrun\u001B[49m\u001B[43m(\u001B[49m\u001B[43mmulti_agent\u001B[49m\u001B[43m)\u001B[49m\n\u001B[1;32m      8\u001B[0m env\u001B[38;5;241m.\u001B[39mclose()\n",
      "File \u001B[0;32m~/ДЗ/ВКРv2/hai-nonconflict-action-learning/utils.py:30\u001B[0m, in \u001B[0;36mBaseVisualizer.run\u001B[0;34m(self, model)\u001B[0m\n\u001B[1;32m     28\u001B[0m total_reward \u001B[38;5;241m=\u001B[39m \u001B[38;5;241m0\u001B[39m\n\u001B[1;32m     29\u001B[0m \u001B[38;5;28;01mwhile\u001B[39;00m \u001B[38;5;129;01mnot\u001B[39;00m done:\n\u001B[0;32m---> 30\u001B[0m     action, _states \u001B[38;5;241m=\u001B[39m \u001B[43mmodel\u001B[49m\u001B[38;5;241;43m.\u001B[39;49m\u001B[43mpredict\u001B[49m\u001B[43m(\u001B[49m\u001B[43mob\u001B[49m\u001B[43m)\u001B[49m\n\u001B[1;32m     31\u001B[0m     ob, reward, done, info \u001B[38;5;241m=\u001B[39m \u001B[38;5;28mself\u001B[39m\u001B[38;5;241m.\u001B[39menv\u001B[38;5;241m.\u001B[39mstep(action)\n\u001B[1;32m     32\u001B[0m     \u001B[38;5;28mself\u001B[39m\u001B[38;5;241m.\u001B[39mvisualize(reward)\n",
      "File \u001B[0;32m~/ДЗ/ВКРv2/hai-nonconflict-action-learning/utils.py:123\u001B[0m, in \u001B[0;36mMultiModelAgent.predict\u001B[0;34m(self, *args, **kwargs)\u001B[0m\n\u001B[1;32m    121\u001B[0m \u001B[38;5;28;01mdef\u001B[39;00m \u001B[38;5;21mpredict\u001B[39m(\u001B[38;5;28mself\u001B[39m, \u001B[38;5;241m*\u001B[39margs, \u001B[38;5;241m*\u001B[39m\u001B[38;5;241m*\u001B[39mkwargs):\n\u001B[1;32m    122\u001B[0m     actions \u001B[38;5;241m=\u001B[39m [model\u001B[38;5;241m.\u001B[39mpredict(\u001B[38;5;241m*\u001B[39margs, \u001B[38;5;241m*\u001B[39m\u001B[38;5;241m*\u001B[39mkwargs)[\u001B[38;5;241m0\u001B[39m] \u001B[38;5;28;01mfor\u001B[39;00m model \u001B[38;5;129;01min\u001B[39;00m \u001B[38;5;28mself\u001B[39m\u001B[38;5;241m.\u001B[39mmodels]\n\u001B[0;32m--> 123\u001B[0m     \u001B[38;5;28;01mreturn\u001B[39;00m \u001B[43mnp\u001B[49m\u001B[38;5;241;43m.\u001B[39;49m\u001B[43mconcatenate\u001B[49m\u001B[43m(\u001B[49m\u001B[43mactions\u001B[49m\u001B[43m)\u001B[49m, \u001B[38;5;28;01mNone\u001B[39;00m\n",
      "File \u001B[0;32m<__array_function__ internals>:180\u001B[0m, in \u001B[0;36mconcatenate\u001B[0;34m(*args, **kwargs)\u001B[0m\n",
      "\u001B[0;31mValueError\u001B[0m: zero-dimensional arrays cannot be concatenated"
     ]
    }
   ],
   "source": [
    "env = gym.make(\"Futbol2v2-v1\")\n",
    "\n",
    "multi_agent = utils.MultiModelAgent(models)\n",
    "\n",
    "visualizer = utils.MatplotlibVisualizer(env)\n",
    "visualizer.run(multi_agent)\n",
    "\n",
    "env.close()"
   ],
   "metadata": {
    "colab": {
     "base_uri": "https://localhost:8080/",
     "height": 281
    },
    "id": "0KH1O0VKksxS",
    "outputId": "6e1e67be-09ed-4e91-b018-7e6b2e3f47c9"
   }
  },
  {
   "cell_type": "code",
   "execution_count": null,
   "outputs": [],
   "source": [],
   "metadata": {
    "id": "Xn1pZw9LksxS"
   }
  }
 ],
 "metadata": {
  "kernelspec": {
   "display_name": "Python 3",
   "language": "python",
   "name": "python3"
  },
  "language_info": {
   "codemirror_mode": {
    "name": "ipython",
    "version": 2
   },
   "file_extension": ".py",
   "mimetype": "text/x-python",
   "name": "python",
   "nbconvert_exporter": "python",
   "pygments_lexer": "ipython2",
   "version": "2.7.6"
  },
  "colab": {
   "provenance": []
  },
  "widgets": {
   "application/vnd.jupyter.widget-state+json": {
    "f466f8a5ec2f481888847e2b87cdba37": {
     "model_module": "@jupyter-widgets/output",
     "model_name": "OutputModel",
     "model_module_version": "1.0.0",
     "state": {
      "_dom_classes": [],
      "_model_module": "@jupyter-widgets/output",
      "_model_module_version": "1.0.0",
      "_model_name": "OutputModel",
      "_view_count": null,
      "_view_module": "@jupyter-widgets/output",
      "_view_module_version": "1.0.0",
      "_view_name": "OutputView",
      "layout": "IPY_MODEL_4642a4b3ccf349659444fde720c2d466",
      "msg_id": "",
      "outputs": [
       {
        "output_type": "display_data",
        "data": {
         "text/plain": "\u001B[35m  98%\u001B[0m \u001B[38;2;249;38;114m━━━━━━━━━━━━━━━━━━━━━━━━━━━━━━━━━━━━━━━━━━━━━━━━━━━━━━━━━━\u001B[0m\u001B[38;2;249;38;114m╸\u001B[0m\u001B[38;5;237m━\u001B[0m \u001B[32m9,824/10,000 \u001B[0m [ \u001B[33m0:00:07\u001B[0m < \u001B[36m0:00:01\u001B[0m , \u001B[31m1,356 it/s\u001B[0m ]\n",
         "text/html": "<pre style=\"white-space:pre;overflow-x:auto;line-height:normal;font-family:Menlo,'DejaVu Sans Mono',consolas,'Courier New',monospace\"><span style=\"color: #800080; text-decoration-color: #800080\">  98%</span> <span style=\"color: #f92672; text-decoration-color: #f92672\">━━━━━━━━━━━━━━━━━━━━━━━━━━━━━━━━━━━━━━━━━━━━━━━━━━━━━━━━━━╸</span><span style=\"color: #3a3a3a; text-decoration-color: #3a3a3a\">━</span> <span style=\"color: #008000; text-decoration-color: #008000\">9,824/10,000 </span> [ <span style=\"color: #808000; text-decoration-color: #808000\">0:00:07</span> &lt; <span style=\"color: #008080; text-decoration-color: #008080\">0:00:01</span> , <span style=\"color: #800000; text-decoration-color: #800000\">1,356 it/s</span> ]\n</pre>\n"
        },
        "metadata": {}
       }
      ]
     }
    },
    "4642a4b3ccf349659444fde720c2d466": {
     "model_module": "@jupyter-widgets/base",
     "model_name": "LayoutModel",
     "model_module_version": "1.2.0",
     "state": {
      "_model_module": "@jupyter-widgets/base",
      "_model_module_version": "1.2.0",
      "_model_name": "LayoutModel",
      "_view_count": null,
      "_view_module": "@jupyter-widgets/base",
      "_view_module_version": "1.2.0",
      "_view_name": "LayoutView",
      "align_content": null,
      "align_items": null,
      "align_self": null,
      "border": null,
      "bottom": null,
      "display": null,
      "flex": null,
      "flex_flow": null,
      "grid_area": null,
      "grid_auto_columns": null,
      "grid_auto_flow": null,
      "grid_auto_rows": null,
      "grid_column": null,
      "grid_gap": null,
      "grid_row": null,
      "grid_template_areas": null,
      "grid_template_columns": null,
      "grid_template_rows": null,
      "height": null,
      "justify_content": null,
      "justify_items": null,
      "left": null,
      "margin": null,
      "max_height": null,
      "max_width": null,
      "min_height": null,
      "min_width": null,
      "object_fit": null,
      "object_position": null,
      "order": null,
      "overflow": null,
      "overflow_x": null,
      "overflow_y": null,
      "padding": null,
      "right": null,
      "top": null,
      "visibility": null,
      "width": null
     }
    }
   }
  }
 },
 "nbformat": 4,
 "nbformat_minor": 0
}

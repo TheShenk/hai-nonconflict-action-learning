{
 "cells": [
  {
   "cell_type": "code",
   "execution_count": 13,
   "metadata": {
    "collapsed": true
   },
   "outputs": [],
   "source": [
    "import gym\n",
    "import gym_futbol\n",
    "import numpy as np\n",
    "import matplotlib.pyplot as plt\n",
    "from stable_baselines3 import A2C\n",
    "from stable_baselines3.common.env_util import make_vec_env\n",
    "import utils\n",
    "from multiagent import MultiAgentModelProxy"
   ]
  },
  {
   "cell_type": "markdown",
   "source": [
    "# Basics"
   ],
   "metadata": {
    "collapsed": false
   }
  },
  {
   "cell_type": "code",
   "execution_count": null,
   "outputs": [],
   "source": [
    "env = gym.make(\"Futbol2v2-v1\")\n",
    "env.render()"
   ],
   "metadata": {
    "collapsed": false
   }
  },
  {
   "cell_type": "code",
   "execution_count": null,
   "outputs": [],
   "source": [
    "env.action_space"
   ],
   "metadata": {
    "collapsed": false
   }
  },
  {
   "cell_type": "code",
   "execution_count": null,
   "outputs": [],
   "source": [
    "from stable_baselines3.common.env_checker import check_env\n",
    "check_env(env)"
   ],
   "metadata": {
    "collapsed": false
   }
  },
  {
   "cell_type": "markdown",
   "source": [
    "# Learning model"
   ],
   "metadata": {
    "collapsed": false
   }
  },
  {
   "cell_type": "code",
   "execution_count": 12,
   "outputs": [],
   "source": [
    "log_dir = \"logs/\"\n",
    "timesteps = 100000"
   ],
   "metadata": {
    "collapsed": false
   }
  },
  {
   "cell_type": "code",
   "execution_count": null,
   "outputs": [],
   "source": [
    "from stable_baselines3.common.env_util import make_vec_env\n",
    "\n",
    "env = gym.make(\"Futbol2v2-v1\")\n",
    "env = make_vec_env(lambda: env, n_envs=4, monitor_dir=log_dir)\n",
    "model = A2C(\"MlpPolicy\", env, device='cpu')\n",
    "model.learn(timesteps, progress_bar=True)\n",
    "model.save(\"models/footbol2v2-a2c\")"
   ],
   "metadata": {
    "collapsed": false
   }
  },
  {
   "cell_type": "markdown",
   "source": [
    "# Display model statistic"
   ],
   "metadata": {
    "collapsed": false
   }
  },
  {
   "cell_type": "code",
   "execution_count": 16,
   "outputs": [
    {
     "name": "stdout",
     "output_type": "stream",
     "text": [
      "     index            r   l           t\n",
      "0        0   172.634473  75    0.556703\n",
      "1        1   124.632164  75    0.893679\n",
      "2        2    90.968688  75    1.256261\n",
      "3        3    76.612176  75    1.623350\n",
      "4        4   245.413219  75    1.960592\n",
      "..     ...          ...  ..         ...\n",
      "328    328   269.095398  75  131.631002\n",
      "329    329   442.319189  75  132.039856\n",
      "330    330  1606.574365  75  132.445689\n",
      "331    331   533.459551  75  132.838477\n",
      "332    332  -895.702063  75  133.231494\n",
      "\n",
      "[333 rows x 4 columns]\n"
     ]
    },
    {
     "data": {
      "text/plain": "<Figure size 800x200 with 1 Axes>",
      "image/png": "[encoded data removed]"
     },
     "metadata": {},
     "output_type": "display_data"
    }
   ],
   "source": [
    "from IPython import display\n",
    "from stable_baselines3.common import results_plotter\n",
    "\n",
    "results_plotter.plot_results([log_dir], timesteps, results_plotter.X_EPISODES, \"Futbol2v2-v1\")\n",
    "display.display(plt.gcf())\n",
    "display.clear_output(wait=True)\n",
    "\n",
    "log_data = results_plotter.load_results(log_dir)\n",
    "print(log_data)"
   ],
   "metadata": {
    "collapsed": false
   }
  },
  {
   "cell_type": "markdown",
   "source": [
    "# Load model from file"
   ],
   "metadata": {
    "collapsed": false
   }
  },
  {
   "cell_type": "code",
   "execution_count": null,
   "outputs": [],
   "source": [
    "model = A2C.load(\"models/footbol2v2-a2c\", device=\"cpu\")"
   ],
   "metadata": {
    "collapsed": false
   }
  },
  {
   "cell_type": "markdown",
   "source": [
    "# Run models"
   ],
   "metadata": {
    "collapsed": false
   }
  },
  {
   "cell_type": "markdown",
   "source": [
    "## Pygame\n",
    "Run game with model in new windows with pygame"
   ],
   "metadata": {
    "collapsed": false
   }
  },
  {
   "cell_type": "code",
   "execution_count": null,
   "outputs": [],
   "source": [
    "RES = WIDTH, HEIGHT = 600, 600\n",
    "FPS = 60\n",
    "\n",
    "env = gym.make(\"Futbol2v2-v1\", width=WIDTH-2, height=HEIGHT-2, player_radius=15, ball_radius=5)\n",
    "visualizer = utils.PygameVisualizer(env, FPS)\n",
    "visualizer.run(model)\n",
    "\n",
    "env.close()\n",
    "visualizer.close()"
   ],
   "metadata": {
    "collapsed": false
   }
  },
  {
   "cell_type": "markdown",
   "source": [
    "## Matplotlib\n",
    "Run model in notebook with matplotlib"
   ],
   "metadata": {
    "collapsed": false
   }
  },
  {
   "cell_type": "code",
   "execution_count": null,
   "outputs": [],
   "source": [
    "env = gym.make(\"Futbol2v2-v1\")\n",
    "\n",
    "visualizer = utils.MatplotlibVisualizer(env)\n",
    "visualizer.run(model)\n",
    "\n",
    "env.close()"
   ],
   "metadata": {
    "collapsed": false
   }
  },
  {
   "cell_type": "markdown",
   "source": [
    "# MultiAgent"
   ],
   "metadata": {
    "collapsed": false
   }
  },
  {
   "cell_type": "markdown",
   "source": [
    "## Learn"
   ],
   "metadata": {
    "collapsed": false
   }
  },
  {
   "cell_type": "code",
   "execution_count": 14,
   "outputs": [],
   "source": [
    "env = make_vec_env(lambda: gym.make(\"Futbol2v2-v1\"), n_envs=1)\n",
    "\n",
    "models = [\n",
    "    MultiAgentModelProxy(A2C(\"MlpPolicy\",\n",
    "                             utils.TransformAction(env, lambda a: a[:2], gym.spaces.MultiDiscrete([5, 5])),\n",
    "                             device='cpu')),\n",
    "    MultiAgentModelProxy(A2C(\"MlpPolicy\",\n",
    "                             utils.TransformAction(env, lambda a: a[2:4], gym.spaces.MultiDiscrete([5, 5])),\n",
    "                             device='cpu'))\n",
    "]\n",
    "\n",
    "static_models = [\n",
    "    utils.RandomStaticAgent(utils.TransformAction(env, lambda a: a[2:4], gym.spaces.MultiDiscrete([5, 5]))),\n",
    "    utils.RandomStaticAgent(utils.TransformAction(env, lambda a: a[2:4], gym.spaces.MultiDiscrete([5, 5])))\n",
    "]\n",
    "\n",
    "timesteps = 1000\n",
    "n_records_count = models[0].model.n_steps\n",
    "max_episode_reward = 0"
   ],
   "metadata": {
    "collapsed": false
   }
  },
  {
   "cell_type": "markdown",
   "source": [
    "### Rewrote learning cycle\n",
    "StableBaselines3 не поддерживает одновременное обучение нескольких агентов, это даже не ошибка по мнению разработчиков. Они считают, что в данном случае каждому пользователю необходимо самостоятельо переопределить цикл обучения (для не мультиагентных задач используется метод learn). Здесь представлен код, взятый из исходных кодов StableBaselines3, но адаптированный для многоагентных задач.\n",
    "В обычной ситуации, learn сам взаимодействует со средой. Но при существовании нескольких агентов нужно получить действие от каждого и только потом передавать их в среду. Именно это здесь и реализовано. Каждому агенту передается наблюдение от среды (в данной задаче оно одинаково для всех) и получается действие. Затем действия объеядиняются и передаются среде. Затем каждый агент обновляется с учетом полученных данных (метод record).\n",
    "Весь код, взятый из StableBaselines3 вынесен в класс MultiAgentModelProxy."
   ],
   "metadata": {
    "collapsed": false
   },
   "outputs": []
  },
  {
   "cell_type": "code",
   "execution_count": 15,
   "outputs": [],
   "source": [
    "#TODO: рассмотреть возможность асинхронной среды\n",
    "#TODO: добавить вывод логов для последующего использования results_plotter"
   ],
   "metadata": {
    "collapsed": false
   }
  },
  {
   "cell_type": "code",
   "execution_count": 16,
   "outputs": [
    {
     "name": "stdout",
     "output_type": "stream",
     "text": [
      "0 [-1091.6887]\n",
      "1 [822.0816]\n",
      "2 [1774.9917]\n",
      "3 [445.4238]\n",
      "4 [827.3867]\n",
      "5 [2287.516]\n",
      "6 [978.4781]\n",
      "7 [449.45312]\n",
      "8 [276.0921]\n",
      "9 [-1067.554]\n",
      "10 [702.4676]\n",
      "11 [1575.2356]\n",
      "12 [844.7919]\n",
      "13 [998.80963]\n",
      "14 [1386.2634]\n",
      "15 [763.14264]\n",
      "16 [466.1182]\n",
      "17 [1098.9585]\n",
      "18 [577.1648]\n",
      "19 [360.13446]\n",
      "20 [1633.5005]\n",
      "21 [991.8707]\n",
      "22 [1475.1755]\n",
      "23 [2296.2898]\n",
      "24 [569.91296]\n",
      "25 [3236.7478]\n",
      "26 [431.69922]\n",
      "27 [648.0191]\n",
      "28 [2347.062]\n",
      "29 [1974.8229]\n",
      "30 [1187.0518]\n",
      "31 [777.9736]\n",
      "32 [-1007.61334]\n",
      "33 [-940.43933]\n",
      "34 [652.0781]\n",
      "35 [1184.5431]\n",
      "36 [1177.8997]\n",
      "37 [3619.2551]\n",
      "38 [-327.47617]\n",
      "39 [2063.9478]\n",
      "40 [679.4136]\n",
      "41 [988.8791]\n",
      "42 [343.8934]\n",
      "43 [2165.151]\n",
      "44 [-333.58826]\n",
      "45 [2038.9252]\n",
      "46 [622.4943]\n",
      "47 [3235.1528]\n",
      "48 [2264.316]\n",
      "49 [1779.6807]\n",
      "50 [606.46423]\n",
      "51 [-773.4988]\n",
      "52 [278.784]\n",
      "53 [608.8482]\n",
      "54 [2868.6228]\n",
      "55 [1674.0176]\n",
      "56 [539.0059]\n",
      "57 [697.24756]\n",
      "58 [850.95966]\n",
      "59 [339.88864]\n",
      "60 [708.8264]\n",
      "61 [675.49554]\n",
      "62 [-1270.5271]\n",
      "63 [127.28037]\n",
      "64 [254.30202]\n",
      "65 [-414.12717]\n",
      "66 [1112.613]\n",
      "67 [785.039]\n",
      "68 [521.5633]\n",
      "69 [696.5742]\n",
      "70 [2747.2256]\n",
      "71 [2072.9863]\n",
      "72 [2085.3206]\n",
      "73 [2928.8997]\n",
      "74 [1057.726]\n",
      "75 [1415.3]\n",
      "76 [-1182.108]\n",
      "77 [1462.3594]\n",
      "78 [1009.18713]\n",
      "79 [2664.674]\n",
      "80 [1733.0034]\n",
      "81 [-631.61945]\n",
      "82 [2228.8428]\n",
      "83 [2407.7646]\n",
      "84 [3582.6501]\n",
      "85 [1957.2715]\n",
      "86 [971.9517]\n",
      "87 [1023.7698]\n",
      "88 [-171.1664]\n",
      "89 [902.45435]\n",
      "90 [747.4591]\n",
      "91 [744.5253]\n",
      "92 [393.7709]\n",
      "93 [1280.7985]\n",
      "94 [379.68384]\n",
      "95 [541.3249]\n",
      "96 [621.10876]\n",
      "97 [602.4301]\n",
      "98 [210.1685]\n",
      "99 [709.478]\n",
      "100 [-550.0979]\n",
      "101 [1147.3295]\n",
      "102 [-1065.3146]\n",
      "103 [793.87634]\n",
      "104 [804.8398]\n",
      "105 [858.94727]\n",
      "106 [819.334]\n",
      "107 [643.37964]\n",
      "108 [-426.4909]\n",
      "109 [665.82947]\n",
      "110 [924.29974]\n",
      "111 [843.4163]\n",
      "112 [-356.25305]\n",
      "113 [-1014.74176]\n",
      "114 [635.7974]\n",
      "115 [-928.6598]\n",
      "116 [1249.9207]\n",
      "117 [553.8648]\n",
      "118 [527.9298]\n",
      "119 [360.42227]\n",
      "120 [1299.8049]\n",
      "121 [172.85645]\n",
      "122 [468.08398]\n",
      "123 [-809.15485]\n",
      "124 [1934.7627]\n",
      "125 [-542.7992]\n",
      "126 [-504.88422]\n",
      "127 [1722.9675]\n",
      "128 [750.73926]\n",
      "129 [296.2663]\n",
      "130 [893.65314]\n",
      "131 [-1804.6862]\n",
      "132 [332.92703]\n",
      "133 [416.7803]\n",
      "134 [470.56433]\n",
      "135 [595.3766]\n",
      "136 [329.25858]\n",
      "137 [624.6543]\n",
      "138 [88.93074]\n",
      "139 [307.14777]\n",
      "140 [4.6792526]\n",
      "141 [-2324.0613]\n",
      "142 [354.85236]\n",
      "143 [96.12209]\n",
      "144 [652.3742]\n",
      "145 [481.26462]\n",
      "146 [-107.232994]\n",
      "147 [-1821.7443]\n",
      "148 [73.57812]\n",
      "149 [-497.29214]\n",
      "150 [-540.2956]\n",
      "151 [276.68375]\n",
      "152 [-1363.1515]\n",
      "153 [516.7038]\n",
      "154 [-1101.0432]\n",
      "155 [-1514.1638]\n",
      "156 [-982.9351]\n",
      "157 [205.05237]\n",
      "158 [232.64703]\n",
      "159 [447.5005]\n",
      "160 [190.17438]\n",
      "161 [-1311.7001]\n",
      "162 [-385.99655]\n",
      "163 [-1209.0916]\n",
      "164 [245.01808]\n",
      "165 [255.8848]\n",
      "166 [594.8765]\n",
      "167 [-315.187]\n",
      "168 [-734.978]\n",
      "169 [1530.0032]\n",
      "170 [74.3511]\n",
      "171 [152.69551]\n",
      "172 [1471.71]\n",
      "173 [312.26486]\n",
      "174 [10.733524]\n",
      "175 [-48.12053]\n",
      "176 [-1030.0171]\n",
      "177 [184.625]\n",
      "178 [1901.8658]\n",
      "179 [227.03583]\n",
      "180 [-24.010487]\n",
      "181 [217.82912]\n",
      "182 [505.7455]\n",
      "183 [312.58005]\n",
      "184 [101.11998]\n",
      "185 [-1365.9813]\n",
      "186 [1832.5872]\n",
      "187 [105.05122]\n",
      "188 [335.66797]\n",
      "189 [-1644.1248]\n",
      "190 [433.17975]\n",
      "191 [-544.8718]\n",
      "192 [-2964.86]\n",
      "193 [-1206.4767]\n",
      "194 [62.971565]\n",
      "195 [258.8469]\n",
      "196 [258.5021]\n",
      "197 [296.93167]\n",
      "198 [224.00494]\n",
      "199 [56.00941]\n",
      "200 [-1618.329]\n",
      "201 [-280.2391]\n",
      "202 [67.47306]\n",
      "203 [240.90569]\n",
      "204 [-68.83322]\n",
      "205 [389.66626]\n",
      "206 [-34.61257]\n",
      "207 [-1295.0508]\n",
      "208 [-1195.9238]\n",
      "209 [126.10235]\n",
      "210 [108.35675]\n",
      "211 [198.6021]\n",
      "212 [-1581.89]\n",
      "213 [211.8336]\n",
      "214 [279.9507]\n",
      "215 [138.593]\n",
      "216 [-344.19363]\n",
      "217 [255.91245]\n",
      "218 [-1412.2874]\n",
      "219 [-1314.4233]\n",
      "220 [85.00347]\n",
      "221 [43.95062]\n",
      "222 [146.95584]\n",
      "223 [236.1461]\n",
      "224 [-138.07472]\n",
      "225 [143.89935]\n",
      "226 [97.97979]\n",
      "227 [449.8169]\n",
      "228 [-167.67853]\n",
      "229 [-1335.8229]\n",
      "230 [496.7754]\n",
      "231 [135.0597]\n",
      "232 [-425.44913]\n",
      "233 [303.12204]\n",
      "234 [116.53449]\n",
      "235 [-198.28574]\n",
      "236 [446.46204]\n",
      "237 [-93.50895]\n",
      "238 [-1149.3304]\n",
      "239 [-1298.3461]\n",
      "240 [297.09445]\n",
      "241 [62.866997]\n",
      "242 [259.41003]\n",
      "243 [-3133.1472]\n",
      "244 [-388.76544]\n",
      "245 [5.323127]\n",
      "246 [335.69855]\n",
      "247 [615.8047]\n",
      "248 [-1526.0587]\n",
      "249 [31.930147]\n",
      "250 [9.604848]\n",
      "251 [147.72896]\n",
      "252 [3.3606954]\n",
      "253 [264.793]\n",
      "254 [-786.0171]\n",
      "255 [-1587.0311]\n",
      "256 [108.284256]\n",
      "257 [-1464.6501]\n",
      "258 [435.82077]\n",
      "259 [-554.5636]\n",
      "260 [179.81784]\n",
      "261 [194.89368]\n",
      "262 [-981.4149]\n",
      "263 [499.5346]\n",
      "264 [-1091.0638]\n",
      "265 [1597.6561]\n",
      "266 [384.63092]\n",
      "267 [154.73767]\n",
      "268 [24.557495]\n",
      "269 [692.1559]\n",
      "270 [-1035.7102]\n",
      "271 [-1308.0133]\n",
      "272 [-6.945919]\n",
      "273 [-1349.4547]\n",
      "274 [237.54213]\n",
      "275 [1912.5422]\n",
      "276 [399.64322]\n",
      "277 [-14.53712]\n",
      "278 [-1648.5104]\n",
      "279 [-1687.8405]\n",
      "280 [-517.99316]\n",
      "281 [428.4592]\n",
      "282 [354.25674]\n",
      "283 [638.83496]\n",
      "284 [138.90988]\n",
      "285 [29.984144]\n",
      "286 [118.2481]\n",
      "287 [126.790436]\n",
      "288 [-1310.0869]\n",
      "289 [304.40372]\n",
      "290 [182.30908]\n",
      "291 [773.2971]\n",
      "292 [390.94543]\n",
      "293 [482.10544]\n",
      "294 [523.66895]\n",
      "295 [120.06466]\n",
      "296 [70.51351]\n",
      "297 [475.88593]\n",
      "298 [321.05756]\n",
      "299 [-2800.3198]\n",
      "300 [-3134.5078]\n",
      "301 [738.8797]\n",
      "302 [-407.22507]\n",
      "303 [117.74137]\n",
      "304 [376.5719]\n",
      "305 [371.82788]\n",
      "306 [35.555153]\n",
      "307 [-122.63114]\n",
      "308 [1768.2732]\n",
      "309 [-19.382381]\n",
      "310 [-1370.0703]\n",
      "311 [1155.561]\n",
      "312 [-1372.5775]\n",
      "313 [372.71396]\n",
      "314 [-1464.4222]\n",
      "315 [382.80768]\n",
      "316 [-1124.8169]\n",
      "317 [89.12209]\n",
      "318 [1292.5961]\n",
      "319 [189.11101]\n",
      "320 [145.66069]\n",
      "321 [-1401.2529]\n",
      "322 [551.05786]\n",
      "323 [-3179.3835]\n",
      "324 [200.5356]\n",
      "325 [550.1647]\n",
      "326 [252.23178]\n",
      "327 [572.9843]\n",
      "328 [506.01874]\n",
      "329 [42.014935]\n",
      "330 [433.14456]\n",
      "331 [1967.9314]\n",
      "332 [231.80525]\n",
      "333 [-229.77197]\n",
      "334 [-1083.1127]\n",
      "335 [272.6491]\n",
      "336 [-1313.6902]\n",
      "337 [1434.4714]\n",
      "338 [56.874016]\n",
      "339 [29.020473]\n",
      "340 [325.64865]\n",
      "341 [70.01806]\n",
      "342 [-346.84848]\n",
      "343 [-1585.3826]\n",
      "344 [2225.0154]\n",
      "345 [268.09415]\n",
      "346 [668.8238]\n",
      "347 [-823.41254]\n",
      "348 [297.6079]\n",
      "349 [245.96014]\n",
      "350 [-125.41753]\n",
      "351 [643.99524]\n",
      "352 [-964.17413]\n",
      "353 [47.98834]\n",
      "354 [565.4302]\n",
      "355 [-231.90454]\n",
      "356 [306.02374]\n",
      "357 [675.0669]\n",
      "358 [-440.56976]\n",
      "359 [-1278.4355]\n",
      "360 [461.98944]\n",
      "361 [100.68937]\n",
      "362 [94.1219]\n",
      "363 [-1426.7887]\n",
      "364 [144.64018]\n",
      "365 [163.82887]\n",
      "366 [420.29984]\n",
      "367 [506.32993]\n",
      "368 [241.781]\n",
      "369 [293.7529]\n",
      "370 [108.453415]\n",
      "371 [435.3252]\n",
      "372 [151.73996]\n",
      "373 [439.80963]\n",
      "374 [356.49344]\n",
      "375 [253.55206]\n",
      "376 [652.0318]\n",
      "377 [365.67783]\n",
      "378 [287.55023]\n",
      "379 [327.41608]\n",
      "380 [269.9497]\n",
      "381 [164.06009]\n",
      "382 [301.17075]\n",
      "383 [28.86722]\n",
      "384 [25.07079]\n",
      "385 [321.67868]\n",
      "386 [387.3458]\n",
      "387 [108.15038]\n",
      "388 [244.38548]\n",
      "389 [-4.268225]\n",
      "390 [823.2775]\n",
      "391 [341.61713]\n",
      "392 [379.21777]\n",
      "393 [349.03876]\n",
      "394 [-1083.5664]\n",
      "395 [46.309544]\n",
      "396 [-1107.4242]\n",
      "397 [379.30612]\n",
      "398 [-936.64166]\n",
      "399 [320.0772]\n",
      "400 [657.23627]\n",
      "401 [414.19293]\n",
      "402 [-1255.501]\n",
      "403 [-87.28494]\n",
      "404 [411.57095]\n",
      "405 [537.31744]\n",
      "406 [240.2772]\n",
      "407 [349.78717]\n",
      "408 [295.10214]\n",
      "409 [70.98613]\n",
      "410 [-286.6883]\n",
      "411 [311.36145]\n",
      "412 [725.7267]\n",
      "413 [359.26788]\n",
      "414 [-1241.3435]\n",
      "415 [372.61386]\n",
      "416 [669.69824]\n",
      "417 [-15.070822]\n",
      "418 [233.08461]\n",
      "419 [341.41928]\n",
      "420 [407.40897]\n",
      "421 [-1105.3688]\n",
      "422 [585.33936]\n",
      "423 [-2109.985]\n",
      "424 [893.75543]\n",
      "425 [188.86166]\n",
      "426 [286.49188]\n",
      "427 [370.38016]\n",
      "428 [635.5675]\n",
      "429 [423.8535]\n",
      "430 [235.72484]\n",
      "431 [1679.339]\n",
      "432 [2996.4263]\n",
      "433 [415.4754]\n",
      "434 [370.29752]\n",
      "435 [-885.34735]\n",
      "436 [75.395584]\n",
      "437 [437.3506]\n",
      "438 [-90.38971]\n",
      "439 [335.97552]\n",
      "440 [354.9242]\n",
      "441 [508.52637]\n",
      "442 [836.9255]\n",
      "443 [524.8513]\n",
      "444 [-1362.209]\n",
      "445 [462.56647]\n",
      "446 [350.7874]\n",
      "447 [1148.3232]\n",
      "448 [322.6102]\n",
      "449 [690.78174]\n",
      "450 [311.5451]\n",
      "451 [-501.1927]\n",
      "452 [578.51294]\n",
      "453 [-967.513]\n",
      "454 [360.65152]\n",
      "455 [252.98363]\n",
      "456 [939.70166]\n",
      "457 [1726.5776]\n",
      "458 [237.69028]\n",
      "459 [311.882]\n",
      "460 [1547.0686]\n",
      "461 [407.30957]\n",
      "462 [-2608.3179]\n",
      "463 [885.0094]\n",
      "464 [618.9124]\n",
      "465 [574.41785]\n",
      "466 [454.82413]\n",
      "467 [26.450357]\n",
      "468 [397.58316]\n",
      "469 [259.6622]\n",
      "470 [539.18994]\n",
      "471 [465.64157]\n",
      "472 [4.0026464]\n",
      "473 [515.7482]\n",
      "474 [1910.337]\n",
      "475 [229.28864]\n",
      "476 [-843.0136]\n",
      "477 [354.18118]\n",
      "478 [290.8756]\n",
      "479 [432.32495]\n",
      "480 [216.82011]\n",
      "481 [-749.49]\n",
      "482 [114.76673]\n",
      "483 [-1055.4457]\n",
      "484 [412.19998]\n",
      "485 [-363.66693]\n",
      "486 [523.61414]\n",
      "487 [-953.0338]\n",
      "488 [-829.49646]\n",
      "489 [617.4864]\n",
      "490 [481.9175]\n",
      "491 [-688.91064]\n",
      "492 [645.5036]\n",
      "493 [444.51074]\n",
      "494 [753.9972]\n",
      "495 [466.64957]\n",
      "496 [572.322]\n",
      "497 [463.28073]\n",
      "498 [584.3252]\n",
      "499 [426.98575]\n",
      "500 [603.80566]\n",
      "501 [530.7125]\n",
      "502 [325.02948]\n",
      "503 [583.7466]\n",
      "504 [-299.20828]\n"
     ]
    },
    {
     "ename": "KeyboardInterrupt",
     "evalue": "",
     "output_type": "error",
     "traceback": [
      "\u001B[0;31m---------------------------------------------------------------------------\u001B[0m",
      "\u001B[0;31mKeyboardInterrupt\u001B[0m                         Traceback (most recent call last)",
      "Cell \u001B[0;32mIn [16], line 21\u001B[0m\n\u001B[1;32m     18\u001B[0m     episode_reward \u001B[38;5;241m+\u001B[39m\u001B[38;5;241m=\u001B[39m reward\n\u001B[1;32m     20\u001B[0m     \u001B[38;5;28;01mfor\u001B[39;00m model, action \u001B[38;5;129;01min\u001B[39;00m \u001B[38;5;28mzip\u001B[39m(models, actions):\n\u001B[0;32m---> 21\u001B[0m         \u001B[43mmodel\u001B[49m\u001B[38;5;241;43m.\u001B[39;49m\u001B[43mrecord\u001B[49m\u001B[43m(\u001B[49m\u001B[43mobservation\u001B[49m\u001B[43m,\u001B[49m\u001B[43m \u001B[49m\u001B[43maction\u001B[49m\u001B[43m,\u001B[49m\u001B[43m \u001B[49m\u001B[43mnext_observation\u001B[49m\u001B[43m,\u001B[49m\u001B[43m \u001B[49m\u001B[43mreward\u001B[49m\u001B[43m,\u001B[49m\u001B[43m \u001B[49m\u001B[43mdone\u001B[49m\u001B[43m,\u001B[49m\u001B[43m \u001B[49m\u001B[43minfo\u001B[49m\u001B[43m)\u001B[49m\n\u001B[1;32m     23\u001B[0m \u001B[38;5;28;01mfor\u001B[39;00m model \u001B[38;5;129;01min\u001B[39;00m models:\n\u001B[1;32m     24\u001B[0m     model\u001B[38;5;241m.\u001B[39mend_record()\n",
      "File \u001B[0;32m~/ДЗ/ВКРv2/hai-nonconflict-action-learning/multiagent.py:50\u001B[0m, in \u001B[0;36mMultiAgentModelProxy.record\u001B[0;34m(self, observation, actions, next_observation, rewards, dones, infos)\u001B[0m\n\u001B[1;32m     47\u001B[0m \u001B[38;5;28;01mwith\u001B[39;00m th\u001B[38;5;241m.\u001B[39mno_grad():\n\u001B[1;32m     48\u001B[0m     \u001B[38;5;66;03m# Convert to pytorch tensor or to TensorDict\u001B[39;00m\n\u001B[1;32m     49\u001B[0m     obs_tensor \u001B[38;5;241m=\u001B[39m obs_as_tensor(\u001B[38;5;28mself\u001B[39m\u001B[38;5;241m.\u001B[39mmodel\u001B[38;5;241m.\u001B[39m_last_obs, \u001B[38;5;28mself\u001B[39m\u001B[38;5;241m.\u001B[39mmodel\u001B[38;5;241m.\u001B[39mdevice)\n\u001B[0;32m---> 50\u001B[0m     actions, values, log_probs \u001B[38;5;241m=\u001B[39m \u001B[38;5;28;43mself\u001B[39;49m\u001B[38;5;241;43m.\u001B[39;49m\u001B[43mmodel\u001B[49m\u001B[38;5;241;43m.\u001B[39;49m\u001B[43mpolicy\u001B[49m\u001B[43m(\u001B[49m\u001B[43mobs_tensor\u001B[49m\u001B[43m)\u001B[49m\n\u001B[1;32m     51\u001B[0m actions \u001B[38;5;241m=\u001B[39m actions\u001B[38;5;241m.\u001B[39mcpu()\u001B[38;5;241m.\u001B[39mnumpy()\n\u001B[1;32m     53\u001B[0m \u001B[38;5;28mself\u001B[39m\u001B[38;5;241m.\u001B[39mmodel\u001B[38;5;241m.\u001B[39mnum_timesteps \u001B[38;5;241m+\u001B[39m\u001B[38;5;241m=\u001B[39m \u001B[38;5;28mself\u001B[39m\u001B[38;5;241m.\u001B[39mmodel\u001B[38;5;241m.\u001B[39menv\u001B[38;5;241m.\u001B[39mnum_envs\n",
      "File \u001B[0;32m~/ДЗ/ВКРv2/hai-nonconflict-action-learning/venv/lib/python3.10/site-packages/torch/nn/modules/module.py:1190\u001B[0m, in \u001B[0;36mModule._call_impl\u001B[0;34m(self, *input, **kwargs)\u001B[0m\n\u001B[1;32m   1186\u001B[0m \u001B[38;5;66;03m# If we don't have any hooks, we want to skip the rest of the logic in\u001B[39;00m\n\u001B[1;32m   1187\u001B[0m \u001B[38;5;66;03m# this function, and just call forward.\u001B[39;00m\n\u001B[1;32m   1188\u001B[0m \u001B[38;5;28;01mif\u001B[39;00m \u001B[38;5;129;01mnot\u001B[39;00m (\u001B[38;5;28mself\u001B[39m\u001B[38;5;241m.\u001B[39m_backward_hooks \u001B[38;5;129;01mor\u001B[39;00m \u001B[38;5;28mself\u001B[39m\u001B[38;5;241m.\u001B[39m_forward_hooks \u001B[38;5;129;01mor\u001B[39;00m \u001B[38;5;28mself\u001B[39m\u001B[38;5;241m.\u001B[39m_forward_pre_hooks \u001B[38;5;129;01mor\u001B[39;00m _global_backward_hooks\n\u001B[1;32m   1189\u001B[0m         \u001B[38;5;129;01mor\u001B[39;00m _global_forward_hooks \u001B[38;5;129;01mor\u001B[39;00m _global_forward_pre_hooks):\n\u001B[0;32m-> 1190\u001B[0m     \u001B[38;5;28;01mreturn\u001B[39;00m \u001B[43mforward_call\u001B[49m\u001B[43m(\u001B[49m\u001B[38;5;241;43m*\u001B[39;49m\u001B[38;5;28;43minput\u001B[39;49m\u001B[43m,\u001B[49m\u001B[43m \u001B[49m\u001B[38;5;241;43m*\u001B[39;49m\u001B[38;5;241;43m*\u001B[39;49m\u001B[43mkwargs\u001B[49m\u001B[43m)\u001B[49m\n\u001B[1;32m   1191\u001B[0m \u001B[38;5;66;03m# Do not call functions when jit is used\u001B[39;00m\n\u001B[1;32m   1192\u001B[0m full_backward_hooks, non_full_backward_hooks \u001B[38;5;241m=\u001B[39m [], []\n",
      "File \u001B[0;32m~/ДЗ/ВКРv2/hai-nonconflict-action-learning/venv/lib/python3.10/site-packages/stable_baselines3/common/policies.py:592\u001B[0m, in \u001B[0;36mActorCriticPolicy.forward\u001B[0;34m(self, obs, deterministic)\u001B[0m\n\u001B[1;32m    590\u001B[0m distribution \u001B[38;5;241m=\u001B[39m \u001B[38;5;28mself\u001B[39m\u001B[38;5;241m.\u001B[39m_get_action_dist_from_latent(latent_pi)\n\u001B[1;32m    591\u001B[0m actions \u001B[38;5;241m=\u001B[39m distribution\u001B[38;5;241m.\u001B[39mget_actions(deterministic\u001B[38;5;241m=\u001B[39mdeterministic)\n\u001B[0;32m--> 592\u001B[0m log_prob \u001B[38;5;241m=\u001B[39m \u001B[43mdistribution\u001B[49m\u001B[38;5;241;43m.\u001B[39;49m\u001B[43mlog_prob\u001B[49m\u001B[43m(\u001B[49m\u001B[43mactions\u001B[49m\u001B[43m)\u001B[49m\n\u001B[1;32m    593\u001B[0m actions \u001B[38;5;241m=\u001B[39m actions\u001B[38;5;241m.\u001B[39mreshape((\u001B[38;5;241m-\u001B[39m\u001B[38;5;241m1\u001B[39m,) \u001B[38;5;241m+\u001B[39m \u001B[38;5;28mself\u001B[39m\u001B[38;5;241m.\u001B[39maction_space\u001B[38;5;241m.\u001B[39mshape)\n\u001B[1;32m    594\u001B[0m \u001B[38;5;28;01mreturn\u001B[39;00m actions, values, log_prob\n",
      "File \u001B[0;32m~/ДЗ/ВКРv2/hai-nonconflict-action-learning/venv/lib/python3.10/site-packages/stable_baselines3/common/distributions.py:333\u001B[0m, in \u001B[0;36mMultiCategoricalDistribution.log_prob\u001B[0;34m(self, actions)\u001B[0m\n\u001B[1;32m    330\u001B[0m \u001B[38;5;28;01mdef\u001B[39;00m \u001B[38;5;21mlog_prob\u001B[39m(\u001B[38;5;28mself\u001B[39m, actions: th\u001B[38;5;241m.\u001B[39mTensor) \u001B[38;5;241m-\u001B[39m\u001B[38;5;241m>\u001B[39m th\u001B[38;5;241m.\u001B[39mTensor:\n\u001B[1;32m    331\u001B[0m     \u001B[38;5;66;03m# Extract each discrete action and compute log prob for their respective distributions\u001B[39;00m\n\u001B[1;32m    332\u001B[0m     \u001B[38;5;28;01mreturn\u001B[39;00m th\u001B[38;5;241m.\u001B[39mstack(\n\u001B[0;32m--> 333\u001B[0m         [dist\u001B[38;5;241m.\u001B[39mlog_prob(action) \u001B[38;5;28;01mfor\u001B[39;00m dist, action \u001B[38;5;129;01min\u001B[39;00m \u001B[38;5;28mzip\u001B[39m(\u001B[38;5;28mself\u001B[39m\u001B[38;5;241m.\u001B[39mdistribution, th\u001B[38;5;241m.\u001B[39munbind(actions, dim\u001B[38;5;241m=\u001B[39m\u001B[38;5;241m1\u001B[39m))], dim\u001B[38;5;241m=\u001B[39m\u001B[38;5;241m1\u001B[39m\n\u001B[1;32m    334\u001B[0m     )\u001B[38;5;241m.\u001B[39msum(dim\u001B[38;5;241m=\u001B[39m\u001B[38;5;241m1\u001B[39m)\n",
      "File \u001B[0;32m~/ДЗ/ВКРv2/hai-nonconflict-action-learning/venv/lib/python3.10/site-packages/stable_baselines3/common/distributions.py:333\u001B[0m, in \u001B[0;36m<listcomp>\u001B[0;34m(.0)\u001B[0m\n\u001B[1;32m    330\u001B[0m \u001B[38;5;28;01mdef\u001B[39;00m \u001B[38;5;21mlog_prob\u001B[39m(\u001B[38;5;28mself\u001B[39m, actions: th\u001B[38;5;241m.\u001B[39mTensor) \u001B[38;5;241m-\u001B[39m\u001B[38;5;241m>\u001B[39m th\u001B[38;5;241m.\u001B[39mTensor:\n\u001B[1;32m    331\u001B[0m     \u001B[38;5;66;03m# Extract each discrete action and compute log prob for their respective distributions\u001B[39;00m\n\u001B[1;32m    332\u001B[0m     \u001B[38;5;28;01mreturn\u001B[39;00m th\u001B[38;5;241m.\u001B[39mstack(\n\u001B[0;32m--> 333\u001B[0m         [\u001B[43mdist\u001B[49m\u001B[38;5;241;43m.\u001B[39;49m\u001B[43mlog_prob\u001B[49m\u001B[43m(\u001B[49m\u001B[43maction\u001B[49m\u001B[43m)\u001B[49m \u001B[38;5;28;01mfor\u001B[39;00m dist, action \u001B[38;5;129;01min\u001B[39;00m \u001B[38;5;28mzip\u001B[39m(\u001B[38;5;28mself\u001B[39m\u001B[38;5;241m.\u001B[39mdistribution, th\u001B[38;5;241m.\u001B[39munbind(actions, dim\u001B[38;5;241m=\u001B[39m\u001B[38;5;241m1\u001B[39m))], dim\u001B[38;5;241m=\u001B[39m\u001B[38;5;241m1\u001B[39m\n\u001B[1;32m    334\u001B[0m     )\u001B[38;5;241m.\u001B[39msum(dim\u001B[38;5;241m=\u001B[39m\u001B[38;5;241m1\u001B[39m)\n",
      "\u001B[0;31mKeyboardInterrupt\u001B[0m: "
     ]
    }
   ],
   "source": [
    "for model in models:\n",
    "    model.start_learning(timesteps)\n",
    "\n",
    "for time in range(timesteps):\n",
    "    done = False\n",
    "    episode_reward = 0\n",
    "    observation = env.reset()\n",
    "\n",
    "    while not done:\n",
    "        actions = [np.reshape(model.predict(observation)[0], (-1, 2)) for model in models+static_models]\n",
    "        total_action = np.concatenate(np.concatenate(actions))\n",
    "\n",
    "        for model in models:\n",
    "            model.start_record()\n",
    "\n",
    "        for step in range(n_records_count):\n",
    "            next_observation, reward, done, info = env.step(np.array([total_action]))\n",
    "            episode_reward += reward\n",
    "\n",
    "            for model, action in zip(models, actions):\n",
    "                model.record(observation, action, next_observation, reward, done, info)\n",
    "\n",
    "        for model in models:\n",
    "            model.end_record()\n",
    "            model.train()\n",
    "\n",
    "    if episode_reward > max_episode_reward:\n",
    "        max_episode_reward = episode_reward\n",
    "        for index, model in enumerate(models):\n",
    "            model.model.save(f\"models/footbol2v2-a2c-{index}\")\n",
    "    print(time, episode_reward)"
   ],
   "metadata": {
    "collapsed": false
   }
  },
  {
   "cell_type": "markdown",
   "source": [
    "## Load and visualise"
   ],
   "metadata": {
    "collapsed": false
   }
  },
  {
   "cell_type": "code",
   "execution_count": 17,
   "outputs": [],
   "source": [
    "models = [A2C.load(f\"models/footbol2v2-a2c-{index}\", device=\"cpu\") for index in range(2)]"
   ],
   "metadata": {
    "collapsed": false
   }
  },
  {
   "cell_type": "code",
   "execution_count": 18,
   "outputs": [
    {
     "data": {
      "text/plain": "<Figure size 640x480 with 1 Axes>",
      "image/png": "[encoded data removed]"
     },
     "metadata": {},
     "output_type": "display_data"
    }
   ],
   "source": [
    "env = gym.make(\"Futbol2v2-v1\")\n",
    "\n",
    "static_models = [\n",
    "    utils.RandomStaticAgent(utils.TransformAction(env, lambda a: a[2:4], gym.spaces.MultiDiscrete([5, 5]))),\n",
    "    utils.RandomStaticAgent(utils.TransformAction(env, lambda a: a[2:4], gym.spaces.MultiDiscrete([5, 5])))\n",
    "]\n",
    "multi_agent = utils.MultiModelAgent(models+static_models)\n",
    "\n",
    "visualizer = utils.MatplotlibVisualizer(env)\n",
    "visualizer.run(multi_agent)\n",
    "\n",
    "env.close()"
   ],
   "metadata": {
    "collapsed": false
   }
  },
  {
   "cell_type": "code",
   "execution_count": null,
   "outputs": [],
   "source": [],
   "metadata": {
    "collapsed": false
   }
  }
 ],
 "metadata": {
  "kernelspec": {
   "display_name": "Python 3",
   "language": "python",
   "name": "python3"
  },
  "language_info": {
   "codemirror_mode": {
    "name": "ipython",
    "version": 2
   },
   "file_extension": ".py",
   "mimetype": "text/x-python",
   "name": "python",
   "nbconvert_exporter": "python",
   "pygments_lexer": "ipython2",
   "version": "2.7.6"
  }
 },
 "nbformat": 4,
 "nbformat_minor": 0
}
